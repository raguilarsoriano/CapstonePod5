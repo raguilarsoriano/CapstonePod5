{
 "cells": [
  {
   "cell_type": "markdown",
   "id": "9a7fb173",
   "metadata": {},
   "source": [
    "## Data Cleaning and merging dataframes\n",
    "\n",
    "In this notebook, we'll work with `movie_basics` and `movie_ratings` tables from `'im.db'`. As well as `'tn.movie_budget.csv'`.\n",
    "\n",
    "Before we can get going, we'll need to import the relevant packages and conncet to the database."
   ]
  },
  {
   "cell_type": "code",
   "execution_count": 149,
   "id": "1fb392b8",
   "metadata": {},
   "outputs": [],
   "source": [
    "import pandas as pd\n",
    "import numpy as np\n",
    "import matplotlib.pyplot as plt\n",
    "import matplotlib.ticker as mtick\n",
    "%matplotlib inline\n",
    "import seaborn as sns\n",
    "import statsmodels.api as sm\n",
    "from statsmodels.formula.api import ols\n",
    "from sklearn.linear_model import LinearRegression\n",
    "from scipy.stats import pearsonr\n",
    "from scipy import stats\n",
    "import sqlite3\n",
    "conn = sqlite3.connect('im.db')"
   ]
  },
  {
   "cell_type": "markdown",
   "id": "db116287",
   "metadata": {},
   "source": [
    "In this notebook we'll focus on the `movie_basics` and `movie_ratings`."
   ]
  },
  {
   "cell_type": "markdown",
   "id": "105298cd",
   "metadata": {},
   "source": [
    "## Compared to the Individual Tables:"
   ]
  },
  {
   "cell_type": "markdown",
   "id": "16a9e8cf",
   "metadata": {},
   "source": [
    "### `movie_basics` Table:"
   ]
  },
  {
   "cell_type": "code",
   "execution_count": 49,
   "id": "a6dd3484",
   "metadata": {},
   "outputs": [
    {
     "data": {
      "text/html": [
       "<div>\n",
       "<style scoped>\n",
       "    .dataframe tbody tr th:only-of-type {\n",
       "        vertical-align: middle;\n",
       "    }\n",
       "\n",
       "    .dataframe tbody tr th {\n",
       "        vertical-align: top;\n",
       "    }\n",
       "\n",
       "    .dataframe thead th {\n",
       "        text-align: right;\n",
       "    }\n",
       "</style>\n",
       "<table border=\"1\" class=\"dataframe\">\n",
       "  <thead>\n",
       "    <tr style=\"text-align: right;\">\n",
       "      <th></th>\n",
       "      <th>movie_id</th>\n",
       "      <th>primary_title</th>\n",
       "      <th>original_title</th>\n",
       "      <th>start_year</th>\n",
       "      <th>runtime_minutes</th>\n",
       "      <th>genres</th>\n",
       "    </tr>\n",
       "  </thead>\n",
       "  <tbody>\n",
       "    <tr>\n",
       "      <th>0</th>\n",
       "      <td>tt0063540</td>\n",
       "      <td>Sunghursh</td>\n",
       "      <td>Sunghursh</td>\n",
       "      <td>2013</td>\n",
       "      <td>175.0</td>\n",
       "      <td>Action,Crime,Drama</td>\n",
       "    </tr>\n",
       "    <tr>\n",
       "      <th>1</th>\n",
       "      <td>tt0066787</td>\n",
       "      <td>One Day Before the Rainy Season</td>\n",
       "      <td>Ashad Ka Ek Din</td>\n",
       "      <td>2019</td>\n",
       "      <td>114.0</td>\n",
       "      <td>Biography,Drama</td>\n",
       "    </tr>\n",
       "    <tr>\n",
       "      <th>2</th>\n",
       "      <td>tt0069049</td>\n",
       "      <td>The Other Side of the Wind</td>\n",
       "      <td>The Other Side of the Wind</td>\n",
       "      <td>2018</td>\n",
       "      <td>122.0</td>\n",
       "      <td>Drama</td>\n",
       "    </tr>\n",
       "    <tr>\n",
       "      <th>3</th>\n",
       "      <td>tt0069204</td>\n",
       "      <td>Sabse Bada Sukh</td>\n",
       "      <td>Sabse Bada Sukh</td>\n",
       "      <td>2018</td>\n",
       "      <td>NaN</td>\n",
       "      <td>Comedy,Drama</td>\n",
       "    </tr>\n",
       "    <tr>\n",
       "      <th>4</th>\n",
       "      <td>tt0100275</td>\n",
       "      <td>The Wandering Soap Opera</td>\n",
       "      <td>La Telenovela Errante</td>\n",
       "      <td>2017</td>\n",
       "      <td>80.0</td>\n",
       "      <td>Comedy,Drama,Fantasy</td>\n",
       "    </tr>\n",
       "  </tbody>\n",
       "</table>\n",
       "</div>"
      ],
      "text/plain": [
       "    movie_id                    primary_title              original_title  \\\n",
       "0  tt0063540                        Sunghursh                   Sunghursh   \n",
       "1  tt0066787  One Day Before the Rainy Season             Ashad Ka Ek Din   \n",
       "2  tt0069049       The Other Side of the Wind  The Other Side of the Wind   \n",
       "3  tt0069204                  Sabse Bada Sukh             Sabse Bada Sukh   \n",
       "4  tt0100275         The Wandering Soap Opera       La Telenovela Errante   \n",
       "\n",
       "   start_year  runtime_minutes                genres  \n",
       "0        2013            175.0    Action,Crime,Drama  \n",
       "1        2019            114.0       Biography,Drama  \n",
       "2        2018            122.0                 Drama  \n",
       "3        2018              NaN          Comedy,Drama  \n",
       "4        2017             80.0  Comedy,Drama,Fantasy  "
      ]
     },
     "execution_count": 49,
     "metadata": {},
     "output_type": "execute_result"
    }
   ],
   "source": [
    "q = \"\"\"\n",
    "SELECT *\n",
    "FROM movie_basics\n",
    "\"\"\"\n",
    "pd.read_sql(q, conn).head(5)"
   ]
  },
  {
   "cell_type": "markdown",
   "id": "e8ed87e5",
   "metadata": {},
   "source": [
    "### `movie_ratings` Table:"
   ]
  },
  {
   "cell_type": "code",
   "execution_count": 50,
   "id": "0fe60790",
   "metadata": {},
   "outputs": [
    {
     "data": {
      "text/html": [
       "<div>\n",
       "<style scoped>\n",
       "    .dataframe tbody tr th:only-of-type {\n",
       "        vertical-align: middle;\n",
       "    }\n",
       "\n",
       "    .dataframe tbody tr th {\n",
       "        vertical-align: top;\n",
       "    }\n",
       "\n",
       "    .dataframe thead th {\n",
       "        text-align: right;\n",
       "    }\n",
       "</style>\n",
       "<table border=\"1\" class=\"dataframe\">\n",
       "  <thead>\n",
       "    <tr style=\"text-align: right;\">\n",
       "      <th></th>\n",
       "      <th>movie_id</th>\n",
       "      <th>averagerating</th>\n",
       "      <th>numvotes</th>\n",
       "    </tr>\n",
       "  </thead>\n",
       "  <tbody>\n",
       "    <tr>\n",
       "      <th>0</th>\n",
       "      <td>tt10356526</td>\n",
       "      <td>8.3</td>\n",
       "      <td>31</td>\n",
       "    </tr>\n",
       "    <tr>\n",
       "      <th>1</th>\n",
       "      <td>tt10384606</td>\n",
       "      <td>8.9</td>\n",
       "      <td>559</td>\n",
       "    </tr>\n",
       "    <tr>\n",
       "      <th>2</th>\n",
       "      <td>tt1042974</td>\n",
       "      <td>6.4</td>\n",
       "      <td>20</td>\n",
       "    </tr>\n",
       "    <tr>\n",
       "      <th>3</th>\n",
       "      <td>tt1043726</td>\n",
       "      <td>4.2</td>\n",
       "      <td>50352</td>\n",
       "    </tr>\n",
       "    <tr>\n",
       "      <th>4</th>\n",
       "      <td>tt1060240</td>\n",
       "      <td>6.5</td>\n",
       "      <td>21</td>\n",
       "    </tr>\n",
       "  </tbody>\n",
       "</table>\n",
       "</div>"
      ],
      "text/plain": [
       "     movie_id  averagerating  numvotes\n",
       "0  tt10356526            8.3        31\n",
       "1  tt10384606            8.9       559\n",
       "2   tt1042974            6.4        20\n",
       "3   tt1043726            4.2     50352\n",
       "4   tt1060240            6.5        21"
      ]
     },
     "execution_count": 50,
     "metadata": {},
     "output_type": "execute_result"
    }
   ],
   "source": [
    "q = \"\"\"\n",
    "SELECT *\n",
    "FROM movie_ratings\n",
    "\"\"\"\n",
    "pd.read_sql(q, conn).head(5)"
   ]
  },
  {
   "cell_type": "markdown",
   "id": "3fa703e9",
   "metadata": {},
   "source": [
    "## Displaying movie_basics Along with movie_ratings\n",
    "\n",
    "Since we need to generate a table that includes details about ` movie_basics`  and ` movie_ratings`, we would need to take data from multiple tables in a single statement using a concise way to join the tables, the `USING` clause. Which in this case is `movie_id`. Again, this only works if the column is **identically named** for both tables.\n",
    "\n",
    "Then we assign the result of the querry to a variable names `df`, which is a dataframe. "
   ]
  },
  {
   "cell_type": "code",
   "execution_count": 51,
   "id": "b7e8b663",
   "metadata": {},
   "outputs": [],
   "source": [
    "q = \"\"\"\n",
    "SELECT\n",
    "    movie_id, \n",
    "    primary_title,\n",
    "    genres,\n",
    "    averagerating,\n",
    "    numvotes\n",
    "FROM movie_basics\n",
    "JOIN movie_ratings\n",
    "    USING (movie_id)\n",
    "\"\"\"\n",
    "df = pd.read_sql(q, conn)"
   ]
  },
  {
   "cell_type": "markdown",
   "id": "3c3cc2a1",
   "metadata": {},
   "source": [
    "To get a concise summary of the dataframe, you can use `.info()`: "
   ]
  },
  {
   "cell_type": "code",
   "execution_count": 52,
   "id": "a67867b5",
   "metadata": {},
   "outputs": [
    {
     "name": "stdout",
     "output_type": "stream",
     "text": [
      "<class 'pandas.core.frame.DataFrame'>\n",
      "RangeIndex: 73856 entries, 0 to 73855\n",
      "Data columns (total 5 columns):\n",
      " #   Column         Non-Null Count  Dtype  \n",
      "---  ------         --------------  -----  \n",
      " 0   movie_id       73856 non-null  object \n",
      " 1   primary_title  73856 non-null  object \n",
      " 2   genres         73052 non-null  object \n",
      " 3   averagerating  73856 non-null  float64\n",
      " 4   numvotes       73856 non-null  int64  \n",
      "dtypes: float64(1), int64(1), object(3)\n",
      "memory usage: 2.8+ MB\n"
     ]
    }
   ],
   "source": [
    "df.info()"
   ]
  },
  {
   "cell_type": "markdown",
   "id": "eb8e365b",
   "metadata": {},
   "source": [
    "## Nan (Not a Number):\n",
    "When working with datasets, it is common to have missing or `NaN (Not a Number)` values. In order to understand the extent of missing data in a dataset, you can use the `.isna()` method to identify where the `NaN` values are located. Taking the `.sum()` of the `.isna(`) method will return the total number of NaN values in the dataset broken down by column."
   ]
  },
  {
   "cell_type": "code",
   "execution_count": 53,
   "id": "254215ec",
   "metadata": {},
   "outputs": [
    {
     "data": {
      "text/plain": [
       "movie_id           0\n",
       "primary_title      0\n",
       "genres           804\n",
       "averagerating      0\n",
       "numvotes           0\n",
       "dtype: int64"
      ]
     },
     "execution_count": 53,
     "metadata": {},
     "output_type": "execute_result"
    }
   ],
   "source": [
    "df.isna().sum()"
   ]
  },
  {
   "cell_type": "markdown",
   "id": "1ea3481f",
   "metadata": {},
   "source": [
    "Since the `'genre'` is a categorical data and the missing values accounts for only 1 % of our data we decided to drop the rows that contained null values using the built-in function `.dropna()`. Since we are creating a new df, a new name will be given to it as `df_nonull_genres`."
   ]
  },
  {
   "cell_type": "code",
   "execution_count": 54,
   "id": "0f722b9a",
   "metadata": {},
   "outputs": [],
   "source": [
    "df_nonull_genres = df.dropna(axis = 0)"
   ]
  },
  {
   "cell_type": "markdown",
   "id": "ff6666eb",
   "metadata": {},
   "source": [
    "Lets print the shape of our new df. Next, display the total number of `NaN` values in the dataset broken down by column."
   ]
  },
  {
   "cell_type": "code",
   "execution_count": 55,
   "id": "aaa55001",
   "metadata": {},
   "outputs": [
    {
     "data": {
      "text/plain": [
       "(73052, 5)"
      ]
     },
     "execution_count": 55,
     "metadata": {},
     "output_type": "execute_result"
    }
   ],
   "source": [
    "df_nonull_genres.shape"
   ]
  },
  {
   "cell_type": "code",
   "execution_count": 56,
   "id": "e22f55dd",
   "metadata": {},
   "outputs": [
    {
     "data": {
      "text/plain": [
       "movie_id         0\n",
       "primary_title    0\n",
       "genres           0\n",
       "averagerating    0\n",
       "numvotes         0\n",
       "dtype: int64"
      ]
     },
     "execution_count": 56,
     "metadata": {},
     "output_type": "execute_result"
    }
   ],
   "source": [
    "df_nonull_genres.isna().sum()"
   ]
  },
  {
   "cell_type": "markdown",
   "id": "de7acbc6",
   "metadata": {},
   "source": [
    "Since, we dont have any other missing data to deal with, lets focus on finding duplicate movie titles using `.dulpicated()` and `.value_counts()`. Lets display the total amount of dulpicated rows. Subsequently, break it down by frequency for each movie title. "
   ]
  },
  {
   "cell_type": "code",
   "execution_count": 57,
   "id": "c6180912",
   "metadata": {},
   "outputs": [
    {
     "data": {
      "text/plain": [
       "False    69248\n",
       "True      3804\n",
       "Name: primary_title, dtype: int64"
      ]
     },
     "execution_count": 57,
     "metadata": {},
     "output_type": "execute_result"
    }
   ],
   "source": [
    "df_nonull_genres['primary_title'].duplicated().value_counts()"
   ]
  },
  {
   "cell_type": "code",
   "execution_count": 58,
   "id": "f2afee2c",
   "metadata": {},
   "outputs": [
    {
     "data": {
      "text/plain": [
       "The Return           10\n",
       "Broken                9\n",
       "Lucky                 8\n",
       "Homecoming            8\n",
       "Together              8\n",
       "                     ..\n",
       "Checkmate             1\n",
       "Won't Back Down       1\n",
       "Political Animals     1\n",
       "Dead Awake            1\n",
       "Drømmeland            1\n",
       "Name: primary_title, Length: 2705, dtype: int64"
      ]
     },
     "execution_count": 58,
     "metadata": {},
     "output_type": "execute_result"
    }
   ],
   "source": [
    "df_nonull_genres[df_nonull_genres['primary_title'].duplicated()]['primary_title'].value_counts()"
   ]
  },
  {
   "cell_type": "markdown",
   "id": "0861a85d",
   "metadata": {},
   "source": [
    "The df shows 69248 `non-duplicated` values. A common practice would be to handle them properly but for  scope purposes of our study, which means we are time-limited,  lets just keep them in mind. Then, lets take a look on the second dataframe.\n",
    "\n",
    "The second `df` can be found on `'tn.movie_budget.csv'`. Now, let's get started by reading in the data  and storing it the DataFrame `movie_budget`. Afterwárds, lets preview the data."
   ]
  },
  {
   "cell_type": "code",
   "execution_count": 59,
   "id": "39bb75de",
   "metadata": {},
   "outputs": [
    {
     "data": {
      "text/html": [
       "<div>\n",
       "<style scoped>\n",
       "    .dataframe tbody tr th:only-of-type {\n",
       "        vertical-align: middle;\n",
       "    }\n",
       "\n",
       "    .dataframe tbody tr th {\n",
       "        vertical-align: top;\n",
       "    }\n",
       "\n",
       "    .dataframe thead th {\n",
       "        text-align: right;\n",
       "    }\n",
       "</style>\n",
       "<table border=\"1\" class=\"dataframe\">\n",
       "  <thead>\n",
       "    <tr style=\"text-align: right;\">\n",
       "      <th></th>\n",
       "      <th>id</th>\n",
       "      <th>release_date</th>\n",
       "      <th>movie</th>\n",
       "      <th>production_budget</th>\n",
       "      <th>domestic_gross</th>\n",
       "      <th>worldwide_gross</th>\n",
       "    </tr>\n",
       "  </thead>\n",
       "  <tbody>\n",
       "    <tr>\n",
       "      <th>0</th>\n",
       "      <td>1</td>\n",
       "      <td>18-Dec-09</td>\n",
       "      <td>Avatar</td>\n",
       "      <td>$425,000,000</td>\n",
       "      <td>$760,507,625</td>\n",
       "      <td>$2,776,345,279</td>\n",
       "    </tr>\n",
       "    <tr>\n",
       "      <th>1</th>\n",
       "      <td>2</td>\n",
       "      <td>20-May-11</td>\n",
       "      <td>Pirates of the Caribbean: On Stranger Tides</td>\n",
       "      <td>$410,600,000</td>\n",
       "      <td>$241,063,875</td>\n",
       "      <td>$1,045,663,875</td>\n",
       "    </tr>\n",
       "    <tr>\n",
       "      <th>2</th>\n",
       "      <td>3</td>\n",
       "      <td>7-Jun-19</td>\n",
       "      <td>Dark Phoenix</td>\n",
       "      <td>$350,000,000</td>\n",
       "      <td>$42,762,350</td>\n",
       "      <td>$149,762,350</td>\n",
       "    </tr>\n",
       "    <tr>\n",
       "      <th>3</th>\n",
       "      <td>4</td>\n",
       "      <td>1-May-15</td>\n",
       "      <td>Avengers: Age of Ultron</td>\n",
       "      <td>$330,600,000</td>\n",
       "      <td>$459,005,868</td>\n",
       "      <td>$1,403,013,963</td>\n",
       "    </tr>\n",
       "    <tr>\n",
       "      <th>4</th>\n",
       "      <td>5</td>\n",
       "      <td>15-Dec-17</td>\n",
       "      <td>Star Wars Ep. VIII: The Last Jedi</td>\n",
       "      <td>$317,000,000</td>\n",
       "      <td>$620,181,382</td>\n",
       "      <td>$1,316,721,747</td>\n",
       "    </tr>\n",
       "  </tbody>\n",
       "</table>\n",
       "</div>"
      ],
      "text/plain": [
       "   id release_date                                        movie  \\\n",
       "0   1    18-Dec-09                                       Avatar   \n",
       "1   2    20-May-11  Pirates of the Caribbean: On Stranger Tides   \n",
       "2   3     7-Jun-19                                 Dark Phoenix   \n",
       "3   4     1-May-15                      Avengers: Age of Ultron   \n",
       "4   5    15-Dec-17            Star Wars Ep. VIII: The Last Jedi   \n",
       "\n",
       "  production_budget domestic_gross  worldwide_gross  \n",
       "0     $425,000,000   $760,507,625   $2,776,345,279   \n",
       "1     $410,600,000   $241,063,875   $1,045,663,875   \n",
       "2     $350,000,000    $42,762,350     $149,762,350   \n",
       "3     $330,600,000   $459,005,868   $1,403,013,963   \n",
       "4     $317,000,000   $620,181,382   $1,316,721,747   "
      ]
     },
     "execution_count": 59,
     "metadata": {},
     "output_type": "execute_result"
    }
   ],
   "source": [
    "movie_budget = pd.read_csv('tn.movie_budgets.csv')\n",
    "movie_budget.head()"
   ]
  },
  {
   "cell_type": "markdown",
   "id": "9b41043d",
   "metadata": {},
   "source": [
    "`production_budget`, `domestic_gross`, and `worldwide_gross` are strings, so we will remove the commas and dollar signs"
   ]
  },
  {
   "cell_type": "code",
   "execution_count": 60,
   "id": "fcfbfa28",
   "metadata": {},
   "outputs": [
    {
     "name": "stderr",
     "output_type": "stream",
     "text": [
      "C:\\Users\\raguilarsoriano\\AppData\\Local\\Temp\\ipykernel_23376\\3322509581.py:1: FutureWarning: The default value of regex will change from True to False in a future version. In addition, single character regular expressions will *not* be treated as literal strings when regex=True.\n",
      "  movie_budget['production_budget'] = movie_budget['production_budget'].str.replace('$', '').str.replace(',', '')\n",
      "C:\\Users\\raguilarsoriano\\AppData\\Local\\Temp\\ipykernel_23376\\3322509581.py:2: FutureWarning: The default value of regex will change from True to False in a future version. In addition, single character regular expressions will *not* be treated as literal strings when regex=True.\n",
      "  movie_budget['domestic_gross'] = movie_budget['domestic_gross'].str.replace('$', '').str.replace(',', '')\n",
      "C:\\Users\\raguilarsoriano\\AppData\\Local\\Temp\\ipykernel_23376\\3322509581.py:3: FutureWarning: The default value of regex will change from True to False in a future version. In addition, single character regular expressions will *not* be treated as literal strings when regex=True.\n",
      "  movie_budget['worldwide_gross'] = movie_budget['worldwide_gross'].str.replace('$', '').str.replace(',', '')\n"
     ]
    }
   ],
   "source": [
    "movie_budget['production_budget'] = movie_budget['production_budget'].str.replace('$', '').str.replace(',', '')\n",
    "movie_budget['domestic_gross'] = movie_budget['domestic_gross'].str.replace('$', '').str.replace(',', '')\n",
    "movie_budget['worldwide_gross'] = movie_budget['worldwide_gross'].str.replace('$', '').str.replace(',', '')"
   ]
  },
  {
   "cell_type": "markdown",
   "id": "50367595",
   "metadata": {},
   "source": [
    "`production_budget`, `domestic_gross`, and `worldwide_gross` are still strings, so we will change them to integers to be able to perform calculations with those columns"
   ]
  },
  {
   "cell_type": "code",
   "execution_count": 61,
   "id": "1f54410f",
   "metadata": {},
   "outputs": [],
   "source": [
    "movie_budget['production_budget'] = movie_budget['production_budget'].astype('int64')\n",
    "movie_budget['domestic_gross'] = movie_budget['domestic_gross'].astype('int64')\n",
    "movie_budget['worldwide_gross'] = movie_budget['worldwide_gross'].astype('int64')"
   ]
  },
  {
   "cell_type": "markdown",
   "id": "4d6dfaf9",
   "metadata": {},
   "source": [
    "A concise summary will be provided using `.info()`."
   ]
  },
  {
   "cell_type": "code",
   "execution_count": 62,
   "id": "59018699",
   "metadata": {},
   "outputs": [
    {
     "name": "stdout",
     "output_type": "stream",
     "text": [
      "<class 'pandas.core.frame.DataFrame'>\n",
      "RangeIndex: 5782 entries, 0 to 5781\n",
      "Data columns (total 6 columns):\n",
      " #   Column             Non-Null Count  Dtype \n",
      "---  ------             --------------  ----- \n",
      " 0   id                 5782 non-null   int64 \n",
      " 1   release_date       5782 non-null   object\n",
      " 2   movie              5782 non-null   object\n",
      " 3   production_budget  5782 non-null   int64 \n",
      " 4   domestic_gross     5782 non-null   int64 \n",
      " 5   worldwide_gross    5782 non-null   int64 \n",
      "dtypes: int64(4), object(2)\n",
      "memory usage: 271.2+ KB\n"
     ]
    }
   ],
   "source": [
    "movie_budget.info()"
   ]
  },
  {
   "cell_type": "markdown",
   "id": "08d27489",
   "metadata": {},
   "source": [
    "The above summary contains also the amount of null values brake down by columns. Since we don´t have missing data to deal with, we can move into merging `movie_budget`df and `df_nonull_genres` df. \n",
    "\n",
    "For doing so, lets print a short preview for both Dataframes. Focus on the column names."
   ]
  },
  {
   "cell_type": "code",
   "execution_count": 63,
   "id": "672cca51",
   "metadata": {},
   "outputs": [
    {
     "data": {
      "text/html": [
       "<div>\n",
       "<style scoped>\n",
       "    .dataframe tbody tr th:only-of-type {\n",
       "        vertical-align: middle;\n",
       "    }\n",
       "\n",
       "    .dataframe tbody tr th {\n",
       "        vertical-align: top;\n",
       "    }\n",
       "\n",
       "    .dataframe thead th {\n",
       "        text-align: right;\n",
       "    }\n",
       "</style>\n",
       "<table border=\"1\" class=\"dataframe\">\n",
       "  <thead>\n",
       "    <tr style=\"text-align: right;\">\n",
       "      <th></th>\n",
       "      <th>movie_id</th>\n",
       "      <th>primary_title</th>\n",
       "      <th>genres</th>\n",
       "      <th>averagerating</th>\n",
       "      <th>numvotes</th>\n",
       "    </tr>\n",
       "  </thead>\n",
       "  <tbody>\n",
       "    <tr>\n",
       "      <th>0</th>\n",
       "      <td>tt0063540</td>\n",
       "      <td>Sunghursh</td>\n",
       "      <td>Action,Crime,Drama</td>\n",
       "      <td>7.0</td>\n",
       "      <td>77</td>\n",
       "    </tr>\n",
       "    <tr>\n",
       "      <th>1</th>\n",
       "      <td>tt0066787</td>\n",
       "      <td>One Day Before the Rainy Season</td>\n",
       "      <td>Biography,Drama</td>\n",
       "      <td>7.2</td>\n",
       "      <td>43</td>\n",
       "    </tr>\n",
       "  </tbody>\n",
       "</table>\n",
       "</div>"
      ],
      "text/plain": [
       "    movie_id                    primary_title              genres  \\\n",
       "0  tt0063540                        Sunghursh  Action,Crime,Drama   \n",
       "1  tt0066787  One Day Before the Rainy Season     Biography,Drama   \n",
       "\n",
       "   averagerating  numvotes  \n",
       "0            7.0        77  \n",
       "1            7.2        43  "
      ]
     },
     "execution_count": 63,
     "metadata": {},
     "output_type": "execute_result"
    }
   ],
   "source": [
    "df_nonull_genres.head(2)"
   ]
  },
  {
   "cell_type": "markdown",
   "id": "a5cfa315",
   "metadata": {},
   "source": [
    "`movie_budget` df:"
   ]
  },
  {
   "cell_type": "code",
   "execution_count": 64,
   "id": "99092364",
   "metadata": {},
   "outputs": [
    {
     "data": {
      "text/html": [
       "<div>\n",
       "<style scoped>\n",
       "    .dataframe tbody tr th:only-of-type {\n",
       "        vertical-align: middle;\n",
       "    }\n",
       "\n",
       "    .dataframe tbody tr th {\n",
       "        vertical-align: top;\n",
       "    }\n",
       "\n",
       "    .dataframe thead th {\n",
       "        text-align: right;\n",
       "    }\n",
       "</style>\n",
       "<table border=\"1\" class=\"dataframe\">\n",
       "  <thead>\n",
       "    <tr style=\"text-align: right;\">\n",
       "      <th></th>\n",
       "      <th>id</th>\n",
       "      <th>release_date</th>\n",
       "      <th>movie</th>\n",
       "      <th>production_budget</th>\n",
       "      <th>domestic_gross</th>\n",
       "      <th>worldwide_gross</th>\n",
       "    </tr>\n",
       "  </thead>\n",
       "  <tbody>\n",
       "    <tr>\n",
       "      <th>0</th>\n",
       "      <td>1</td>\n",
       "      <td>18-Dec-09</td>\n",
       "      <td>Avatar</td>\n",
       "      <td>425000000</td>\n",
       "      <td>760507625</td>\n",
       "      <td>2776345279</td>\n",
       "    </tr>\n",
       "    <tr>\n",
       "      <th>1</th>\n",
       "      <td>2</td>\n",
       "      <td>20-May-11</td>\n",
       "      <td>Pirates of the Caribbean: On Stranger Tides</td>\n",
       "      <td>410600000</td>\n",
       "      <td>241063875</td>\n",
       "      <td>1045663875</td>\n",
       "    </tr>\n",
       "  </tbody>\n",
       "</table>\n",
       "</div>"
      ],
      "text/plain": [
       "   id release_date                                        movie  \\\n",
       "0   1    18-Dec-09                                       Avatar   \n",
       "1   2    20-May-11  Pirates of the Caribbean: On Stranger Tides   \n",
       "\n",
       "   production_budget  domestic_gross  worldwide_gross  \n",
       "0          425000000       760507625       2776345279  \n",
       "1          410600000       241063875       1045663875  "
      ]
     },
     "execution_count": 64,
     "metadata": {},
     "output_type": "execute_result"
    }
   ],
   "source": [
    "movie_budget.head(2)"
   ]
  },
  {
   "cell_type": "markdown",
   "id": "5649e0df",
   "metadata": {},
   "source": [
    "As you can see, the column which displays the movie title is different in both Dataframes. `df_nonull_genres` uses `'primary_title'`while `movie_budget` uses `'movie'`. \n",
    "\n",
    "We need to set them equal to use the column name as a key for merging both Dataframes into one. Will set both columns names as `'movie'`. In this case,  `df_nonull_genres` is the one selected to change its column name. "
   ]
  },
  {
   "cell_type": "code",
   "execution_count": 65,
   "id": "045909ed",
   "metadata": {},
   "outputs": [
    {
     "name": "stderr",
     "output_type": "stream",
     "text": [
      "C:\\Users\\raguilarsoriano\\AppData\\Local\\Temp\\ipykernel_23376\\3490391291.py:1: SettingWithCopyWarning: \n",
      "A value is trying to be set on a copy of a slice from a DataFrame\n",
      "\n",
      "See the caveats in the documentation: https://pandas.pydata.org/pandas-docs/stable/user_guide/indexing.html#returning-a-view-versus-a-copy\n",
      "  df_nonull_genres.rename(columns={'primary_title' : 'movie'}, inplace = True)\n"
     ]
    }
   ],
   "source": [
    "df_nonull_genres.rename(columns={'primary_title' : 'movie'}, inplace = True)"
   ]
  },
  {
   "cell_type": "markdown",
   "id": "bbdfffbb",
   "metadata": {},
   "source": [
    "Lets view the column labels of the DataFrame `df_nonull_genres`."
   ]
  },
  {
   "cell_type": "code",
   "execution_count": 66,
   "id": "b7f7b1c6",
   "metadata": {},
   "outputs": [
    {
     "data": {
      "text/plain": [
       "Index(['movie_id', 'movie', 'genres', 'averagerating', 'numvotes'], dtype='object')"
      ]
     },
     "execution_count": 66,
     "metadata": {},
     "output_type": "execute_result"
    }
   ],
   "source": [
    "df_nonull_genres.columns"
   ]
  },
  {
   "cell_type": "markdown",
   "id": "e65e99e2",
   "metadata": {},
   "source": [
    "As you see, now the column name was changed succesfully. \n",
    "\n",
    "## Nan (Not a Number):\n",
    "\n",
    "The following line of code is performing a merge operation between  `df_nonull_genre`s and `movie_budget`.\n",
    "\n",
    "The merge is performed based on a common column called `'movie'`, specified by the `on` parameter.\n",
    "\n",
    "The type of merge used is specified by the how parameter, which in this case is set to `'left'`, meaning that all the rows from the `df_nonull_genres dataframe` will be kept and any matching rows from the `movie_budget` dataframe will be included. Any non-matching rows from the movie_budget dataframe will have null values in the resulting dataframe.\n",
    "\n",
    "Finally, a new column called `'im_and_movie_budget'` is added to the resulting merged dataframe, indicating whether a row is present in both dataframes (i.e., 'both'), only in the left dataframe (i.e., 'left_only'), or only in the right dataframe (i.e., 'right_only'). This is specified by the `indicator` parameter.\n",
    "\n",
    "The resulting dataframe is assigned to the variable `im_movie_budget`. Subsequently, we use `value_counts()` to return a new Series object with the count of unique values of the new column called `'im_and_movie_budget'`."
   ]
  },
  {
   "cell_type": "code",
   "execution_count": 67,
   "id": "3dd22db5",
   "metadata": {},
   "outputs": [
    {
     "data": {
      "text/plain": [
       "left_only     70307\n",
       "both           2867\n",
       "right_only        0\n",
       "Name: im_and_movie_budget, dtype: int64"
      ]
     },
     "execution_count": 67,
     "metadata": {},
     "output_type": "execute_result"
    }
   ],
   "source": [
    "im_movie_budget = pd.merge(df_nonull_genres ,movie_budget, on='movie', how='left', indicator = 'im_and_movie_budget')\n",
    "im_movie_budget['im_and_movie_budget'].value_counts()"
   ]
  },
  {
   "cell_type": "markdown",
   "id": "2353077e",
   "metadata": {},
   "source": [
    "A sample was taken from Dataframe `im_movie_budget` by selecting rows that has a string value equal to `both`on column `'im_and_movie_budget'`. That sample name is `cleaned_df`."
   ]
  },
  {
   "cell_type": "code",
   "execution_count": 68,
   "id": "3bcfaf60",
   "metadata": {},
   "outputs": [
    {
     "data": {
      "text/html": [
       "<div>\n",
       "<style scoped>\n",
       "    .dataframe tbody tr th:only-of-type {\n",
       "        vertical-align: middle;\n",
       "    }\n",
       "\n",
       "    .dataframe tbody tr th {\n",
       "        vertical-align: top;\n",
       "    }\n",
       "\n",
       "    .dataframe thead th {\n",
       "        text-align: right;\n",
       "    }\n",
       "</style>\n",
       "<table border=\"1\" class=\"dataframe\">\n",
       "  <thead>\n",
       "    <tr style=\"text-align: right;\">\n",
       "      <th></th>\n",
       "      <th>movie_id</th>\n",
       "      <th>movie</th>\n",
       "      <th>genres</th>\n",
       "      <th>averagerating</th>\n",
       "      <th>numvotes</th>\n",
       "      <th>id</th>\n",
       "      <th>release_date</th>\n",
       "      <th>production_budget</th>\n",
       "      <th>domestic_gross</th>\n",
       "      <th>worldwide_gross</th>\n",
       "      <th>im_and_movie_budget</th>\n",
       "    </tr>\n",
       "  </thead>\n",
       "  <tbody>\n",
       "    <tr>\n",
       "      <th>16</th>\n",
       "      <td>tt0249516</td>\n",
       "      <td>Foodfight!</td>\n",
       "      <td>Action,Animation,Comedy</td>\n",
       "      <td>1.9</td>\n",
       "      <td>8248</td>\n",
       "      <td>26.0</td>\n",
       "      <td>31-Dec-12</td>\n",
       "      <td>45000000.0</td>\n",
       "      <td>0.0</td>\n",
       "      <td>73706.0</td>\n",
       "      <td>both</td>\n",
       "    </tr>\n",
       "    <tr>\n",
       "      <th>36</th>\n",
       "      <td>tt0337692</td>\n",
       "      <td>On the Road</td>\n",
       "      <td>Adventure,Drama,Romance</td>\n",
       "      <td>6.1</td>\n",
       "      <td>37886</td>\n",
       "      <td>17.0</td>\n",
       "      <td>22-Mar-13</td>\n",
       "      <td>25000000.0</td>\n",
       "      <td>720828.0</td>\n",
       "      <td>9313302.0</td>\n",
       "      <td>both</td>\n",
       "    </tr>\n",
       "    <tr>\n",
       "      <th>42</th>\n",
       "      <td>tt0359950</td>\n",
       "      <td>The Secret Life of Walter Mitty</td>\n",
       "      <td>Adventure,Comedy,Drama</td>\n",
       "      <td>7.3</td>\n",
       "      <td>275300</td>\n",
       "      <td>37.0</td>\n",
       "      <td>25-Dec-13</td>\n",
       "      <td>91000000.0</td>\n",
       "      <td>58236838.0</td>\n",
       "      <td>187861183.0</td>\n",
       "      <td>both</td>\n",
       "    </tr>\n",
       "    <tr>\n",
       "      <th>46</th>\n",
       "      <td>tt0365907</td>\n",
       "      <td>A Walk Among the Tombstones</td>\n",
       "      <td>Action,Crime,Drama</td>\n",
       "      <td>6.5</td>\n",
       "      <td>105116</td>\n",
       "      <td>67.0</td>\n",
       "      <td>19-Sep-14</td>\n",
       "      <td>28000000.0</td>\n",
       "      <td>26017685.0</td>\n",
       "      <td>62108587.0</td>\n",
       "      <td>both</td>\n",
       "    </tr>\n",
       "  </tbody>\n",
       "</table>\n",
       "</div>"
      ],
      "text/plain": [
       "     movie_id                            movie                   genres  \\\n",
       "16  tt0249516                       Foodfight!  Action,Animation,Comedy   \n",
       "36  tt0337692                      On the Road  Adventure,Drama,Romance   \n",
       "42  tt0359950  The Secret Life of Walter Mitty   Adventure,Comedy,Drama   \n",
       "46  tt0365907      A Walk Among the Tombstones       Action,Crime,Drama   \n",
       "\n",
       "    averagerating  numvotes    id release_date  production_budget  \\\n",
       "16            1.9      8248  26.0    31-Dec-12         45000000.0   \n",
       "36            6.1     37886  17.0    22-Mar-13         25000000.0   \n",
       "42            7.3    275300  37.0    25-Dec-13         91000000.0   \n",
       "46            6.5    105116  67.0    19-Sep-14         28000000.0   \n",
       "\n",
       "    domestic_gross  worldwide_gross im_and_movie_budget  \n",
       "16             0.0          73706.0                both  \n",
       "36        720828.0        9313302.0                both  \n",
       "42      58236838.0      187861183.0                both  \n",
       "46      26017685.0       62108587.0                both  "
      ]
     },
     "execution_count": 68,
     "metadata": {},
     "output_type": "execute_result"
    }
   ],
   "source": [
    "cleaned_df = im_movie_budget[im_movie_budget['im_and_movie_budget'] == 'both'] \n",
    "cleaned_df.head(4)"
   ]
  },
  {
   "cell_type": "markdown",
   "id": "765543cc",
   "metadata": {},
   "source": [
    "Lets get a concise summary of the dataframe using `.info()`: "
   ]
  },
  {
   "cell_type": "code",
   "execution_count": 69,
   "id": "b12eb1ff",
   "metadata": {},
   "outputs": [
    {
     "name": "stdout",
     "output_type": "stream",
     "text": [
      "<class 'pandas.core.frame.DataFrame'>\n",
      "Int64Index: 2867 entries, 16 to 73164\n",
      "Data columns (total 11 columns):\n",
      " #   Column               Non-Null Count  Dtype   \n",
      "---  ------               --------------  -----   \n",
      " 0   movie_id             2867 non-null   object  \n",
      " 1   movie                2867 non-null   object  \n",
      " 2   genres               2867 non-null   object  \n",
      " 3   averagerating        2867 non-null   float64 \n",
      " 4   numvotes             2867 non-null   int64   \n",
      " 5   id                   2867 non-null   float64 \n",
      " 6   release_date         2867 non-null   object  \n",
      " 7   production_budget    2867 non-null   float64 \n",
      " 8   domestic_gross       2867 non-null   float64 \n",
      " 9   worldwide_gross      2867 non-null   float64 \n",
      " 10  im_and_movie_budget  2867 non-null   category\n",
      "dtypes: category(1), float64(5), int64(1), object(4)\n",
      "memory usage: 249.3+ KB\n"
     ]
    }
   ],
   "source": [
    "cleaned_df.info()"
   ]
  },
  {
   "cell_type": "markdown",
   "id": "a13c71fd",
   "metadata": {},
   "source": [
    "floats data types\n",
    "it's possible for columns with integer data types to be converted to floating point data types. This can happen if one of the dataframes has null or missing values in the column being merged.\n",
    "\n",
    "To avoid this type conversion, you can either fill in the missing values before merging the dataframes or use the astype method to convert the column back to an integer after the merge."
   ]
  },
  {
   "cell_type": "code",
   "execution_count": 70,
   "id": "ee05fd96",
   "metadata": {},
   "outputs": [
    {
     "name": "stderr",
     "output_type": "stream",
     "text": [
      "C:\\Users\\raguilarsoriano\\AppData\\Local\\Temp\\ipykernel_23376\\2674449468.py:1: SettingWithCopyWarning: \n",
      "A value is trying to be set on a copy of a slice from a DataFrame.\n",
      "Try using .loc[row_indexer,col_indexer] = value instead\n",
      "\n",
      "See the caveats in the documentation: https://pandas.pydata.org/pandas-docs/stable/user_guide/indexing.html#returning-a-view-versus-a-copy\n",
      "  cleaned_df['production_budget'] = cleaned_df['production_budget'].astype('int64')\n",
      "C:\\Users\\raguilarsoriano\\AppData\\Local\\Temp\\ipykernel_23376\\2674449468.py:2: SettingWithCopyWarning: \n",
      "A value is trying to be set on a copy of a slice from a DataFrame.\n",
      "Try using .loc[row_indexer,col_indexer] = value instead\n",
      "\n",
      "See the caveats in the documentation: https://pandas.pydata.org/pandas-docs/stable/user_guide/indexing.html#returning-a-view-versus-a-copy\n",
      "  cleaned_df['domestic_gross'] = cleaned_df['domestic_gross'].astype('int64')\n",
      "C:\\Users\\raguilarsoriano\\AppData\\Local\\Temp\\ipykernel_23376\\2674449468.py:3: SettingWithCopyWarning: \n",
      "A value is trying to be set on a copy of a slice from a DataFrame.\n",
      "Try using .loc[row_indexer,col_indexer] = value instead\n",
      "\n",
      "See the caveats in the documentation: https://pandas.pydata.org/pandas-docs/stable/user_guide/indexing.html#returning-a-view-versus-a-copy\n",
      "  cleaned_df['worldwide_gross'] = cleaned_df['worldwide_gross'].astype('int64')\n"
     ]
    }
   ],
   "source": [
    "cleaned_df['production_budget'] = cleaned_df['production_budget'].astype('int64')\n",
    "cleaned_df['domestic_gross'] = cleaned_df['domestic_gross'].astype('int64')\n",
    "cleaned_df['worldwide_gross'] = cleaned_df['worldwide_gross'].astype('int64')"
   ]
  },
  {
   "cell_type": "markdown",
   "id": "b9b66866",
   "metadata": {},
   "source": [
    "Added net revenue by movie"
   ]
  },
  {
   "cell_type": "code",
   "execution_count": 71,
   "id": "510c0826",
   "metadata": {},
   "outputs": [
    {
     "name": "stderr",
     "output_type": "stream",
     "text": [
      "C:\\Users\\raguilarsoriano\\AppData\\Local\\Temp\\ipykernel_23376\\1701568743.py:1: SettingWithCopyWarning: \n",
      "A value is trying to be set on a copy of a slice from a DataFrame.\n",
      "Try using .loc[row_indexer,col_indexer] = value instead\n",
      "\n",
      "See the caveats in the documentation: https://pandas.pydata.org/pandas-docs/stable/user_guide/indexing.html#returning-a-view-versus-a-copy\n",
      "  cleaned_df['worlwide_net_revenue'] = cleaned_df['worldwide_gross'] - cleaned_df['production_budget']\n"
     ]
    },
    {
     "data": {
      "text/html": [
       "<div>\n",
       "<style scoped>\n",
       "    .dataframe tbody tr th:only-of-type {\n",
       "        vertical-align: middle;\n",
       "    }\n",
       "\n",
       "    .dataframe tbody tr th {\n",
       "        vertical-align: top;\n",
       "    }\n",
       "\n",
       "    .dataframe thead th {\n",
       "        text-align: right;\n",
       "    }\n",
       "</style>\n",
       "<table border=\"1\" class=\"dataframe\">\n",
       "  <thead>\n",
       "    <tr style=\"text-align: right;\">\n",
       "      <th></th>\n",
       "      <th>production_budget</th>\n",
       "      <th>worldwide_gross</th>\n",
       "      <th>worlwide_net_revenue</th>\n",
       "    </tr>\n",
       "  </thead>\n",
       "  <tbody>\n",
       "    <tr>\n",
       "      <th>16</th>\n",
       "      <td>45000000</td>\n",
       "      <td>73706</td>\n",
       "      <td>-44926294</td>\n",
       "    </tr>\n",
       "    <tr>\n",
       "      <th>36</th>\n",
       "      <td>25000000</td>\n",
       "      <td>9313302</td>\n",
       "      <td>-15686698</td>\n",
       "    </tr>\n",
       "    <tr>\n",
       "      <th>42</th>\n",
       "      <td>91000000</td>\n",
       "      <td>187861183</td>\n",
       "      <td>96861183</td>\n",
       "    </tr>\n",
       "    <tr>\n",
       "      <th>46</th>\n",
       "      <td>28000000</td>\n",
       "      <td>62108587</td>\n",
       "      <td>34108587</td>\n",
       "    </tr>\n",
       "    <tr>\n",
       "      <th>47</th>\n",
       "      <td>215000000</td>\n",
       "      <td>1648854864</td>\n",
       "      <td>1433854864</td>\n",
       "    </tr>\n",
       "    <tr>\n",
       "      <th>...</th>\n",
       "      <td>...</td>\n",
       "      <td>...</td>\n",
       "      <td>...</td>\n",
       "    </tr>\n",
       "    <tr>\n",
       "      <th>72971</th>\n",
       "      <td>47000000</td>\n",
       "      <td>116773317</td>\n",
       "      <td>69773317</td>\n",
       "    </tr>\n",
       "    <tr>\n",
       "      <th>73096</th>\n",
       "      <td>30000000</td>\n",
       "      <td>106030660</td>\n",
       "      <td>76030660</td>\n",
       "    </tr>\n",
       "    <tr>\n",
       "      <th>73111</th>\n",
       "      <td>109000000</td>\n",
       "      <td>87683966</td>\n",
       "      <td>-21316034</td>\n",
       "    </tr>\n",
       "    <tr>\n",
       "      <th>73151</th>\n",
       "      <td>700000</td>\n",
       "      <td>1110511</td>\n",
       "      <td>410511</td>\n",
       "    </tr>\n",
       "    <tr>\n",
       "      <th>73164</th>\n",
       "      <td>95000000</td>\n",
       "      <td>165720921</td>\n",
       "      <td>70720921</td>\n",
       "    </tr>\n",
       "  </tbody>\n",
       "</table>\n",
       "<p>2867 rows × 3 columns</p>\n",
       "</div>"
      ],
      "text/plain": [
       "       production_budget  worldwide_gross  worlwide_net_revenue\n",
       "16              45000000            73706             -44926294\n",
       "36              25000000          9313302             -15686698\n",
       "42              91000000        187861183              96861183\n",
       "46              28000000         62108587              34108587\n",
       "47             215000000       1648854864            1433854864\n",
       "...                  ...              ...                   ...\n",
       "72971           47000000        116773317              69773317\n",
       "73096           30000000        106030660              76030660\n",
       "73111          109000000         87683966             -21316034\n",
       "73151             700000          1110511                410511\n",
       "73164           95000000        165720921              70720921\n",
       "\n",
       "[2867 rows x 3 columns]"
      ]
     },
     "execution_count": 71,
     "metadata": {},
     "output_type": "execute_result"
    }
   ],
   "source": [
    "cleaned_df['worlwide_net_revenue'] = cleaned_df['worldwide_gross'] - cleaned_df['production_budget']\n",
    "cleaned_df[['production_budget', 'worldwide_gross', 'worlwide_net_revenue']]"
   ]
  },
  {
   "cell_type": "markdown",
   "id": "fbf4a2b5",
   "metadata": {},
   "source": [
    "At this point, we are all set to begin with the Eploratory Data Analisis."
   ]
  },
  {
   "cell_type": "markdown",
   "id": "e15f8006",
   "metadata": {},
   "source": [
    "# Business Case 1: Genre based on profits\n",
    "\n",
    "In the first business case, we need to know based on the `genres` and how much money locally and globaly they generated. So in this case we are analizing which `genres` produce more money."
   ]
  },
  {
   "cell_type": "markdown",
   "id": "2f1616c0",
   "metadata": {},
   "source": [
    "## Identifying genres.\n",
    "\n",
    "For the beginning, we need to work with the table `movie_basics` of the `im.db` data base,specifically with the columns `primary_title`, `genres` and the `tn.movie_budgets.csv` file with the columns `domestic_gross` and `worldwide_gross`.\n",
    "\n",
    "We are creating a new dataFrame only using these columns."
   ]
  },
  {
   "cell_type": "code",
   "execution_count": 72,
   "id": "c856be22",
   "metadata": {},
   "outputs": [
    {
     "name": "stdout",
     "output_type": "stream",
     "text": [
      "                                 movie                   genres  \\\n",
      "16                          Foodfight!  Action,Animation,Comedy   \n",
      "36                         On the Road  Adventure,Drama,Romance   \n",
      "42     The Secret Life of Walter Mitty   Adventure,Comedy,Drama   \n",
      "46         A Walk Among the Tombstones       Action,Crime,Drama   \n",
      "47                      Jurassic World  Action,Adventure,Sci-Fi   \n",
      "...                                ...                      ...   \n",
      "72971                            Earth              Documentary   \n",
      "73096                          Sisters             Action,Drama   \n",
      "73111                              Ali                    Drama   \n",
      "73151                         Columbus                   Comedy   \n",
      "73164                      Unstoppable              Documentary   \n",
      "\n",
      "       worldwide_gross  \n",
      "16               73706  \n",
      "36             9313302  \n",
      "42           187861183  \n",
      "46            62108587  \n",
      "47          1648854864  \n",
      "...                ...  \n",
      "72971        116773317  \n",
      "73096        106030660  \n",
      "73111         87683966  \n",
      "73151          1110511  \n",
      "73164        165720921  \n",
      "\n",
      "[2867 rows x 3 columns]\n"
     ]
    }
   ],
   "source": [
    "#Creating a table with Movie Title, genres and profits\n",
    "case1_df = cleaned_df.loc[:,['movie','genres','worldwide_gross']]\n",
    "print(case1_df)"
   ]
  },
  {
   "cell_type": "markdown",
   "id": "2974eba7",
   "metadata": {},
   "source": [
    "## Separating genres and counting them\n",
    "\n",
    "Checking the DataFrame above we notice that some movie have more than 1 genre, so we need to count each one for knowing the total revenue of each genre.\n",
    "\n",
    "So we need to serpate eache genera and put it into a new column."
   ]
  },
  {
   "cell_type": "code",
   "execution_count": 73,
   "id": "92d4aa44",
   "metadata": {},
   "outputs": [
    {
     "data": {
      "text/plain": [
       "Action          630.0\n",
       "Adventure       448.0\n",
       "Animation       130.0\n",
       "Biography       195.0\n",
       "Comedy          758.0\n",
       "Crime           362.0\n",
       "Documentary     204.0\n",
       "Drama          1491.0\n",
       "Family          144.0\n",
       "Fantasy         175.0\n",
       "History          71.0\n",
       "Horror          360.0\n",
       "Music            72.0\n",
       "Musical          22.0\n",
       "Mystery         223.0\n",
       "News              3.0\n",
       "Romance         326.0\n",
       "Sci-Fi          204.0\n",
       "Sport            62.0\n",
       "Thriller        509.0\n",
       "War              39.0\n",
       "Western          16.0\n",
       "dtype: float64"
      ]
     },
     "execution_count": 73,
     "metadata": {},
     "output_type": "execute_result"
    }
   ],
   "source": [
    "#Dividing all of the genres\n",
    "genres_cols = cleaned_df['genres'].str.split(',', expand=True)\n",
    "genres_cols.columns = ['genre1','genre2','genre3']\n",
    "counts1 = genres_cols['genre1'].value_counts()\n",
    "counts2 = genres_cols['genre2'].value_counts()\n",
    "counts3 = genres_cols['genre3'].value_counts()\n",
    "total_counts = counts1.add(counts2, fill_value=0).add(counts3, fill_value=0)\n",
    "total_counts"
   ]
  },
  {
   "cell_type": "markdown",
   "id": "ccd6e9fa",
   "metadata": {},
   "source": [
    "Now, we combine the `cleaned_df` with the new three columns for each genre into a new dataFrame called `case1_vs_df`"
   ]
  },
  {
   "cell_type": "code",
   "execution_count": 74,
   "id": "c3e4f910",
   "metadata": {},
   "outputs": [
    {
     "data": {
      "text/html": [
       "<div>\n",
       "<style scoped>\n",
       "    .dataframe tbody tr th:only-of-type {\n",
       "        vertical-align: middle;\n",
       "    }\n",
       "\n",
       "    .dataframe tbody tr th {\n",
       "        vertical-align: top;\n",
       "    }\n",
       "\n",
       "    .dataframe thead th {\n",
       "        text-align: right;\n",
       "    }\n",
       "</style>\n",
       "<table border=\"1\" class=\"dataframe\">\n",
       "  <thead>\n",
       "    <tr style=\"text-align: right;\">\n",
       "      <th></th>\n",
       "      <th>movie</th>\n",
       "      <th>domestic_gross</th>\n",
       "      <th>worldwide_gross</th>\n",
       "      <th>production_budget</th>\n",
       "      <th>genre1</th>\n",
       "      <th>genre2</th>\n",
       "      <th>genre3</th>\n",
       "    </tr>\n",
       "  </thead>\n",
       "  <tbody>\n",
       "    <tr>\n",
       "      <th>16</th>\n",
       "      <td>Foodfight!</td>\n",
       "      <td>0</td>\n",
       "      <td>73706</td>\n",
       "      <td>45000000</td>\n",
       "      <td>Action</td>\n",
       "      <td>Animation</td>\n",
       "      <td>Comedy</td>\n",
       "    </tr>\n",
       "    <tr>\n",
       "      <th>36</th>\n",
       "      <td>On the Road</td>\n",
       "      <td>720828</td>\n",
       "      <td>9313302</td>\n",
       "      <td>25000000</td>\n",
       "      <td>Adventure</td>\n",
       "      <td>Drama</td>\n",
       "      <td>Romance</td>\n",
       "    </tr>\n",
       "    <tr>\n",
       "      <th>42</th>\n",
       "      <td>The Secret Life of Walter Mitty</td>\n",
       "      <td>58236838</td>\n",
       "      <td>187861183</td>\n",
       "      <td>91000000</td>\n",
       "      <td>Adventure</td>\n",
       "      <td>Comedy</td>\n",
       "      <td>Drama</td>\n",
       "    </tr>\n",
       "    <tr>\n",
       "      <th>46</th>\n",
       "      <td>A Walk Among the Tombstones</td>\n",
       "      <td>26017685</td>\n",
       "      <td>62108587</td>\n",
       "      <td>28000000</td>\n",
       "      <td>Action</td>\n",
       "      <td>Crime</td>\n",
       "      <td>Drama</td>\n",
       "    </tr>\n",
       "    <tr>\n",
       "      <th>47</th>\n",
       "      <td>Jurassic World</td>\n",
       "      <td>652270625</td>\n",
       "      <td>1648854864</td>\n",
       "      <td>215000000</td>\n",
       "      <td>Action</td>\n",
       "      <td>Adventure</td>\n",
       "      <td>Sci-Fi</td>\n",
       "    </tr>\n",
       "    <tr>\n",
       "      <th>...</th>\n",
       "      <td>...</td>\n",
       "      <td>...</td>\n",
       "      <td>...</td>\n",
       "      <td>...</td>\n",
       "      <td>...</td>\n",
       "      <td>...</td>\n",
       "      <td>...</td>\n",
       "    </tr>\n",
       "    <tr>\n",
       "      <th>72971</th>\n",
       "      <td>Earth</td>\n",
       "      <td>32011576</td>\n",
       "      <td>116773317</td>\n",
       "      <td>47000000</td>\n",
       "      <td>Documentary</td>\n",
       "      <td>None</td>\n",
       "      <td>None</td>\n",
       "    </tr>\n",
       "    <tr>\n",
       "      <th>73096</th>\n",
       "      <td>Sisters</td>\n",
       "      <td>87044645</td>\n",
       "      <td>106030660</td>\n",
       "      <td>30000000</td>\n",
       "      <td>Action</td>\n",
       "      <td>Drama</td>\n",
       "      <td>None</td>\n",
       "    </tr>\n",
       "    <tr>\n",
       "      <th>73111</th>\n",
       "      <td>Ali</td>\n",
       "      <td>58183966</td>\n",
       "      <td>87683966</td>\n",
       "      <td>109000000</td>\n",
       "      <td>Drama</td>\n",
       "      <td>None</td>\n",
       "      <td>None</td>\n",
       "    </tr>\n",
       "    <tr>\n",
       "      <th>73151</th>\n",
       "      <td>Columbus</td>\n",
       "      <td>1017107</td>\n",
       "      <td>1110511</td>\n",
       "      <td>700000</td>\n",
       "      <td>Comedy</td>\n",
       "      <td>None</td>\n",
       "      <td>None</td>\n",
       "    </tr>\n",
       "    <tr>\n",
       "      <th>73164</th>\n",
       "      <td>Unstoppable</td>\n",
       "      <td>81562942</td>\n",
       "      <td>165720921</td>\n",
       "      <td>95000000</td>\n",
       "      <td>Documentary</td>\n",
       "      <td>None</td>\n",
       "      <td>None</td>\n",
       "    </tr>\n",
       "  </tbody>\n",
       "</table>\n",
       "<p>2867 rows × 7 columns</p>\n",
       "</div>"
      ],
      "text/plain": [
       "                                 movie  domestic_gross  worldwide_gross  \\\n",
       "16                          Foodfight!               0            73706   \n",
       "36                         On the Road          720828          9313302   \n",
       "42     The Secret Life of Walter Mitty        58236838        187861183   \n",
       "46         A Walk Among the Tombstones        26017685         62108587   \n",
       "47                      Jurassic World       652270625       1648854864   \n",
       "...                                ...             ...              ...   \n",
       "72971                            Earth        32011576        116773317   \n",
       "73096                          Sisters        87044645        106030660   \n",
       "73111                              Ali        58183966         87683966   \n",
       "73151                         Columbus         1017107          1110511   \n",
       "73164                      Unstoppable        81562942        165720921   \n",
       "\n",
       "       production_budget       genre1     genre2   genre3  \n",
       "16              45000000       Action  Animation   Comedy  \n",
       "36              25000000    Adventure      Drama  Romance  \n",
       "42              91000000    Adventure     Comedy    Drama  \n",
       "46              28000000       Action      Crime    Drama  \n",
       "47             215000000       Action  Adventure   Sci-Fi  \n",
       "...                  ...          ...        ...      ...  \n",
       "72971           47000000  Documentary       None     None  \n",
       "73096           30000000       Action      Drama     None  \n",
       "73111          109000000        Drama       None     None  \n",
       "73151             700000       Comedy       None     None  \n",
       "73164           95000000  Documentary       None     None  \n",
       "\n",
       "[2867 rows x 7 columns]"
      ]
     },
     "execution_count": 74,
     "metadata": {},
     "output_type": "execute_result"
    }
   ],
   "source": [
    "#Creating a new table with number of gender, \n",
    "case1_vs_df = pd.merge(cleaned_df[['movie','domestic_gross','worldwide_gross','production_budget']], genres_cols[['genre1','genre2','genre3']], left_index = True, right_index=True)\n",
    "case1_vs_df"
   ]
  },
  {
   "cell_type": "markdown",
   "id": "0336f437",
   "metadata": {},
   "source": [
    "To work with the `domestic_gross` and `worldwide_gross` is necessary to take only the numerical part, so we need to delete the \"$\" and \",\" simbols"
   ]
  },
  {
   "cell_type": "code",
   "execution_count": 75,
   "id": "02a643cf",
   "metadata": {},
   "outputs": [
    {
     "data": {
      "text/html": [
       "<div>\n",
       "<style scoped>\n",
       "    .dataframe tbody tr th:only-of-type {\n",
       "        vertical-align: middle;\n",
       "    }\n",
       "\n",
       "    .dataframe tbody tr th {\n",
       "        vertical-align: top;\n",
       "    }\n",
       "\n",
       "    .dataframe thead th {\n",
       "        text-align: right;\n",
       "    }\n",
       "</style>\n",
       "<table border=\"1\" class=\"dataframe\">\n",
       "  <thead>\n",
       "    <tr style=\"text-align: right;\">\n",
       "      <th></th>\n",
       "      <th>movie</th>\n",
       "      <th>domestic_gross</th>\n",
       "      <th>worldwide_gross</th>\n",
       "      <th>production_budget</th>\n",
       "      <th>genre1</th>\n",
       "      <th>genre2</th>\n",
       "      <th>genre3</th>\n",
       "    </tr>\n",
       "  </thead>\n",
       "  <tbody>\n",
       "    <tr>\n",
       "      <th>16</th>\n",
       "      <td>Foodfight!</td>\n",
       "      <td>0</td>\n",
       "      <td>73706</td>\n",
       "      <td>45000000</td>\n",
       "      <td>Action</td>\n",
       "      <td>Animation</td>\n",
       "      <td>Comedy</td>\n",
       "    </tr>\n",
       "    <tr>\n",
       "      <th>36</th>\n",
       "      <td>On the Road</td>\n",
       "      <td>720828</td>\n",
       "      <td>9313302</td>\n",
       "      <td>25000000</td>\n",
       "      <td>Adventure</td>\n",
       "      <td>Drama</td>\n",
       "      <td>Romance</td>\n",
       "    </tr>\n",
       "    <tr>\n",
       "      <th>42</th>\n",
       "      <td>The Secret Life of Walter Mitty</td>\n",
       "      <td>58236838</td>\n",
       "      <td>187861183</td>\n",
       "      <td>91000000</td>\n",
       "      <td>Adventure</td>\n",
       "      <td>Comedy</td>\n",
       "      <td>Drama</td>\n",
       "    </tr>\n",
       "    <tr>\n",
       "      <th>46</th>\n",
       "      <td>A Walk Among the Tombstones</td>\n",
       "      <td>26017685</td>\n",
       "      <td>62108587</td>\n",
       "      <td>28000000</td>\n",
       "      <td>Action</td>\n",
       "      <td>Crime</td>\n",
       "      <td>Drama</td>\n",
       "    </tr>\n",
       "    <tr>\n",
       "      <th>47</th>\n",
       "      <td>Jurassic World</td>\n",
       "      <td>652270625</td>\n",
       "      <td>1648854864</td>\n",
       "      <td>215000000</td>\n",
       "      <td>Action</td>\n",
       "      <td>Adventure</td>\n",
       "      <td>Sci-Fi</td>\n",
       "    </tr>\n",
       "    <tr>\n",
       "      <th>...</th>\n",
       "      <td>...</td>\n",
       "      <td>...</td>\n",
       "      <td>...</td>\n",
       "      <td>...</td>\n",
       "      <td>...</td>\n",
       "      <td>...</td>\n",
       "      <td>...</td>\n",
       "    </tr>\n",
       "    <tr>\n",
       "      <th>72971</th>\n",
       "      <td>Earth</td>\n",
       "      <td>32011576</td>\n",
       "      <td>116773317</td>\n",
       "      <td>47000000</td>\n",
       "      <td>Documentary</td>\n",
       "      <td>None</td>\n",
       "      <td>None</td>\n",
       "    </tr>\n",
       "    <tr>\n",
       "      <th>73096</th>\n",
       "      <td>Sisters</td>\n",
       "      <td>87044645</td>\n",
       "      <td>106030660</td>\n",
       "      <td>30000000</td>\n",
       "      <td>Action</td>\n",
       "      <td>Drama</td>\n",
       "      <td>None</td>\n",
       "    </tr>\n",
       "    <tr>\n",
       "      <th>73111</th>\n",
       "      <td>Ali</td>\n",
       "      <td>58183966</td>\n",
       "      <td>87683966</td>\n",
       "      <td>109000000</td>\n",
       "      <td>Drama</td>\n",
       "      <td>None</td>\n",
       "      <td>None</td>\n",
       "    </tr>\n",
       "    <tr>\n",
       "      <th>73151</th>\n",
       "      <td>Columbus</td>\n",
       "      <td>1017107</td>\n",
       "      <td>1110511</td>\n",
       "      <td>700000</td>\n",
       "      <td>Comedy</td>\n",
       "      <td>None</td>\n",
       "      <td>None</td>\n",
       "    </tr>\n",
       "    <tr>\n",
       "      <th>73164</th>\n",
       "      <td>Unstoppable</td>\n",
       "      <td>81562942</td>\n",
       "      <td>165720921</td>\n",
       "      <td>95000000</td>\n",
       "      <td>Documentary</td>\n",
       "      <td>None</td>\n",
       "      <td>None</td>\n",
       "    </tr>\n",
       "  </tbody>\n",
       "</table>\n",
       "<p>2867 rows × 7 columns</p>\n",
       "</div>"
      ],
      "text/plain": [
       "                                 movie  domestic_gross  worldwide_gross  \\\n",
       "16                          Foodfight!               0            73706   \n",
       "36                         On the Road          720828          9313302   \n",
       "42     The Secret Life of Walter Mitty        58236838        187861183   \n",
       "46         A Walk Among the Tombstones        26017685         62108587   \n",
       "47                      Jurassic World       652270625       1648854864   \n",
       "...                                ...             ...              ...   \n",
       "72971                            Earth        32011576        116773317   \n",
       "73096                          Sisters        87044645        106030660   \n",
       "73111                              Ali        58183966         87683966   \n",
       "73151                         Columbus         1017107          1110511   \n",
       "73164                      Unstoppable        81562942        165720921   \n",
       "\n",
       "       production_budget       genre1     genre2   genre3  \n",
       "16              45000000       Action  Animation   Comedy  \n",
       "36              25000000    Adventure      Drama  Romance  \n",
       "42              91000000    Adventure     Comedy    Drama  \n",
       "46              28000000       Action      Crime    Drama  \n",
       "47             215000000       Action  Adventure   Sci-Fi  \n",
       "...                  ...          ...        ...      ...  \n",
       "72971           47000000  Documentary       None     None  \n",
       "73096           30000000       Action      Drama     None  \n",
       "73111          109000000        Drama       None     None  \n",
       "73151             700000       Comedy       None     None  \n",
       "73164           95000000  Documentary       None     None  \n",
       "\n",
       "[2867 rows x 7 columns]"
      ]
     },
     "execution_count": 75,
     "metadata": {},
     "output_type": "execute_result"
    }
   ],
   "source": [
    "#Delete the $ and ,\n",
    "case1_vs_df['domestic_gross'] = case1_vs_df['domestic_gross'].replace({'\\$':'',',':''},regex=True)\n",
    "case1_vs_df['worldwide_gross'] = case1_vs_df['worldwide_gross'].replace({'\\$':'',',':''},regex=True)\n",
    "case1_vs_df['production_budget'] = case1_vs_df['production_budget'].replace({'\\$':'',',':''},regex=True)\n",
    "case1_vs_df"
   ]
  },
  {
   "cell_type": "markdown",
   "id": "715b5727",
   "metadata": {},
   "source": [
    "## Having all the totals\n",
    "\n",
    "We need to convert first the data type of `domestic_gross`, `worldwide_gross` and `production_budget` columns. Then, we need to add the domestic rows values every time that a movie have some genre to have the total of all the profits and all the production budget of every genre."
   ]
  },
  {
   "cell_type": "code",
   "execution_count": 76,
   "id": "8b65c00f",
   "metadata": {},
   "outputs": [
    {
     "data": {
      "text/html": [
       "<div>\n",
       "<style scoped>\n",
       "    .dataframe tbody tr th:only-of-type {\n",
       "        vertical-align: middle;\n",
       "    }\n",
       "\n",
       "    .dataframe tbody tr th {\n",
       "        vertical-align: top;\n",
       "    }\n",
       "\n",
       "    .dataframe thead th {\n",
       "        text-align: right;\n",
       "    }\n",
       "</style>\n",
       "<table border=\"1\" class=\"dataframe\">\n",
       "  <thead>\n",
       "    <tr style=\"text-align: right;\">\n",
       "      <th></th>\n",
       "      <th>genre</th>\n",
       "      <th>domestic_gross</th>\n",
       "      <th>worldwide_gross</th>\n",
       "      <th>production_budget</th>\n",
       "    </tr>\n",
       "  </thead>\n",
       "  <tbody>\n",
       "    <tr>\n",
       "      <th>0</th>\n",
       "      <td>Action</td>\n",
       "      <td>4.468698e+10</td>\n",
       "      <td>1.199860e+11</td>\n",
       "      <td>4.077893e+10</td>\n",
       "    </tr>\n",
       "    <tr>\n",
       "      <th>1</th>\n",
       "      <td>Animation</td>\n",
       "      <td>1.505947e+10</td>\n",
       "      <td>4.129402e+10</td>\n",
       "      <td>1.116779e+10</td>\n",
       "    </tr>\n",
       "    <tr>\n",
       "      <th>2</th>\n",
       "      <td>Comedy</td>\n",
       "      <td>3.608269e+10</td>\n",
       "      <td>8.045373e+10</td>\n",
       "      <td>2.533618e+10</td>\n",
       "    </tr>\n",
       "    <tr>\n",
       "      <th>3</th>\n",
       "      <td>Adventure</td>\n",
       "      <td>4.796407e+10</td>\n",
       "      <td>1.343977e+11</td>\n",
       "      <td>4.090776e+10</td>\n",
       "    </tr>\n",
       "    <tr>\n",
       "      <th>4</th>\n",
       "      <td>Drama</td>\n",
       "      <td>4.315093e+10</td>\n",
       "      <td>9.143296e+10</td>\n",
       "      <td>3.513053e+10</td>\n",
       "    </tr>\n",
       "    <tr>\n",
       "      <th>5</th>\n",
       "      <td>Romance</td>\n",
       "      <td>9.593389e+09</td>\n",
       "      <td>2.055086e+10</td>\n",
       "      <td>6.616127e+09</td>\n",
       "    </tr>\n",
       "    <tr>\n",
       "      <th>6</th>\n",
       "      <td>Crime</td>\n",
       "      <td>1.106037e+10</td>\n",
       "      <td>2.411083e+10</td>\n",
       "      <td>9.946593e+09</td>\n",
       "    </tr>\n",
       "    <tr>\n",
       "      <th>7</th>\n",
       "      <td>Sci-Fi</td>\n",
       "      <td>1.860459e+10</td>\n",
       "      <td>5.009867e+10</td>\n",
       "      <td>1.431784e+10</td>\n",
       "    </tr>\n",
       "    <tr>\n",
       "      <th>8</th>\n",
       "      <td>Other</td>\n",
       "      <td>6.341734e+10</td>\n",
       "      <td>1.343814e+11</td>\n",
       "      <td>4.873818e+10</td>\n",
       "    </tr>\n",
       "    <tr>\n",
       "      <th>9</th>\n",
       "      <td>Family</td>\n",
       "      <td>9.971529e+09</td>\n",
       "      <td>2.342681e+10</td>\n",
       "      <td>7.568903e+09</td>\n",
       "    </tr>\n",
       "    <tr>\n",
       "      <th>10</th>\n",
       "      <td>Thriller</td>\n",
       "      <td>1.672351e+10</td>\n",
       "      <td>4.117760e+10</td>\n",
       "      <td>1.401471e+10</td>\n",
       "    </tr>\n",
       "    <tr>\n",
       "      <th>11</th>\n",
       "      <td>Horror</td>\n",
       "      <td>1.018044e+10</td>\n",
       "      <td>2.310061e+10</td>\n",
       "      <td>6.522787e+09</td>\n",
       "    </tr>\n",
       "    <tr>\n",
       "      <th>12</th>\n",
       "      <td>Mystery</td>\n",
       "      <td>7.057109e+09</td>\n",
       "      <td>1.572666e+10</td>\n",
       "      <td>4.846065e+09</td>\n",
       "    </tr>\n",
       "    <tr>\n",
       "      <th>13</th>\n",
       "      <td>Biography</td>\n",
       "      <td>6.765873e+09</td>\n",
       "      <td>1.410100e+10</td>\n",
       "      <td>4.964048e+09</td>\n",
       "    </tr>\n",
       "    <tr>\n",
       "      <th>14</th>\n",
       "      <td>History</td>\n",
       "      <td>2.374610e+09</td>\n",
       "      <td>4.997602e+09</td>\n",
       "      <td>2.214910e+09</td>\n",
       "    </tr>\n",
       "    <tr>\n",
       "      <th>15</th>\n",
       "      <td>War</td>\n",
       "      <td>7.672892e+08</td>\n",
       "      <td>1.660432e+09</td>\n",
       "      <td>9.010000e+08</td>\n",
       "    </tr>\n",
       "    <tr>\n",
       "      <th>16</th>\n",
       "      <td>Fantasy</td>\n",
       "      <td>1.363563e+10</td>\n",
       "      <td>3.763870e+10</td>\n",
       "      <td>1.210108e+10</td>\n",
       "    </tr>\n",
       "    <tr>\n",
       "      <th>17</th>\n",
       "      <td>Sport</td>\n",
       "      <td>2.456170e+09</td>\n",
       "      <td>4.823089e+09</td>\n",
       "      <td>1.477125e+09</td>\n",
       "    </tr>\n",
       "    <tr>\n",
       "      <th>18</th>\n",
       "      <td>Music</td>\n",
       "      <td>2.142755e+09</td>\n",
       "      <td>4.525251e+09</td>\n",
       "      <td>1.086920e+09</td>\n",
       "    </tr>\n",
       "    <tr>\n",
       "      <th>19</th>\n",
       "      <td>Documentary</td>\n",
       "      <td>5.923072e+09</td>\n",
       "      <td>1.175290e+10</td>\n",
       "      <td>4.612943e+09</td>\n",
       "    </tr>\n",
       "    <tr>\n",
       "      <th>20</th>\n",
       "      <td>Western</td>\n",
       "      <td>6.032472e+08</td>\n",
       "      <td>1.226694e+09</td>\n",
       "      <td>7.448000e+08</td>\n",
       "    </tr>\n",
       "    <tr>\n",
       "      <th>21</th>\n",
       "      <td>Musical</td>\n",
       "      <td>1.723901e+09</td>\n",
       "      <td>3.900989e+09</td>\n",
       "      <td>8.582000e+08</td>\n",
       "    </tr>\n",
       "    <tr>\n",
       "      <th>22</th>\n",
       "      <td>News</td>\n",
       "      <td>2.821122e+07</td>\n",
       "      <td>1.100462e+08</td>\n",
       "      <td>4.980000e+07</td>\n",
       "    </tr>\n",
       "  </tbody>\n",
       "</table>\n",
       "</div>"
      ],
      "text/plain": [
       "          genre  domestic_gross  worldwide_gross  production_budget\n",
       "0        Action    4.468698e+10     1.199860e+11       4.077893e+10\n",
       "1     Animation    1.505947e+10     4.129402e+10       1.116779e+10\n",
       "2        Comedy    3.608269e+10     8.045373e+10       2.533618e+10\n",
       "3     Adventure    4.796407e+10     1.343977e+11       4.090776e+10\n",
       "4         Drama    4.315093e+10     9.143296e+10       3.513053e+10\n",
       "5       Romance    9.593389e+09     2.055086e+10       6.616127e+09\n",
       "6         Crime    1.106037e+10     2.411083e+10       9.946593e+09\n",
       "7        Sci-Fi    1.860459e+10     5.009867e+10       1.431784e+10\n",
       "8         Other    6.341734e+10     1.343814e+11       4.873818e+10\n",
       "9        Family    9.971529e+09     2.342681e+10       7.568903e+09\n",
       "10     Thriller    1.672351e+10     4.117760e+10       1.401471e+10\n",
       "11       Horror    1.018044e+10     2.310061e+10       6.522787e+09\n",
       "12      Mystery    7.057109e+09     1.572666e+10       4.846065e+09\n",
       "13    Biography    6.765873e+09     1.410100e+10       4.964048e+09\n",
       "14      History    2.374610e+09     4.997602e+09       2.214910e+09\n",
       "15          War    7.672892e+08     1.660432e+09       9.010000e+08\n",
       "16      Fantasy    1.363563e+10     3.763870e+10       1.210108e+10\n",
       "17        Sport    2.456170e+09     4.823089e+09       1.477125e+09\n",
       "18        Music    2.142755e+09     4.525251e+09       1.086920e+09\n",
       "19  Documentary    5.923072e+09     1.175290e+10       4.612943e+09\n",
       "20      Western    6.032472e+08     1.226694e+09       7.448000e+08\n",
       "21      Musical    1.723901e+09     3.900989e+09       8.582000e+08\n",
       "22         News    2.821122e+07     1.100462e+08       4.980000e+07"
      ]
     },
     "execution_count": 76,
     "metadata": {},
     "output_type": "execute_result"
    }
   ],
   "source": [
    "case1_vs_df['domestic_gross'] = case1_vs_df['domestic_gross'].astype(float)\n",
    "case1_vs_df['worldwide_gross'] = case1_vs_df['worldwide_gross'].astype(float)\n",
    "case1_vs_df['production_budget'] = case1_vs_df['production_budget'].astype(float)\n",
    "\n",
    "totals = {}\n",
    "\n",
    "for index, row in case1_vs_df.iterrows():\n",
    "    genres = [row['genre1'], row['genre2'], row['genre3']]\n",
    "    for genre in genres:\n",
    "        if genre not in totals:\n",
    "            totals[genre] = {'domestic_gross': 0, 'worldwide_gross': 0, 'production_budget':0}\n",
    "        totals[genre]['domestic_gross'] += row['domestic_gross']\n",
    "        totals[genre]['worldwide_gross'] += row['worldwide_gross']\n",
    "        totals[genre]['production_budget'] += row['production_budget']\n",
    "\n",
    "new_df = pd.DataFrame(totals).T.reset_index().rename(columns={'index': 'genre'})\n",
    "new_df['genre'] = new_df['genre'].astype('string')\n",
    "new_df['genre'].fillna('Other',inplace=True)\n",
    "\n",
    "new_df"
   ]
  },
  {
   "cell_type": "markdown",
   "id": "d8d71389",
   "metadata": {},
   "source": [
    "Finally, we want to select only the top 5 genres with more profits because we have a lot of genres, but we only need the most convenient genres and show them in a bar graph."
   ]
  },
  {
   "cell_type": "code",
   "execution_count": 77,
   "id": "6109a022",
   "metadata": {},
   "outputs": [
    {
     "data": {
      "text/html": [
       "<div>\n",
       "<style scoped>\n",
       "    .dataframe tbody tr th:only-of-type {\n",
       "        vertical-align: middle;\n",
       "    }\n",
       "\n",
       "    .dataframe tbody tr th {\n",
       "        vertical-align: top;\n",
       "    }\n",
       "\n",
       "    .dataframe thead th {\n",
       "        text-align: right;\n",
       "    }\n",
       "</style>\n",
       "<table border=\"1\" class=\"dataframe\">\n",
       "  <thead>\n",
       "    <tr style=\"text-align: right;\">\n",
       "      <th></th>\n",
       "      <th>genre</th>\n",
       "      <th>domestic_gross</th>\n",
       "      <th>worldwide_gross</th>\n",
       "      <th>production_budget</th>\n",
       "      <th>total_gross</th>\n",
       "    </tr>\n",
       "  </thead>\n",
       "  <tbody>\n",
       "    <tr>\n",
       "      <th>3</th>\n",
       "      <td>Adventure</td>\n",
       "      <td>4.796407e+10</td>\n",
       "      <td>1.343977e+11</td>\n",
       "      <td>4.090776e+10</td>\n",
       "      <td>9.348997e+10</td>\n",
       "    </tr>\n",
       "    <tr>\n",
       "      <th>8</th>\n",
       "      <td>Other</td>\n",
       "      <td>6.341734e+10</td>\n",
       "      <td>1.343814e+11</td>\n",
       "      <td>4.873818e+10</td>\n",
       "      <td>8.564318e+10</td>\n",
       "    </tr>\n",
       "    <tr>\n",
       "      <th>0</th>\n",
       "      <td>Action</td>\n",
       "      <td>4.468698e+10</td>\n",
       "      <td>1.199860e+11</td>\n",
       "      <td>4.077893e+10</td>\n",
       "      <td>7.920712e+10</td>\n",
       "    </tr>\n",
       "    <tr>\n",
       "      <th>4</th>\n",
       "      <td>Drama</td>\n",
       "      <td>4.315093e+10</td>\n",
       "      <td>9.143296e+10</td>\n",
       "      <td>3.513053e+10</td>\n",
       "      <td>5.630243e+10</td>\n",
       "    </tr>\n",
       "    <tr>\n",
       "      <th>2</th>\n",
       "      <td>Comedy</td>\n",
       "      <td>3.608269e+10</td>\n",
       "      <td>8.045373e+10</td>\n",
       "      <td>2.533618e+10</td>\n",
       "      <td>5.511755e+10</td>\n",
       "    </tr>\n",
       "  </tbody>\n",
       "</table>\n",
       "</div>"
      ],
      "text/plain": [
       "       genre  domestic_gross  worldwide_gross  production_budget   total_gross\n",
       "3  Adventure    4.796407e+10     1.343977e+11       4.090776e+10  9.348997e+10\n",
       "8      Other    6.341734e+10     1.343814e+11       4.873818e+10  8.564318e+10\n",
       "0     Action    4.468698e+10     1.199860e+11       4.077893e+10  7.920712e+10\n",
       "4      Drama    4.315093e+10     9.143296e+10       3.513053e+10  5.630243e+10\n",
       "2     Comedy    3.608269e+10     8.045373e+10       2.533618e+10  5.511755e+10"
      ]
     },
     "execution_count": 77,
     "metadata": {},
     "output_type": "execute_result"
    }
   ],
   "source": [
    "final_gross = new_df['worldwide_gross'] - new_df['production_budget']\n",
    "new_df['total_gross'] = final_gross\n",
    "new_df = new_df.sort_values(by='total_gross', ascending=False)\n",
    "top_5 = new_df.head(5)\n",
    "top_5"
   ]
  },
  {
   "cell_type": "code",
   "execution_count": 78,
   "id": "6fa9ac4f",
   "metadata": {},
   "outputs": [
    {
     "data": {
      "image/png": "[encoded data removed]",
      "text/plain": [
       "<Figure size 4000x3000 with 1 Axes>"
      ]
     },
     "metadata": {},
     "output_type": "display_data"
    }
   ],
   "source": [
    "#Creating a bar graph for the case1_vs_df table\n",
    "\n",
    "#Defining the columns of the x and y axis\n",
    "new_df = new_df[new_df.genre !='Other']\n",
    "x = top_5['genre']\n",
    "y = top_5['total_gross']\n",
    "\n",
    "#Defining the name of each bar\n",
    "plt.figure(figsize=(40,30))\n",
    "plt.xticks(fontsize=30)\n",
    "plt.yticks(fontsize=35)\n",
    "plt.bar(x,y,label='Total Gross')\n",
    "\n",
    "#Defining name of the labels and title of the bar graph\n",
    "plt.title('Gross by genre', fontsize=45)\n",
    "plt.xlabel('Genre', fontsize=45)\n",
    "plt.ylabel('Gross in billion', fontsize=45)\n",
    "\n",
    "plt.legend(fontsize=35)\n",
    "plt.show()\n"
   ]
  },
  {
   "cell_type": "markdown",
   "id": "711114c1",
   "metadata": {},
   "source": [
    "## Business Case 1: Conclusion\n",
    "\n",
    "Checking the bar graph noticing that the genres that produce more money are `Adventure`, `Action` and `Drama`. These three genres generate more money that the other ones.\n",
    "\n",
    "The conclusion of this business case is that if you want to create a movie that could produce a lot of money are Adventure, Action and Drama genres."
   ]
  },
  {
   "cell_type": "markdown",
   "id": "3d0e30a4",
   "metadata": {},
   "source": [
    "# Business Case 2: Production Budget and Box Office Net Revenue: A Strong & Positive Relationship?"
   ]
  },
  {
   "cell_type": "markdown",
   "id": "62a25840",
   "metadata": {},
   "source": [
    "In this business case, we want to know if higher the `production_budget` the higher the `worlwide_net_revenue`. \n",
    "\n",
    "To test this hypothesis, we would need to conduct regression analysis, to examine the strength and direction of the relationship between these two variables. First for the whole population and then across genres. \n",
    "\n",
    "Befor jumping into the complex part, lets define a function named `stats` to define the `mean`, `median`, and `standard deviation` of a given column of the dataframe to better understand the distribution of some variables/columns."
   ]
  },
  {
   "cell_type": "code",
   "execution_count": 133,
   "id": "e3804c6b",
   "metadata": {},
   "outputs": [],
   "source": [
    "def stats(column):\n",
    "    \"\"\"\n",
    "    This function takes the name of a column as inputs, and returns its mean, median and standard\n",
    "    deviation. \n",
    "    \n",
    "    Args: \n",
    "        column_name (str): The name of the column to get their stats. \n",
    "        \n",
    "    Returns: \n",
    "        pandas.DataFrame: A new DataFrame with the specified column sorted in descending order. \n",
    "    \"\"\"\n",
    "    mean = cleaned_df[column].mean()\n",
    "    median = cleaned_df[column].median()\n",
    "    std = cleaned_df[column].std()\n",
    "    return print(f' Mean:{mean}\\n Median:{median}\\n Std:{std}\\n')"
   ]
  },
  {
   "cell_type": "markdown",
   "id": "b484096d",
   "metadata": {},
   "source": [
    "We will produce a histogram for `averagerating`"
   ]
  },
  {
   "cell_type": "code",
   "execution_count": 132,
   "id": "db1396da",
   "metadata": {},
   "outputs": [
    {
     "data": {
      "image/png": "[encoded data removed]",
      "text/plain": [
       "<Figure size 640x480 with 1 Axes>"
      ]
     },
     "metadata": {},
     "output_type": "display_data"
    }
   ],
   "source": [
    "fig, ax = plt.subplots()\n",
    "plt.hist(cleaned_df[\"averagerating\"], bins=200)\n",
    "ax.set_title(\"Average Rating\");"
   ]
  },
  {
   "cell_type": "markdown",
   "id": "f6f4c09c",
   "metadata": {},
   "source": [
    "We will produce the `stats` function for `averagerating`"
   ]
  },
  {
   "cell_type": "code",
   "execution_count": 125,
   "id": "009c7ca2",
   "metadata": {},
   "outputs": [
    {
     "name": "stdout",
     "output_type": "stream",
     "text": [
      " Mean:6.249110568538549\n",
      " Median:6.4\n",
      " Std:1.1859530886691918\n",
      "\n"
     ]
    }
   ],
   "source": [
    "stats('averagerating')"
   ]
  },
  {
   "cell_type": "markdown",
   "id": "b656d933",
   "metadata": {},
   "source": [
    "We will produce a histogram for `numvotes`"
   ]
  },
  {
   "cell_type": "code",
   "execution_count": 126,
   "id": "e0510dee",
   "metadata": {},
   "outputs": [
    {
     "data": {
      "image/png": "[encoded data removed]",
      "text/plain": [
       "<Figure size 640x480 with 1 Axes>"
      ]
     },
     "metadata": {},
     "output_type": "display_data"
    }
   ],
   "source": [
    "fig, ax = plt.subplots()\n",
    "plt.hist(cleaned_df[\"numvotes\"], bins=200)\n",
    "ax.set_title(\"numvotes\");"
   ]
  },
  {
   "cell_type": "markdown",
   "id": "c3375c53",
   "metadata": {},
   "source": [
    "We will produce the `stats` function for `numvotes`"
   ]
  },
  {
   "cell_type": "code",
   "execution_count": 127,
   "id": "c271a738",
   "metadata": {},
   "outputs": [
    {
     "name": "stdout",
     "output_type": "stream",
     "text": [
      " Mean:66465.27659574468\n",
      " Median:7999.0\n",
      " Std:134449.32806695305\n",
      "\n"
     ]
    }
   ],
   "source": [
    "stats('numvotes')"
   ]
  },
  {
   "cell_type": "markdown",
   "id": "3a3f46f1",
   "metadata": {},
   "source": [
    "We will produce a histogram for `production_budget`"
   ]
  },
  {
   "cell_type": "code",
   "execution_count": 128,
   "id": "881ea30f",
   "metadata": {},
   "outputs": [
    {
     "data": {
      "image/png": "[encoded data removed]",
      "text/plain": [
       "<Figure size 640x480 with 1 Axes>"
      ]
     },
     "metadata": {},
     "output_type": "display_data"
    }
   ],
   "source": [
    "fig, ax = plt.subplots()\n",
    "plt.hist(cleaned_df[\"production_budget\"], bins=200)\n",
    "ax.set_title(\"Production Budget\");"
   ]
  },
  {
   "cell_type": "markdown",
   "id": "ea04f452",
   "metadata": {},
   "source": [
    "We will produce the `stats` function for `production_budget`"
   ]
  },
  {
   "cell_type": "code",
   "execution_count": 129,
   "id": "93154b1d",
   "metadata": {},
   "outputs": [
    {
     "name": "stdout",
     "output_type": "stream",
     "text": [
      " Mean:34287085.19637252\n",
      " Median:17000000.0\n",
      " Std:47672750.903373405\n",
      "\n"
     ]
    }
   ],
   "source": [
    "stats('production_budget')"
   ]
  },
  {
   "cell_type": "markdown",
   "id": "53cc2ba2",
   "metadata": {},
   "source": [
    "We will produce a histogram for `domestic_gross`"
   ]
  },
  {
   "cell_type": "code",
   "execution_count": 130,
   "id": "16836917",
   "metadata": {},
   "outputs": [
    {
     "data": {
      "image/png": "[encoded data removed]",
      "text/plain": [
       "<Figure size 640x480 with 1 Axes>"
      ]
     },
     "metadata": {},
     "output_type": "display_data"
    }
   ],
   "source": [
    "fig, ax = plt.subplots()\n",
    "plt.hist(cleaned_df[\"domestic_gross\"], bins=200)\n",
    "ax.set_title(\"domestic_gross\");"
   ]
  },
  {
   "cell_type": "markdown",
   "id": "47f3b008",
   "metadata": {},
   "source": [
    "We will produce the `stats` function for `domestic_gross`"
   ]
  },
  {
   "cell_type": "code",
   "execution_count": 87,
   "id": "6ad6aa33",
   "metadata": {},
   "outputs": [
    {
     "name": "stdout",
     "output_type": "stream",
     "text": [
      " Mean:43015135.7603767\n",
      " Median:16376066.0\n",
      " Std:74609315.36676295\n",
      "\n"
     ]
    }
   ],
   "source": [
    "stats('domestic_gross')"
   ]
  },
  {
   "cell_type": "markdown",
   "id": "75dc1071",
   "metadata": {},
   "source": [
    "We will produce a histogram for `worlwide_net_revenue`"
   ]
  },
  {
   "cell_type": "code",
   "execution_count": 88,
   "id": "6febfe81",
   "metadata": {},
   "outputs": [
    {
     "data": {
      "image/png": "[encoded data removed]",
      "text/plain": [
       "<Figure size 640x480 with 1 Axes>"
      ]
     },
     "metadata": {},
     "output_type": "display_data"
    }
   ],
   "source": [
    "fig, ax = plt.subplots()\n",
    "plt.hist(cleaned_df[\"worlwide_net_revenue\"], bins=200)\n",
    "ax.set_title(\"worlwide_net_revenue\");"
   ]
  },
  {
   "cell_type": "markdown",
   "id": "e8a42b2b",
   "metadata": {},
   "source": [
    "We will produce the `stats` function for `worlwide_net_revenue`"
   ]
  },
  {
   "cell_type": "code",
   "execution_count": 89,
   "id": "0c0be6e0",
   "metadata": {},
   "outputs": [
    {
     "name": "stdout",
     "output_type": "stream",
     "text": [
      " Mean:68593345.74363446\n",
      " Median:9596747.0\n",
      " Std:169464167.71571285\n",
      "\n"
     ]
    }
   ],
   "source": [
    "stats('worlwide_net_revenue')"
   ]
  },
  {
   "cell_type": "markdown",
   "id": "f8be09eb",
   "metadata": {},
   "source": [
    "Let's create a new column named `'by_genre'` that performs an individual `COUNT` for each genre. Since some films have multi-categorical genres, we need to break them down into single categories, resulting in the film appearing as many times as the number of genres it has. This will allow us to group the data later by genre using `.GROUPBY()`."
   ]
  },
  {
   "cell_type": "code",
   "execution_count": 140,
   "id": "5f7ac4da",
   "metadata": {},
   "outputs": [
    {
     "data": {
      "text/html": [
       "<div>\n",
       "<style scoped>\n",
       "    .dataframe tbody tr th:only-of-type {\n",
       "        vertical-align: middle;\n",
       "    }\n",
       "\n",
       "    .dataframe tbody tr th {\n",
       "        vertical-align: top;\n",
       "    }\n",
       "\n",
       "    .dataframe thead th {\n",
       "        text-align: right;\n",
       "    }\n",
       "</style>\n",
       "<table border=\"1\" class=\"dataframe\">\n",
       "  <thead>\n",
       "    <tr style=\"text-align: right;\">\n",
       "      <th></th>\n",
       "      <th>movie_id</th>\n",
       "      <th>movie</th>\n",
       "      <th>genres</th>\n",
       "      <th>averagerating</th>\n",
       "      <th>numvotes</th>\n",
       "      <th>id</th>\n",
       "      <th>release_date</th>\n",
       "      <th>production_budget</th>\n",
       "      <th>domestic_gross</th>\n",
       "      <th>worldwide_gross</th>\n",
       "      <th>im_and_movie_budget</th>\n",
       "      <th>worlwide_net_revenue</th>\n",
       "      <th>by_genre</th>\n",
       "    </tr>\n",
       "  </thead>\n",
       "  <tbody>\n",
       "    <tr>\n",
       "      <th>16</th>\n",
       "      <td>tt0249516</td>\n",
       "      <td>Foodfight!</td>\n",
       "      <td>Action,Animation,Comedy</td>\n",
       "      <td>1.9</td>\n",
       "      <td>8248</td>\n",
       "      <td>26.0</td>\n",
       "      <td>31-Dec-12</td>\n",
       "      <td>45000000</td>\n",
       "      <td>0</td>\n",
       "      <td>73706</td>\n",
       "      <td>both</td>\n",
       "      <td>-44926294</td>\n",
       "      <td>Action</td>\n",
       "    </tr>\n",
       "    <tr>\n",
       "      <th>16</th>\n",
       "      <td>tt0249516</td>\n",
       "      <td>Foodfight!</td>\n",
       "      <td>Action,Animation,Comedy</td>\n",
       "      <td>1.9</td>\n",
       "      <td>8248</td>\n",
       "      <td>26.0</td>\n",
       "      <td>31-Dec-12</td>\n",
       "      <td>45000000</td>\n",
       "      <td>0</td>\n",
       "      <td>73706</td>\n",
       "      <td>both</td>\n",
       "      <td>-44926294</td>\n",
       "      <td>Animation</td>\n",
       "    </tr>\n",
       "    <tr>\n",
       "      <th>16</th>\n",
       "      <td>tt0249516</td>\n",
       "      <td>Foodfight!</td>\n",
       "      <td>Action,Animation,Comedy</td>\n",
       "      <td>1.9</td>\n",
       "      <td>8248</td>\n",
       "      <td>26.0</td>\n",
       "      <td>31-Dec-12</td>\n",
       "      <td>45000000</td>\n",
       "      <td>0</td>\n",
       "      <td>73706</td>\n",
       "      <td>both</td>\n",
       "      <td>-44926294</td>\n",
       "      <td>Comedy</td>\n",
       "    </tr>\n",
       "    <tr>\n",
       "      <th>36</th>\n",
       "      <td>tt0337692</td>\n",
       "      <td>On the Road</td>\n",
       "      <td>Adventure,Drama,Romance</td>\n",
       "      <td>6.1</td>\n",
       "      <td>37886</td>\n",
       "      <td>17.0</td>\n",
       "      <td>22-Mar-13</td>\n",
       "      <td>25000000</td>\n",
       "      <td>720828</td>\n",
       "      <td>9313302</td>\n",
       "      <td>both</td>\n",
       "      <td>-15686698</td>\n",
       "      <td>Adventure</td>\n",
       "    </tr>\n",
       "    <tr>\n",
       "      <th>36</th>\n",
       "      <td>tt0337692</td>\n",
       "      <td>On the Road</td>\n",
       "      <td>Adventure,Drama,Romance</td>\n",
       "      <td>6.1</td>\n",
       "      <td>37886</td>\n",
       "      <td>17.0</td>\n",
       "      <td>22-Mar-13</td>\n",
       "      <td>25000000</td>\n",
       "      <td>720828</td>\n",
       "      <td>9313302</td>\n",
       "      <td>both</td>\n",
       "      <td>-15686698</td>\n",
       "      <td>Drama</td>\n",
       "    </tr>\n",
       "    <tr>\n",
       "      <th>36</th>\n",
       "      <td>tt0337692</td>\n",
       "      <td>On the Road</td>\n",
       "      <td>Adventure,Drama,Romance</td>\n",
       "      <td>6.1</td>\n",
       "      <td>37886</td>\n",
       "      <td>17.0</td>\n",
       "      <td>22-Mar-13</td>\n",
       "      <td>25000000</td>\n",
       "      <td>720828</td>\n",
       "      <td>9313302</td>\n",
       "      <td>both</td>\n",
       "      <td>-15686698</td>\n",
       "      <td>Romance</td>\n",
       "    </tr>\n",
       "  </tbody>\n",
       "</table>\n",
       "</div>"
      ],
      "text/plain": [
       "     movie_id        movie                   genres  averagerating  numvotes  \\\n",
       "16  tt0249516   Foodfight!  Action,Animation,Comedy            1.9      8248   \n",
       "16  tt0249516   Foodfight!  Action,Animation,Comedy            1.9      8248   \n",
       "16  tt0249516   Foodfight!  Action,Animation,Comedy            1.9      8248   \n",
       "36  tt0337692  On the Road  Adventure,Drama,Romance            6.1     37886   \n",
       "36  tt0337692  On the Road  Adventure,Drama,Romance            6.1     37886   \n",
       "36  tt0337692  On the Road  Adventure,Drama,Romance            6.1     37886   \n",
       "\n",
       "      id release_date  production_budget  domestic_gross  worldwide_gross  \\\n",
       "16  26.0    31-Dec-12           45000000               0            73706   \n",
       "16  26.0    31-Dec-12           45000000               0            73706   \n",
       "16  26.0    31-Dec-12           45000000               0            73706   \n",
       "36  17.0    22-Mar-13           25000000          720828          9313302   \n",
       "36  17.0    22-Mar-13           25000000          720828          9313302   \n",
       "36  17.0    22-Mar-13           25000000          720828          9313302   \n",
       "\n",
       "   im_and_movie_budget  worlwide_net_revenue   by_genre  \n",
       "16                both             -44926294     Action  \n",
       "16                both             -44926294  Animation  \n",
       "16                both             -44926294     Comedy  \n",
       "36                both             -15686698  Adventure  \n",
       "36                both             -15686698      Drama  \n",
       "36                both             -15686698    Romance  "
      ]
     },
     "execution_count": 140,
     "metadata": {},
     "output_type": "execute_result"
    }
   ],
   "source": [
    "# split values by commas from column genres and explode the column\n",
    "b2_explode_cleaned_df = cleaned_df.assign(by_genre=b2_cut_cleaned_df['genres'].str.split(',')).explode('by_genre')\n",
    "b2_explode_cleaned_df.head(6)"
   ]
  },
  {
   "cell_type": "code",
   "execution_count": 141,
   "id": "73ca9242",
   "metadata": {},
   "outputs": [
    {
     "data": {
      "text/plain": [
       "Drama          1491\n",
       "Comedy          758\n",
       "Action          630\n",
       "Thriller        509\n",
       "Adventure       448\n",
       "Crime           362\n",
       "Horror          360\n",
       "Romance         326\n",
       "Mystery         223\n",
       "Sci-Fi          204\n",
       "Documentary     204\n",
       "Biography       195\n",
       "Fantasy         175\n",
       "Family          144\n",
       "Animation       130\n",
       "Music            72\n",
       "History          71\n",
       "Sport            62\n",
       "War              39\n",
       "Musical          22\n",
       "Western          16\n",
       "News              3\n",
       "Name: by_genre, dtype: int64"
      ]
     },
     "execution_count": 141,
     "metadata": {},
     "output_type": "execute_result"
    }
   ],
   "source": [
    "# Count appearances of each genre. \n",
    "b2_explode_cleaned_df['by_genre'].value_counts()"
   ]
  },
  {
   "cell_type": "markdown",
   "id": "e3dea070",
   "metadata": {},
   "source": [
    "### Finding the population correlation between `production_budget` and `worlwide_net_revenue`.\n",
    "\n",
    "Lets add the correlation level and the R-squared coefficient. Lets use the regressión line as tendency line just to ilustrate the positive correlation."
   ]
  },
  {
   "cell_type": "code",
   "execution_count": 168,
   "id": "7d56d33e",
   "metadata": {},
   "outputs": [
    {
     "data": {
      "image/png": "[encoded data removed]",
      "text/plain": [
       "<Figure size 800x500 with 1 Axes>"
      ]
     },
     "metadata": {},
     "output_type": "display_data"
    }
   ],
   "source": [
    "# Fit linear regression model\n",
    "model = LinearRegression().fit(b2_explode_cleaned_df[['production_budget']], b2_explode_cleaned_df['worlwide_net_revenue'])\n",
    "\n",
    "# Create scatter plot with regression line\n",
    "fig, ax = plt.subplots(figsize=(8,5))\n",
    "ax.scatter(b2_explode_cleaned_df['production_budget'], b2_explode_cleaned_df['worlwide_net_revenue'], alpha=0.5)\n",
    "ax.plot(b2_explode_cleaned_df['production_budget'], model.predict(b2_explode_cleaned_df[['production_budget']]), color='red')\n",
    "\n",
    "# Set axis labels and title\n",
    "ax.set_xlabel('Production Budget ($)')\n",
    "ax.set_ylabel('Worldwide Net Revenue ($)')\n",
    "ax.set_title('Revenue vs Budget for Population')\n",
    "\n",
    "# Add a legend\n",
    "ax.legend([\"Data Points\", \"Tendency Line\"], loc=(.05, .80))\n",
    "\n",
    "# Add gridlines\n",
    "ax.grid()\n",
    "\n",
    "# Format tick labels\n",
    "ax.get_xaxis().set_major_formatter(plt.FuncFormatter(lambda x, loc: \"${:,.0f}\".format(x)))\n",
    "ax.get_yaxis().set_major_formatter(plt.FuncFormatter(lambda x, loc: \"${:,.0f}\".format(x)))\n",
    "\n",
    "# Save and show plot\n",
    "plt.savefig('plot.png', dpi=300, bbox_inches='tight')\n",
    "plt.show()"
   ]
  },
  {
   "cell_type": "code",
   "execution_count": 174,
   "id": "bcacfc37",
   "metadata": {},
   "outputs": [
    {
     "name": "stdout",
     "output_type": "stream",
     "text": [
      "The R-squared coeficient is: 0.42798445595949036\n",
      "The Pearson coeficient is: 0.6542052093643786\n",
      "The p-value is: 0.0\n"
     ]
    }
   ],
   "source": [
    "# R-squared coeficient\n",
    "# calculate the slope, the intercept and the correlation coefficient\n",
    "slope, intercept, r_value, p_value, std_err = stats.linregress(b2_explode_cleaned_df['production_budget'], b2_explode_cleaned_df['worlwide_net_revenue'])\n",
    "\n",
    "# calculating the coefficient of determination (R-squared)\n",
    "r_squared = r_value**2\n",
    "\n",
    "# print r-squared coeficient\n",
    "print(f\"The R-squared coeficient is: {r_squared}\")\n",
    "\n",
    "# Pearson Coeficient:\n",
    "corr_coef, p_value = pearsonr(b2_explode_cleaned_df[\"production_budget\"], b2_explode_cleaned_df[\"worlwide_net_revenue\"])\n",
    "print(f'The Pearson coeficient is: {corr_coef}\\nThe p-value is: {p_value}')"
   ]
  },
  {
   "cell_type": "markdown",
   "id": "779b6f8d",
   "metadata": {},
   "source": [
    "The pearson coeficients indicate a moderate-strong postive correlation between` production_budget` and `worlwide_net_revenue`.\n",
    "The R-squared suggests that less than half of the observed variation of `worlwide_net_revenue` can be explained by `production_budget`. This two points are not conclusive, but gives us an idea that overall there is no reason to believe that the higher the budget the higher the revenue. \n",
    "\n",
    "Next steps requires identifying the correlation level across genres and creating a graph to better understand their level."
   ]
  },
  {
   "cell_type": "code",
   "execution_count": 204,
   "id": "c2b3ee08",
   "metadata": {},
   "outputs": [],
   "source": [
    "def get_rsquared_by_genre(df):\n",
    "    \"\"\"\n",
    "    Iterates over the distinct genres in the 'by_genre' column of a pandas DataFrame\n",
    "    and calculates the R-squared coefficient for each genre using linear regression.\n",
    "    \n",
    "    Parameters:\n",
    "        df (pandas.DataFrame): The DataFrame to iterate over.\n",
    "        \n",
    "    Returns:\n",
    "        A pandas DataFrame with two columns: 'Genre' and 'R-squared', containing the \n",
    "        calculated R-squared coefficient for each distinct genre in the 'by_genre' column.\n",
    "    \"\"\"\n",
    "    # get list of distinct genres\n",
    "    genres = df['by_genre'].unique()\n",
    "    \n",
    "    # initialize empty lists to store results\n",
    "    genre_list = []\n",
    "    rsquared_list = []\n",
    "    \n",
    "    # iterate over genres and calculate R-squared for each\n",
    "    for genre in genres:\n",
    "        # subset DataFrame for current genre\n",
    "        genre_df = df[df['by_genre'] == genre]\n",
    "        \n",
    "        # calculate R-squared using linear regression\n",
    "        slope, intercept, r_value, p_value, std_err = stats.linregress(genre_df['production_budget'], genre_df['worlwide_net_revenue'])\n",
    "        r_squared = r_value**2\n",
    "        \n",
    "        # append results to lists\n",
    "        genre_list.append(genre)\n",
    "        rsquared_list.append(r_squared)\n",
    "    \n",
    "    # create and return a new DataFrame with results\n",
    "    result_df = pd.DataFrame({'Genre': genre_list, 'R-squared': rsquared_list}).sort_values(by = 'R-squared', ascending = False)\n",
    "    return result_df"
   ]
  },
  {
   "cell_type": "code",
   "execution_count": 214,
   "id": "5156bfd9",
   "metadata": {},
   "outputs": [
    {
     "data": {
      "text/html": [
       "<div>\n",
       "<style scoped>\n",
       "    .dataframe tbody tr th:only-of-type {\n",
       "        vertical-align: middle;\n",
       "    }\n",
       "\n",
       "    .dataframe tbody tr th {\n",
       "        vertical-align: top;\n",
       "    }\n",
       "\n",
       "    .dataframe thead th {\n",
       "        text-align: right;\n",
       "    }\n",
       "</style>\n",
       "<table border=\"1\" class=\"dataframe\">\n",
       "  <thead>\n",
       "    <tr style=\"text-align: right;\">\n",
       "      <th></th>\n",
       "      <th>by_genre</th>\n",
       "      <th>R-squared</th>\n",
       "    </tr>\n",
       "  </thead>\n",
       "  <tbody>\n",
       "    <tr>\n",
       "      <th>20</th>\n",
       "      <td>Musical</td>\n",
       "      <td>0.604143</td>\n",
       "    </tr>\n",
       "    <tr>\n",
       "      <th>16</th>\n",
       "      <td>Sport</td>\n",
       "      <td>0.522832</td>\n",
       "    </tr>\n",
       "    <tr>\n",
       "      <th>10</th>\n",
       "      <td>Horror</td>\n",
       "      <td>0.502762</td>\n",
       "    </tr>\n",
       "    <tr>\n",
       "      <th>7</th>\n",
       "      <td>Sci-Fi</td>\n",
       "      <td>0.485556</td>\n",
       "    </tr>\n",
       "    <tr>\n",
       "      <th>14</th>\n",
       "      <td>War</td>\n",
       "      <td>0.449724</td>\n",
       "    </tr>\n",
       "    <tr>\n",
       "      <th>6</th>\n",
       "      <td>Crime</td>\n",
       "      <td>0.438581</td>\n",
       "    </tr>\n",
       "    <tr>\n",
       "      <th>0</th>\n",
       "      <td>Action</td>\n",
       "      <td>0.425931</td>\n",
       "    </tr>\n",
       "    <tr>\n",
       "      <th>2</th>\n",
       "      <td>Comedy</td>\n",
       "      <td>0.396817</td>\n",
       "    </tr>\n",
       "    <tr>\n",
       "      <th>8</th>\n",
       "      <td>Family</td>\n",
       "      <td>0.387774</td>\n",
       "    </tr>\n",
       "    <tr>\n",
       "      <th>9</th>\n",
       "      <td>Thriller</td>\n",
       "      <td>0.384037</td>\n",
       "    </tr>\n",
       "    <tr>\n",
       "      <th>15</th>\n",
       "      <td>Fantasy</td>\n",
       "      <td>0.372668</td>\n",
       "    </tr>\n",
       "    <tr>\n",
       "      <th>3</th>\n",
       "      <td>Adventure</td>\n",
       "      <td>0.360849</td>\n",
       "    </tr>\n",
       "    <tr>\n",
       "      <th>21</th>\n",
       "      <td>News</td>\n",
       "      <td>0.349186</td>\n",
       "    </tr>\n",
       "    <tr>\n",
       "      <th>1</th>\n",
       "      <td>Animation</td>\n",
       "      <td>0.341073</td>\n",
       "    </tr>\n",
       "    <tr>\n",
       "      <th>13</th>\n",
       "      <td>History</td>\n",
       "      <td>0.322123</td>\n",
       "    </tr>\n",
       "    <tr>\n",
       "      <th>5</th>\n",
       "      <td>Romance</td>\n",
       "      <td>0.302557</td>\n",
       "    </tr>\n",
       "    <tr>\n",
       "      <th>12</th>\n",
       "      <td>Biography</td>\n",
       "      <td>0.256764</td>\n",
       "    </tr>\n",
       "    <tr>\n",
       "      <th>4</th>\n",
       "      <td>Drama</td>\n",
       "      <td>0.239826</td>\n",
       "    </tr>\n",
       "    <tr>\n",
       "      <th>18</th>\n",
       "      <td>Documentary</td>\n",
       "      <td>0.238663</td>\n",
       "    </tr>\n",
       "    <tr>\n",
       "      <th>17</th>\n",
       "      <td>Music</td>\n",
       "      <td>0.223204</td>\n",
       "    </tr>\n",
       "    <tr>\n",
       "      <th>11</th>\n",
       "      <td>Mystery</td>\n",
       "      <td>0.122329</td>\n",
       "    </tr>\n",
       "    <tr>\n",
       "      <th>19</th>\n",
       "      <td>Western</td>\n",
       "      <td>0.024072</td>\n",
       "    </tr>\n",
       "  </tbody>\n",
       "</table>\n",
       "</div>"
      ],
      "text/plain": [
       "       by_genre  R-squared\n",
       "20      Musical   0.604143\n",
       "16        Sport   0.522832\n",
       "10       Horror   0.502762\n",
       "7        Sci-Fi   0.485556\n",
       "14          War   0.449724\n",
       "6         Crime   0.438581\n",
       "0        Action   0.425931\n",
       "2        Comedy   0.396817\n",
       "8        Family   0.387774\n",
       "9      Thriller   0.384037\n",
       "15      Fantasy   0.372668\n",
       "3     Adventure   0.360849\n",
       "21         News   0.349186\n",
       "1     Animation   0.341073\n",
       "13      History   0.322123\n",
       "5       Romance   0.302557\n",
       "12    Biography   0.256764\n",
       "4         Drama   0.239826\n",
       "18  Documentary   0.238663\n",
       "17        Music   0.223204\n",
       "11      Mystery   0.122329\n",
       "19      Western   0.024072"
      ]
     },
     "execution_count": 214,
     "metadata": {},
     "output_type": "execute_result"
    }
   ],
   "source": [
    "# Assign function ouput to 'dataframe'\n",
    "rsquare_df = get_rsquared_by_genre(b2_explode_cleaned_df)\n",
    "\n",
    "# Change column name from 'Genre' to 'by_genre'\n",
    "rsquare_df.rename(columns={'Genre' : 'by_genre'}, inplace = True)\n",
    "\n",
    "# Print df\n",
    "rsquare_df"
   ]
  },
  {
   "cell_type": "code",
   "execution_count": 216,
   "id": "7fcfd38c",
   "metadata": {},
   "outputs": [
    {
     "data": {
      "text/html": [
       "<div>\n",
       "<style scoped>\n",
       "    .dataframe tbody tr th:only-of-type {\n",
       "        vertical-align: middle;\n",
       "    }\n",
       "\n",
       "    .dataframe tbody tr th {\n",
       "        vertical-align: top;\n",
       "    }\n",
       "\n",
       "    .dataframe thead th {\n",
       "        text-align: right;\n",
       "    }\n",
       "</style>\n",
       "<table border=\"1\" class=\"dataframe\">\n",
       "  <thead>\n",
       "    <tr style=\"text-align: right;\">\n",
       "      <th></th>\n",
       "      <th>by_genre</th>\n",
       "      <th>Pearson_coef</th>\n",
       "    </tr>\n",
       "  </thead>\n",
       "  <tbody>\n",
       "    <tr>\n",
       "      <th>0</th>\n",
       "      <td>Musical</td>\n",
       "      <td>0.777266</td>\n",
       "    </tr>\n",
       "    <tr>\n",
       "      <th>1</th>\n",
       "      <td>Sport</td>\n",
       "      <td>0.723071</td>\n",
       "    </tr>\n",
       "    <tr>\n",
       "      <th>2</th>\n",
       "      <td>Horror</td>\n",
       "      <td>0.709057</td>\n",
       "    </tr>\n",
       "    <tr>\n",
       "      <th>3</th>\n",
       "      <td>Sci-Fi</td>\n",
       "      <td>0.696818</td>\n",
       "    </tr>\n",
       "    <tr>\n",
       "      <th>4</th>\n",
       "      <td>War</td>\n",
       "      <td>0.670615</td>\n",
       "    </tr>\n",
       "    <tr>\n",
       "      <th>5</th>\n",
       "      <td>Crime</td>\n",
       "      <td>0.662254</td>\n",
       "    </tr>\n",
       "    <tr>\n",
       "      <th>6</th>\n",
       "      <td>Action</td>\n",
       "      <td>0.652634</td>\n",
       "    </tr>\n",
       "    <tr>\n",
       "      <th>7</th>\n",
       "      <td>Comedy</td>\n",
       "      <td>0.629934</td>\n",
       "    </tr>\n",
       "    <tr>\n",
       "      <th>8</th>\n",
       "      <td>Family</td>\n",
       "      <td>0.622715</td>\n",
       "    </tr>\n",
       "    <tr>\n",
       "      <th>9</th>\n",
       "      <td>Thriller</td>\n",
       "      <td>0.619707</td>\n",
       "    </tr>\n",
       "    <tr>\n",
       "      <th>10</th>\n",
       "      <td>Fantasy</td>\n",
       "      <td>0.610466</td>\n",
       "    </tr>\n",
       "    <tr>\n",
       "      <th>11</th>\n",
       "      <td>Adventure</td>\n",
       "      <td>0.600707</td>\n",
       "    </tr>\n",
       "    <tr>\n",
       "      <th>12</th>\n",
       "      <td>News</td>\n",
       "      <td>0.590920</td>\n",
       "    </tr>\n",
       "    <tr>\n",
       "      <th>13</th>\n",
       "      <td>Animation</td>\n",
       "      <td>0.584015</td>\n",
       "    </tr>\n",
       "    <tr>\n",
       "      <th>14</th>\n",
       "      <td>History</td>\n",
       "      <td>0.567559</td>\n",
       "    </tr>\n",
       "    <tr>\n",
       "      <th>15</th>\n",
       "      <td>Romance</td>\n",
       "      <td>0.550052</td>\n",
       "    </tr>\n",
       "    <tr>\n",
       "      <th>16</th>\n",
       "      <td>Biography</td>\n",
       "      <td>0.506719</td>\n",
       "    </tr>\n",
       "    <tr>\n",
       "      <th>17</th>\n",
       "      <td>Drama</td>\n",
       "      <td>0.489720</td>\n",
       "    </tr>\n",
       "    <tr>\n",
       "      <th>18</th>\n",
       "      <td>Documentary</td>\n",
       "      <td>0.488532</td>\n",
       "    </tr>\n",
       "    <tr>\n",
       "      <th>19</th>\n",
       "      <td>Music</td>\n",
       "      <td>0.472445</td>\n",
       "    </tr>\n",
       "    <tr>\n",
       "      <th>20</th>\n",
       "      <td>Mystery</td>\n",
       "      <td>0.349756</td>\n",
       "    </tr>\n",
       "    <tr>\n",
       "      <th>21</th>\n",
       "      <td>Western</td>\n",
       "      <td>0.155151</td>\n",
       "    </tr>\n",
       "  </tbody>\n",
       "</table>\n",
       "</div>"
      ],
      "text/plain": [
       "       by_genre  Pearson_coef\n",
       "0       Musical      0.777266\n",
       "1         Sport      0.723071\n",
       "2        Horror      0.709057\n",
       "3        Sci-Fi      0.696818\n",
       "4           War      0.670615\n",
       "5         Crime      0.662254\n",
       "6        Action      0.652634\n",
       "7        Comedy      0.629934\n",
       "8        Family      0.622715\n",
       "9      Thriller      0.619707\n",
       "10      Fantasy      0.610466\n",
       "11    Adventure      0.600707\n",
       "12         News      0.590920\n",
       "13    Animation      0.584015\n",
       "14      History      0.567559\n",
       "15      Romance      0.550052\n",
       "16    Biography      0.506719\n",
       "17        Drama      0.489720\n",
       "18  Documentary      0.488532\n",
       "19        Music      0.472445\n",
       "20      Mystery      0.349756\n",
       "21      Western      0.155151"
      ]
     },
     "execution_count": 216,
     "metadata": {},
     "output_type": "execute_result"
    }
   ],
   "source": [
    "# Dataframe containing pearson coeficient by movie genre\n",
    "b2_corr_table = b2_explode_cleaned_df.groupby('by_genre')[['production_budget', 'worlwide_net_revenue']].corr().iloc[0::2,-1].sort_values(ascending=False).reset_index()\n",
    "\n",
    "# Drop column name 'level_1'\n",
    "b2_corr_table.drop(columns = 'level_1', inplace = True)\n",
    "\n",
    "# Change column name from 'Genre' to 'by_genre'\n",
    "b2_corr_table.rename(columns={'worlwide_net_revenue' : 'Pearson_coef'}, inplace = True)\n",
    "\n",
    "# Print df\n",
    "b2_corr_table"
   ]
  },
  {
   "cell_type": "code",
   "execution_count": 256,
   "id": "0ffc3df8",
   "metadata": {},
   "outputs": [
    {
     "data": {
      "text/html": [
       "<div>\n",
       "<style scoped>\n",
       "    .dataframe tbody tr th:only-of-type {\n",
       "        vertical-align: middle;\n",
       "    }\n",
       "\n",
       "    .dataframe tbody tr th {\n",
       "        vertical-align: top;\n",
       "    }\n",
       "\n",
       "    .dataframe thead th {\n",
       "        text-align: right;\n",
       "    }\n",
       "</style>\n",
       "<table border=\"1\" class=\"dataframe\">\n",
       "  <thead>\n",
       "    <tr style=\"text-align: right;\">\n",
       "      <th></th>\n",
       "      <th>by_genre</th>\n",
       "      <th>Pearson_coef</th>\n",
       "      <th>R-squared</th>\n",
       "    </tr>\n",
       "  </thead>\n",
       "  <tbody>\n",
       "    <tr>\n",
       "      <th>0</th>\n",
       "      <td>Musical</td>\n",
       "      <td>0.777266</td>\n",
       "      <td>0.604143</td>\n",
       "    </tr>\n",
       "    <tr>\n",
       "      <th>1</th>\n",
       "      <td>Sport</td>\n",
       "      <td>0.723071</td>\n",
       "      <td>0.522832</td>\n",
       "    </tr>\n",
       "    <tr>\n",
       "      <th>2</th>\n",
       "      <td>Horror</td>\n",
       "      <td>0.709057</td>\n",
       "      <td>0.502762</td>\n",
       "    </tr>\n",
       "    <tr>\n",
       "      <th>3</th>\n",
       "      <td>Sci-Fi</td>\n",
       "      <td>0.696818</td>\n",
       "      <td>0.485556</td>\n",
       "    </tr>\n",
       "    <tr>\n",
       "      <th>4</th>\n",
       "      <td>War</td>\n",
       "      <td>0.670615</td>\n",
       "      <td>0.449724</td>\n",
       "    </tr>\n",
       "    <tr>\n",
       "      <th>5</th>\n",
       "      <td>Crime</td>\n",
       "      <td>0.662254</td>\n",
       "      <td>0.438581</td>\n",
       "    </tr>\n",
       "    <tr>\n",
       "      <th>6</th>\n",
       "      <td>Action</td>\n",
       "      <td>0.652634</td>\n",
       "      <td>0.425931</td>\n",
       "    </tr>\n",
       "    <tr>\n",
       "      <th>7</th>\n",
       "      <td>Comedy</td>\n",
       "      <td>0.629934</td>\n",
       "      <td>0.396817</td>\n",
       "    </tr>\n",
       "    <tr>\n",
       "      <th>8</th>\n",
       "      <td>Family</td>\n",
       "      <td>0.622715</td>\n",
       "      <td>0.387774</td>\n",
       "    </tr>\n",
       "    <tr>\n",
       "      <th>9</th>\n",
       "      <td>Thriller</td>\n",
       "      <td>0.619707</td>\n",
       "      <td>0.384037</td>\n",
       "    </tr>\n",
       "    <tr>\n",
       "      <th>10</th>\n",
       "      <td>Fantasy</td>\n",
       "      <td>0.610466</td>\n",
       "      <td>0.372668</td>\n",
       "    </tr>\n",
       "    <tr>\n",
       "      <th>11</th>\n",
       "      <td>Adventure</td>\n",
       "      <td>0.600707</td>\n",
       "      <td>0.360849</td>\n",
       "    </tr>\n",
       "    <tr>\n",
       "      <th>12</th>\n",
       "      <td>News</td>\n",
       "      <td>0.590920</td>\n",
       "      <td>0.349186</td>\n",
       "    </tr>\n",
       "    <tr>\n",
       "      <th>13</th>\n",
       "      <td>Animation</td>\n",
       "      <td>0.584015</td>\n",
       "      <td>0.341073</td>\n",
       "    </tr>\n",
       "    <tr>\n",
       "      <th>14</th>\n",
       "      <td>History</td>\n",
       "      <td>0.567559</td>\n",
       "      <td>0.322123</td>\n",
       "    </tr>\n",
       "    <tr>\n",
       "      <th>15</th>\n",
       "      <td>Romance</td>\n",
       "      <td>0.550052</td>\n",
       "      <td>0.302557</td>\n",
       "    </tr>\n",
       "    <tr>\n",
       "      <th>16</th>\n",
       "      <td>Biography</td>\n",
       "      <td>0.506719</td>\n",
       "      <td>0.256764</td>\n",
       "    </tr>\n",
       "    <tr>\n",
       "      <th>17</th>\n",
       "      <td>Drama</td>\n",
       "      <td>0.489720</td>\n",
       "      <td>0.239826</td>\n",
       "    </tr>\n",
       "    <tr>\n",
       "      <th>18</th>\n",
       "      <td>Documentary</td>\n",
       "      <td>0.488532</td>\n",
       "      <td>0.238663</td>\n",
       "    </tr>\n",
       "    <tr>\n",
       "      <th>19</th>\n",
       "      <td>Music</td>\n",
       "      <td>0.472445</td>\n",
       "      <td>0.223204</td>\n",
       "    </tr>\n",
       "    <tr>\n",
       "      <th>20</th>\n",
       "      <td>Mystery</td>\n",
       "      <td>0.349756</td>\n",
       "      <td>0.122329</td>\n",
       "    </tr>\n",
       "    <tr>\n",
       "      <th>21</th>\n",
       "      <td>Western</td>\n",
       "      <td>0.155151</td>\n",
       "      <td>0.024072</td>\n",
       "    </tr>\n",
       "  </tbody>\n",
       "</table>\n",
       "</div>"
      ],
      "text/plain": [
       "       by_genre  Pearson_coef  R-squared\n",
       "0       Musical      0.777266   0.604143\n",
       "1         Sport      0.723071   0.522832\n",
       "2        Horror      0.709057   0.502762\n",
       "3        Sci-Fi      0.696818   0.485556\n",
       "4           War      0.670615   0.449724\n",
       "5         Crime      0.662254   0.438581\n",
       "6        Action      0.652634   0.425931\n",
       "7        Comedy      0.629934   0.396817\n",
       "8        Family      0.622715   0.387774\n",
       "9      Thriller      0.619707   0.384037\n",
       "10      Fantasy      0.610466   0.372668\n",
       "11    Adventure      0.600707   0.360849\n",
       "12         News      0.590920   0.349186\n",
       "13    Animation      0.584015   0.341073\n",
       "14      History      0.567559   0.322123\n",
       "15      Romance      0.550052   0.302557\n",
       "16    Biography      0.506719   0.256764\n",
       "17        Drama      0.489720   0.239826\n",
       "18  Documentary      0.488532   0.238663\n",
       "19        Music      0.472445   0.223204\n",
       "20      Mystery      0.349756   0.122329\n",
       "21      Western      0.155151   0.024072"
      ]
     },
     "execution_count": 256,
     "metadata": {},
     "output_type": "execute_result"
    }
   ],
   "source": [
    "# Merge two dataframes\n",
    "r_pear_coef_df = pd.merge(b2_corr_table ,rsquare_df, on='by_genre', how='left')\n",
    "r_pear_coef_df"
   ]
  },
  {
   "cell_type": "code",
   "execution_count": 263,
   "id": "19d3136b",
   "metadata": {},
   "outputs": [
    {
     "data": {
      "image/png": "[encoded data removed]",
      "text/plain": [
       "<Figure size 640x480 with 1 Axes>"
      ]
     },
     "metadata": {},
     "output_type": "display_data"
    }
   ],
   "source": [
    "# melt the DataFrame to create a tidy format\n",
    "df_melt = pd.melt(r_pear_coef_df, id_vars='by_genre', var_name='metric', value_name='value')\n",
    "\n",
    "# create the bar graph\n",
    "sns.barplot(x='by_genre', y = 'value', hue = 'metric', data = df_melt)\n",
    "\n",
    "# add labels and legends to the graph\n",
    "plt.xlabel('by_genre')\n",
    "plt.ylabel('Value')\n",
    "plt.legend(title='Metric', loc='upper right')\n",
    "\n",
    "# Set axis labels and title\n",
    "plt.xlabel('Genres')\n",
    "# plt.ylabel('Correlation')\n",
    "plt.title('R^2 & Pearson: Budget vs Net Revenue across Genres')\n",
    "\n",
    "# Rotate xticks 90 degrees\n",
    "plt.xticks(rotation=90)\n",
    "\n",
    "# Save and show plot\n",
    "plt.savefig('plot_corre.png', dpi=300, bbox_inches='tight')\n",
    "plt.show();"
   ]
  },
  {
   "cell_type": "markdown",
   "id": "2924c828",
   "metadata": {},
   "source": [
    "A moderate-strong positive correlation was observed between `production_budget` and `worldwide_net_revenue`. However, this correlation decreases significantly across different genres, indicating that the relationship is not universal. The r-squared coefficient is also significantly lower across genres, indicating that there is not a strong relation between `production_budget` and `worldwide_net_revenue`. This suggests that higher budgets do not translate to higher revenues, neither for the population nor across genres.\n",
    "\n",
    "## Business Case 1: Conclusion\n",
    "\n",
    "The conclusion of this business case is that Computer Vision should be carefull when thinking that a biger budget will translate into higher revenue. So to speak, there is an adequate budget. Unfortunatedly, the data provided does not contain more data that could help us understand what other factors may contribute to high revenue."
   ]
  },
  {
   "cell_type": "markdown",
   "id": "bfd11670",
   "metadata": {},
   "source": [
    "# Business Case #3: Release Date(Season/Month) And Correlation With Popularity/Profit"
   ]
  },
  {
   "cell_type": "markdown",
   "id": "368ee4b2",
   "metadata": {},
   "source": [
    "We are to Count Total Number of Movies released per Season"
   ]
  },
  {
   "cell_type": "code",
   "execution_count": 108,
   "id": "4d02b402",
   "metadata": {},
   "outputs": [
    {
     "ename": "KeyError",
     "evalue": "None",
     "output_type": "error",
     "traceback": [
      "\u001b[1;31m---------------------------------------------------------------------------\u001b[0m",
      "\u001b[1;31mKeyError\u001b[0m                                  Traceback (most recent call last)",
      "\u001b[1;32m~\\AppData\\Local\\Temp\\ipykernel_23376\\3359397667.py\u001b[0m in \u001b[0;36m<module>\u001b[1;34m\u001b[0m\n\u001b[0;32m     19\u001b[0m         \u001b[0mseason_dict\u001b[0m\u001b[1;33m[\u001b[0m\u001b[0mkey\u001b[0m\u001b[1;33m]\u001b[0m\u001b[1;33m+=\u001b[0m\u001b[1;36m1\u001b[0m\u001b[1;33m\u001b[0m\u001b[1;33m\u001b[0m\u001b[0m\n\u001b[0;32m     20\u001b[0m     \u001b[1;32mreturn\u001b[0m \u001b[0mseason_dict\u001b[0m\u001b[1;33m\u001b[0m\u001b[1;33m\u001b[0m\u001b[0m\n\u001b[1;32m---> 21\u001b[1;33m \u001b[0mseason_count\u001b[0m\u001b[1;33m(\u001b[0m\u001b[1;33m)\u001b[0m\u001b[1;33m\u001b[0m\u001b[1;33m\u001b[0m\u001b[0m\n\u001b[0m",
      "\u001b[1;32m~\\AppData\\Local\\Temp\\ipykernel_23376\\3359397667.py\u001b[0m in \u001b[0;36mseason_count\u001b[1;34m()\u001b[0m\n\u001b[0;32m     17\u001b[0m         \u001b[0mx\u001b[0m \u001b[1;33m=\u001b[0m \u001b[0mi\u001b[0m\u001b[1;33m.\u001b[0m\u001b[0msplit\u001b[0m\u001b[1;33m(\u001b[0m\u001b[1;34m' '\u001b[0m\u001b[1;33m)\u001b[0m\u001b[1;33m\u001b[0m\u001b[1;33m\u001b[0m\u001b[0m\n\u001b[0;32m     18\u001b[0m         \u001b[0mkey\u001b[0m \u001b[1;33m=\u001b[0m \u001b[0mget_season\u001b[0m\u001b[1;33m(\u001b[0m\u001b[0mx\u001b[0m\u001b[1;33m)\u001b[0m\u001b[1;33m\u001b[0m\u001b[1;33m\u001b[0m\u001b[0m\n\u001b[1;32m---> 19\u001b[1;33m         \u001b[0mseason_dict\u001b[0m\u001b[1;33m[\u001b[0m\u001b[0mkey\u001b[0m\u001b[1;33m]\u001b[0m\u001b[1;33m+=\u001b[0m\u001b[1;36m1\u001b[0m\u001b[1;33m\u001b[0m\u001b[1;33m\u001b[0m\u001b[0m\n\u001b[0m\u001b[0;32m     20\u001b[0m     \u001b[1;32mreturn\u001b[0m \u001b[0mseason_dict\u001b[0m\u001b[1;33m\u001b[0m\u001b[1;33m\u001b[0m\u001b[0m\n\u001b[0;32m     21\u001b[0m \u001b[0mseason_count\u001b[0m\u001b[1;33m(\u001b[0m\u001b[1;33m)\u001b[0m\u001b[1;33m\u001b[0m\u001b[1;33m\u001b[0m\u001b[0m\n",
      "\u001b[1;31mKeyError\u001b[0m: None"
     ]
    }
   ],
   "source": [
    "#Count total movies in each season\n",
    "seasons = {'Spring': ['Mar', 'Apr', 'May'], 'Summer': ['Jun', 'Jul', 'Aug'], 'Fall': ['Sep', 'Oct', 'Nov'], 'Winter': ['Dec', 'Jan', 'Feb']}\n",
    "\n",
    "cleaned_df['release_date']\n",
    "\n",
    "season_dict = {'Spring':0,'Summer':0,'Fall':0,'Winter':0,}\n",
    "\n",
    "#function to return season\n",
    "def get_season(x):\n",
    "    for key,val in seasons.items():\n",
    "        if x[0] in val:\n",
    "            return key\n",
    "\n",
    "#function to add movies product by season\n",
    "def season_count():\n",
    "    for i in cleaned_df['release_date']:\n",
    "        x = i.split(' ')\n",
    "        key = get_season(x)\n",
    "        season_dict[key]+=1\n",
    "    return season_dict\n",
    "season_count()"
   ]
  },
  {
   "cell_type": "code",
   "execution_count": 110,
   "id": "9d096964",
   "metadata": {},
   "outputs": [
    {
     "data": {
      "text/plain": [
       "{'Spring': 0, 'Summer': 0, 'Fall': 0, 'Winter': 0}"
      ]
     },
     "execution_count": 110,
     "metadata": {},
     "output_type": "execute_result"
    }
   ],
   "source": [
    "# count total movies in each season\n",
    "seasons = {'Spring': ['Mar', 'Apr', 'May'], 'Summer': ['Jun', 'Jul', 'Aug'], 'Fall': ['Sep', 'Oct', 'Nov'], 'Winter': ['Dec', 'Jan', 'Feb']}\n",
    "\n",
    "# assuming cleaned_df is already defined and contains a column named 'release_date'\n",
    "\n",
    "season_dict = {'Spring': 0, 'Summer': 0, 'Fall': 0, 'Winter': 0}\n",
    "\n",
    "# function to return season\n",
    "def get_season(x):\n",
    "    for key, val in seasons.items():\n",
    "        if x[0] in val:\n",
    "            return key\n",
    "\n",
    "# function to count movies produced by season\n",
    "def season_count():\n",
    "    for i in cleaned_df['release_date']:\n",
    "        x = i.split(' ') # assuming the date format is yyyy-mm-dd\n",
    "        key = get_season(x)\n",
    "        if key is not None:\n",
    "            season_dict[key] += 1\n",
    "    return season_dict\n",
    "\n",
    "season_count()"
   ]
  },
  {
   "cell_type": "code",
   "execution_count": null,
   "id": "a13e89d4",
   "metadata": {},
   "outputs": [],
   "source": []
  },
  {
   "cell_type": "code",
   "execution_count": null,
   "id": "d0815fc3",
   "metadata": {},
   "outputs": [],
   "source": [
    "#Bar Chart\n",
    "fig, ax = plt.subplots()\n",
    "\n",
    "ax.bar(season_dict.keys(),season_dict.values())\n",
    "ax.set_xlabel('Seasons')\n",
    "ax.set_ylabel('Number of Movies Produced')\n",
    "ax.set_title('Distribution of Movies By Season')\n",
    "\n",
    "plt.savefig(\"figure.png\")"
   ]
  },
  {
   "cell_type": "markdown",
   "id": "da4c8741",
   "metadata": {},
   "source": [
    "We can see from the result that Fall-Winter has the most movie released "
   ]
  },
  {
   "cell_type": "markdown",
   "id": "de010902",
   "metadata": {},
   "source": [
    "We will now Count the VoteCount Popularity Between Each Season"
   ]
  },
  {
   "cell_type": "code",
   "execution_count": null,
   "id": "272b4762",
   "metadata": {},
   "outputs": [],
   "source": [
    "#Count of Popularity between each season\n",
    "\n",
    "cleaned_df['numvotes']\n",
    "\n",
    "popularity_dict={'Spring':0,'Summer':0,'Fall':0,'Winter':0,}\n",
    "\n",
    "length = cleaned_df.shape[0]\n",
    "\n",
    "def popularity_count():\n",
    "    for i in cleaned_df.itertuples():\n",
    "        numvote= i[5]\n",
    "        x=i[7].split(' ')\n",
    "        y=get_season(x)\n",
    "        popularity_dict[y]+=numvote\n",
    "    return popularity_dict\n",
    "\n",
    "popularity_count()"
   ]
  },
  {
   "cell_type": "code",
   "execution_count": null,
   "id": "40ba3a64",
   "metadata": {},
   "outputs": [],
   "source": [
    "#Bar Chart\n",
    "import matplotlib as mpl\n",
    "fig, ax = plt.subplots()\n",
    "\n",
    "ax.bar(popularity_dict.keys(),popularity_dict.values())\n",
    "ax.set_xlabel('Season')\n",
    "ax.set_ylabel('Number of Votecount')\n",
    "ax.set_title('Distribution of Votecount By Season')\n",
    "ax.yaxis.set_major_formatter(mpl.ticker.StrMethodFormatter('{x:,.0f}'))\n",
    "\n",
    "plt.savefig(\"figure4.png\")"
   ]
  },
  {
   "cell_type": "markdown",
   "id": "06553cd9",
   "metadata": {},
   "source": [
    "We can see that Summer-Fall is the most popular season for movies"
   ]
  },
  {
   "cell_type": "markdown",
   "id": "f558e767",
   "metadata": {},
   "source": [
    "To find an accurate rating to number of votes for each season, we will need to perform a weighted analysis for each season"
   ]
  },
  {
   "cell_type": "code",
   "execution_count": null,
   "id": "eb0eb542",
   "metadata": {},
   "outputs": [],
   "source": [
    "#Ratio of Rating to Numvotes of each season List\n",
    "spring_averagerating_list=[]\n",
    "summer_averagerating_list=[]\n",
    "fall_averagerating_list=[]\n",
    "winter_averagerating_list=[]\n",
    "\n",
    "#average numvotes\n",
    "spring_numvote_list=[]\n",
    "summer_numvote_list=[]\n",
    "fall_numvote_list=[]\n",
    "winter_numvote_list=[]\n",
    "\n",
    "#Average Rating of each Season List\n",
    "spring_rating_list=[]\n",
    "summer_rating_list=[]\n",
    "fall_rating_list=[]\n",
    "winter_rating_list=[]\n",
    "\n",
    "#loops through DataFrame\n",
    "for i in cleaned_df.itertuples():\n",
    "    rating = i[4]\n",
    "    numvotes = i[5]\n",
    "    avg = rating/ numvotes *100\n",
    "    x=i[7].split(' ')\n",
    "    y=get_season(x)\n",
    "    if y == 'Spring':\n",
    "        spring_averagerating_list.append(avg)\n",
    "        spring_rating_list.append(rating)\n",
    "        spring_numvote_list.append(numvotes)\n",
    "    if y == 'Summer':\n",
    "        summer_averagerating_list.append(avg)\n",
    "        summer_rating_list.append(rating)\n",
    "        summer_numvote_list.append(numvotes)\n",
    "    if y == 'Fall':\n",
    "        fall_averagerating_list.append(avg)\n",
    "        fall_rating_list.append(rating)\n",
    "        fall_numvote_list.append(numvotes)\n",
    "    if y == 'Winter':\n",
    "        winter_averagerating_list.append(avg)\n",
    "        winter_rating_list.append(rating)\n",
    "        winter_numvote_list.append(numvotes)\n",
    "        \n",
    "sp_mean = np.mean(spring_averagerating_list)\n",
    "su_mean = np.mean(summer_averagerating_list)\n",
    "f_mean = np.mean(fall_averagerating_list)\n",
    "w_mean = np.mean(winter_averagerating_list)\n",
    "\n",
    "sp_mean2 = np.mean(spring_rating_list)\n",
    "su_mean2 = np.mean(summer_rating_list)\n",
    "f_mean2 = np.mean(fall_rating_list)\n",
    "w_mean2 = np.mean(winter_rating_list)\n",
    "\n",
    "print(\"Average Spring Rating:\",sp_mean2)\n",
    "print(\"Average Summer Rating:\",su_mean2)\n",
    "print(\"Average Fall Rating:\", f_mean2)\n",
    "print(\"Average Winter Rating:\", w_mean2,\"\\n\")\n",
    "\n"
   ]
  },
  {
   "cell_type": "code",
   "execution_count": null,
   "id": "abd9c0f3",
   "metadata": {},
   "outputs": [],
   "source": [
    "#Pie Chart for Average Rating\n",
    "fig,ax = plt.subplots()\n",
    "\n",
    "x = {'Spring': sp_mean, 'Summer': su_mean, 'Fall': f_mean, 'Winter': w_mean}\n",
    "xx = {'Spring': sp_mean2, 'Summer': su_mean2, 'Fall': f_mean2, 'Winter': w_mean2}\n",
    "\n",
    "#Function to format chart\n",
    "def make_autopct(values):\n",
    "    def my_autopct(pct):\n",
    "        total = sum(values)\n",
    "        val = round((pct*total/100.0),2)\n",
    "        return ('{p:.2f}%  ({v:.1f})'.format(p=pct,v=val))\n",
    "    return my_autopct\n",
    "\n",
    "ax.pie(xx.values(),labels=xx.keys(),autopct = make_autopct(xx.values()), shadow=True)\n",
    "ax.set_title('Average Rating By Season')\n",
    "\n",
    "plt.show()\n"
   ]
  },
  {
   "cell_type": "markdown",
   "id": "6bc82ba0",
   "metadata": {},
   "source": [
    "Based off of the pie chart, we can see that the rating for each season are pretty similar but Fall and Summer has the greatest Ratings"
   ]
  },
  {
   "cell_type": "markdown",
   "id": "a5275158",
   "metadata": {},
   "source": [
    "Within our given dataset, we can see that there may be some rating:numvotes ratio that can be inaccurate which will skew our analysis. We will now perform a weighted rating calculation to find accurate rating to number of votes"
   ]
  },
  {
   "cell_type": "code",
   "execution_count": null,
   "id": "434e4f5b",
   "metadata": {},
   "outputs": [],
   "source": [
    "#weighted rating (WR) = (v ÷ (v+m)) × R + (m ÷ (v+m)) × C , where:\n",
    "\n",
    "#* R = average for the movie (mean) = (Rating)\n",
    "#* v = number of votes for the movie = (votes)\n",
    "#* m = minimum votes required to be listed in the Top 250 (currently 3000)\n",
    "#* C = the mean vote across the whole report (currently 6.9)\n",
    "\n",
    "#list of each season\n",
    "spring_list=[]\n",
    "summer_list=[]\n",
    "fall_list=[]\n",
    "winter_list=[]\n",
    "\n",
    "#median of each season\n",
    "med_sp = np.median(spring_numvote_list)\n",
    "med_su = np.median(summer_numvote_list)\n",
    "med_f = np.median(fall_numvote_list)\n",
    "med_w = np.median(winter_numvote_list)\n",
    "\n",
    "for i in cleaned_df.itertuples():\n",
    "    rating = i[4]\n",
    "    numvotes = i[5]\n",
    "    x=i[7].split(' ')\n",
    "    y=get_season(x)\n",
    "    \n",
    "    if y == 'Spring':\n",
    "        wr = (numvotes / (numvotes+med_sp)) * rating + (med_sp / (numvotes + med_sp)) * sp_mean2\n",
    "        spring_list.append(wr)\n",
    "    elif y == 'Summer':\n",
    "        wr = (numvotes / (numvotes+med_su)) * rating + (med_su / (numvotes + med_su)) * su_mean2\n",
    "        summer_list.append(wr)\n",
    "    elif y == 'Fall':\n",
    "        wr = (numvotes / (numvotes+med_f)) * rating + (med_f / (numvotes + med_f)) * f_mean2\n",
    "        fall_list.append(wr)\n",
    "    elif y == 'Winter':\n",
    "        wr = (numvotes / (numvotes+med_w)) * rating + (med_w / (numvotes + med_w)) * w_mean2\n",
    "        winter_list.append(wr)\n",
    "\n",
    "#average list\n",
    "avg_sp_mean = np.mean(spring_list)\n",
    "avg_su_mean = np.mean(summer_list)\n",
    "avg_f_mean = np.mean(fall_list)\n",
    "avg_w_mean= np.mean(winter_list)\n",
    "\n",
    "print('Weighted Average Spring Rating: ',avg_sp_mean )\n",
    "print('Weighted Average Summer Rating: ',avg_su_mean )\n",
    "print('Weighted Average Fall Rating: ',avg_f_mean )\n",
    "print('Weighted Average Winter Rating: ',avg_w_mean )"
   ]
  },
  {
   "cell_type": "code",
   "execution_count": null,
   "id": "418cc537",
   "metadata": {},
   "outputs": [],
   "source": [
    "\n",
    "\n"
   ]
  },
  {
   "cell_type": "code",
   "execution_count": null,
   "id": "703f7b49",
   "metadata": {},
   "outputs": [],
   "source": []
  },
  {
   "cell_type": "code",
   "execution_count": null,
   "id": "1f286945",
   "metadata": {},
   "outputs": [],
   "source": []
  },
  {
   "cell_type": "code",
   "execution_count": null,
   "id": "23476281",
   "metadata": {},
   "outputs": [],
   "source": [
    "#Pie Chart for weighed average\n",
    "xxx = {'Spring': avg_sp_mean, 'Summer': avg_su_mean, 'Fall': avg_f_mean, 'Winter': avg_w_mean}\n",
    "\n",
    "fig3,ax3 = plt.subplots()\n",
    "\n",
    "ax3.pie(xxx.values(),labels=xxx.keys(),autopct = make_autopct(xxx.values()), shadow=True)\n",
    "ax3.set_title('Weighted Average Rating Between Seasons')\n",
    "\n",
    "plt.show()"
   ]
  },
  {
   "cell_type": "markdown",
   "id": "aba55a0a",
   "metadata": {},
   "source": [
    "With the weighted rating calculations, we can see that Fall and Summer is the most popular\n",
    "\n",
    "Correlation Between Release Month vs. Number of Votes Popularity"
   ]
  },
  {
   "cell_type": "code",
   "execution_count": null,
   "id": "16cb67e5",
   "metadata": {},
   "outputs": [],
   "source": [
    "#correlation between release date vs. numvotes\n",
    "import calendar\n",
    "from datetime import datetime\n",
    "from matplotlib.ticker import (MultipleLocator,\n",
    "                               FormatStrFormatter,\n",
    "                               AutoMinorLocator)\n",
    "fig, ax = plt.subplots(figsize=(16, 8))\n",
    "\n",
    "month_list=[]\n",
    "month_value = {'Jan':1,'Feb':32,'Mar': 60,'Apr':91, 'May':121, 'Jun':152, 'Jul':182, 'Aug':213,'Sep':244,\"Oct\":274,'Nov':305,'Dec':335}\n",
    "\n",
    "#Convert Date to Int\n",
    "for i in cleaned_df['release_date']:\n",
    "        x = i.split(' ')\n",
    "        val = month_value[x[0]]\n",
    "        y = x[1].strip(',')\n",
    "        month_list.append(val + int(y) - 1) \n",
    "\n",
    "#Plot\n",
    "label = ['','Jan', 'Feb', 'Mar','Apr','May','Jun', 'Jul', 'Aug', 'Sep', 'Oct', 'Nov', 'Dec']\n",
    "        \n",
    "ax.scatter(month_list,cleaned_df['numvotes'],alpha=0.3)\n",
    "ax.set_xlabel('Months of the Year')\n",
    "ax.set_ylabel('Number Of Votes ')\n",
    "ax.set_title('Number of Votes vs. Month of Movie Release')\n",
    "\n",
    "ax.xaxis.set_major_locator(MultipleLocator(30))\n",
    "ax.yaxis.set_major_formatter(mpl.ticker.StrMethodFormatter('{x:,.0f}'))\n",
    "ax.set_xticklabels(label)\n",
    "\n",
    "\n",
    "plt.savefig('plot.png', dpi=300, bbox_inches='tight')\n",
    "plt.show()"
   ]
  },
  {
   "cell_type": "code",
   "execution_count": null,
   "id": "92600bea",
   "metadata": {},
   "outputs": [],
   "source": [
    "The correlation between number of vote and release month, has weak correlation but the highest popularity of the movie based on our limited datset, is around Summer Time"
   ]
  },
  {
   "cell_type": "code",
   "execution_count": null,
   "id": "0998a64f",
   "metadata": {},
   "outputs": [],
   "source": []
  },
  {
   "cell_type": "code",
   "execution_count": 101,
   "id": "198ea589",
   "metadata": {},
   "outputs": [
    {
     "ename": "SyntaxError",
     "evalue": "invalid non-printable character U+00A0 (960168518.py, line 2)",
     "output_type": "error",
     "traceback": [
      "\u001b[1;36m  File \u001b[1;32m\"C:\\Users\\raguilarsoriano\\AppData\\Local\\Temp\\ipykernel_23376\\960168518.py\"\u001b[1;36m, line \u001b[1;32m2\u001b[0m\n\u001b[1;33m    seasons= {'Spring': ['Mar','Apr','May'], 'Summer': ['Jun','Jul','Aug',], 'Fall': ['Sep','Oct','Nov'], 'Winter': ['Dec','Jan','Feb']} cleaned_df['release_date'] season_dict = {'Spring':0,'Summer':0,'Fall':0,'Winter':0,}\u001b[0m\n\u001b[1;37m                                                                                                                                        ^\u001b[0m\n\u001b[1;31mSyntaxError\u001b[0m\u001b[1;31m:\u001b[0m invalid non-printable character U+00A0\n"
     ]
    }
   ],
   "source": [
    "#Count total movies in each season\n",
    "seasons= {'Spring': ['Mar','Apr','May'], 'Summer': ['Jun','Jul','Aug',], 'Fall': ['Sep','Oct','Nov'], 'Winter': ['Dec','Jan','Feb']} cleaned_df['release_date'] season_dict = {'Spring':0,'Summer':0,'Fall':0,'Winter':0,} \n",
    "#function to return season\n",
    "def get_season(x):\n",
    "    for key,val in seasons.items():\n",
    "        if x[0] in val:\n",
    "            return key #function to add movies product by season\n",
    "def season_count():\n",
    "    for i in cleaned_df['release_date']:\n",
    "        x = i.split(' ')\n",
    "        key = get_season(x)\n",
    "        season_dict[key]+=1\n",
    "    return season_dict\n",
    "season_count()"
   ]
  },
  {
   "cell_type": "code",
   "execution_count": 100,
   "id": "649ad8ba",
   "metadata": {},
   "outputs": [
    {
     "data": {
      "text/plain": [
       "16       31-Dec-12\n",
       "36       22-Mar-13\n",
       "42       25-Dec-13\n",
       "46       19-Sep-14\n",
       "47       12-Jun-15\n",
       "           ...    \n",
       "72971    22-Apr-09\n",
       "73096    18-Dec-15\n",
       "73111    25-Dec-01\n",
       "73151     4-Aug-17\n",
       "73164    12-Nov-10\n",
       "Name: release_date, Length: 2867, dtype: object"
      ]
     },
     "execution_count": 100,
     "metadata": {},
     "output_type": "execute_result"
    }
   ],
   "source": [
    "cleaned_df['release_date']"
   ]
  }
 ],
 "metadata": {
  "kernelspec": {
   "display_name": "Python 3 (ipykernel)",
   "language": "python",
   "name": "python3"
  },
  "language_info": {
   "codemirror_mode": {
    "name": "ipython",
    "version": 3
   },
   "file_extension": ".py",
   "mimetype": "text/x-python",
   "name": "python",
   "nbconvert_exporter": "python",
   "pygments_lexer": "ipython3",
   "version": "3.9.13"
  }
 },
 "nbformat": 4,
 "nbformat_minor": 5
}
