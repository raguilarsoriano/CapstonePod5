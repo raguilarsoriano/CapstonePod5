{
 "cells": [
  {
   "cell_type": "markdown",
   "id": "87959da1",
   "metadata": {},
   "source": [
    "## Data Cleaning and merging dataframes\n",
    "\n",
    "In this notebook, we'll work with `movie_basic`s and `movie_ratings` tables from `'im.db'`. As well as `'tn.movie_budget.csv'`.\n",
    "\n",
    "Before we can get going, we'll need to import the relevant packages and conncet to the database."
   ]
  },
  {
   "cell_type": "code",
   "execution_count": 53,
   "id": "30eea557",
   "metadata": {},
   "outputs": [],
   "source": [
    "import pandas as pd\n",
    "import numpy as np\n",
    "import matplotlib.pyplot as plt\n",
    "import sqlite3\n",
    "conn = sqlite3.connect('Data/im.db')"
   ]
  },
  {
   "cell_type": "markdown",
   "id": "556da283",
   "metadata": {},
   "source": [
    "In this notebook we'll focus on the `movie_basics` and `movie_ratings`."
   ]
  },
  {
   "cell_type": "markdown",
   "id": "e6833011",
   "metadata": {},
   "source": [
    "## Compared to the Individual Tables:"
   ]
  },
  {
   "cell_type": "markdown",
   "id": "b06f55a1",
   "metadata": {},
   "source": [
    "### `movie_basics` Table:"
   ]
  },
  {
   "cell_type": "code",
   "execution_count": 54,
   "id": "7c78b754",
   "metadata": {},
   "outputs": [
    {
     "data": {
      "text/html": [
       "<div>\n",
       "<style scoped>\n",
       "    .dataframe tbody tr th:only-of-type {\n",
       "        vertical-align: middle;\n",
       "    }\n",
       "\n",
       "    .dataframe tbody tr th {\n",
       "        vertical-align: top;\n",
       "    }\n",
       "\n",
       "    .dataframe thead th {\n",
       "        text-align: right;\n",
       "    }\n",
       "</style>\n",
       "<table border=\"1\" class=\"dataframe\">\n",
       "  <thead>\n",
       "    <tr style=\"text-align: right;\">\n",
       "      <th></th>\n",
       "      <th>movie_id</th>\n",
       "      <th>primary_title</th>\n",
       "      <th>original_title</th>\n",
       "      <th>start_year</th>\n",
       "      <th>runtime_minutes</th>\n",
       "      <th>genres</th>\n",
       "    </tr>\n",
       "  </thead>\n",
       "  <tbody>\n",
       "    <tr>\n",
       "      <th>0</th>\n",
       "      <td>tt0063540</td>\n",
       "      <td>Sunghursh</td>\n",
       "      <td>Sunghursh</td>\n",
       "      <td>2013</td>\n",
       "      <td>175.0</td>\n",
       "      <td>Action,Crime,Drama</td>\n",
       "    </tr>\n",
       "    <tr>\n",
       "      <th>1</th>\n",
       "      <td>tt0066787</td>\n",
       "      <td>One Day Before the Rainy Season</td>\n",
       "      <td>Ashad Ka Ek Din</td>\n",
       "      <td>2019</td>\n",
       "      <td>114.0</td>\n",
       "      <td>Biography,Drama</td>\n",
       "    </tr>\n",
       "    <tr>\n",
       "      <th>2</th>\n",
       "      <td>tt0069049</td>\n",
       "      <td>The Other Side of the Wind</td>\n",
       "      <td>The Other Side of the Wind</td>\n",
       "      <td>2018</td>\n",
       "      <td>122.0</td>\n",
       "      <td>Drama</td>\n",
       "    </tr>\n",
       "    <tr>\n",
       "      <th>3</th>\n",
       "      <td>tt0069204</td>\n",
       "      <td>Sabse Bada Sukh</td>\n",
       "      <td>Sabse Bada Sukh</td>\n",
       "      <td>2018</td>\n",
       "      <td>NaN</td>\n",
       "      <td>Comedy,Drama</td>\n",
       "    </tr>\n",
       "    <tr>\n",
       "      <th>4</th>\n",
       "      <td>tt0100275</td>\n",
       "      <td>The Wandering Soap Opera</td>\n",
       "      <td>La Telenovela Errante</td>\n",
       "      <td>2017</td>\n",
       "      <td>80.0</td>\n",
       "      <td>Comedy,Drama,Fantasy</td>\n",
       "    </tr>\n",
       "  </tbody>\n",
       "</table>\n",
       "</div>"
      ],
      "text/plain": [
       "    movie_id                    primary_title              original_title  \\\n",
       "0  tt0063540                        Sunghursh                   Sunghursh   \n",
       "1  tt0066787  One Day Before the Rainy Season             Ashad Ka Ek Din   \n",
       "2  tt0069049       The Other Side of the Wind  The Other Side of the Wind   \n",
       "3  tt0069204                  Sabse Bada Sukh             Sabse Bada Sukh   \n",
       "4  tt0100275         The Wandering Soap Opera       La Telenovela Errante   \n",
       "\n",
       "   start_year  runtime_minutes                genres  \n",
       "0        2013            175.0    Action,Crime,Drama  \n",
       "1        2019            114.0       Biography,Drama  \n",
       "2        2018            122.0                 Drama  \n",
       "3        2018              NaN          Comedy,Drama  \n",
       "4        2017             80.0  Comedy,Drama,Fantasy  "
      ]
     },
     "execution_count": 54,
     "metadata": {},
     "output_type": "execute_result"
    }
   ],
   "source": [
    "q = \"\"\"\n",
    "SELECT\n",
    "    movie_id, \n",
    "    primary_title,\n",
    "    original_title,\n",
    "    start_year,\n",
    "    runtime_minutes,\n",
    "    genres\n",
    "FROM movie_basics\n",
    "\"\"\"\n",
    "pd.read_sql(q, conn).head(5)"
   ]
  },
  {
   "cell_type": "markdown",
   "id": "3534c8d4",
   "metadata": {},
   "source": [
    "### `movie_ratings` Table:"
   ]
  },
  {
   "cell_type": "code",
   "execution_count": 55,
   "id": "7fb44548",
   "metadata": {},
   "outputs": [
    {
     "data": {
      "text/html": [
       "<div>\n",
       "<style scoped>\n",
       "    .dataframe tbody tr th:only-of-type {\n",
       "        vertical-align: middle;\n",
       "    }\n",
       "\n",
       "    .dataframe tbody tr th {\n",
       "        vertical-align: top;\n",
       "    }\n",
       "\n",
       "    .dataframe thead th {\n",
       "        text-align: right;\n",
       "    }\n",
       "</style>\n",
       "<table border=\"1\" class=\"dataframe\">\n",
       "  <thead>\n",
       "    <tr style=\"text-align: right;\">\n",
       "      <th></th>\n",
       "      <th>movie_id</th>\n",
       "      <th>averagerating</th>\n",
       "      <th>numvotes</th>\n",
       "    </tr>\n",
       "  </thead>\n",
       "  <tbody>\n",
       "    <tr>\n",
       "      <th>0</th>\n",
       "      <td>tt10356526</td>\n",
       "      <td>8.3</td>\n",
       "      <td>31</td>\n",
       "    </tr>\n",
       "    <tr>\n",
       "      <th>1</th>\n",
       "      <td>tt10384606</td>\n",
       "      <td>8.9</td>\n",
       "      <td>559</td>\n",
       "    </tr>\n",
       "    <tr>\n",
       "      <th>2</th>\n",
       "      <td>tt1042974</td>\n",
       "      <td>6.4</td>\n",
       "      <td>20</td>\n",
       "    </tr>\n",
       "    <tr>\n",
       "      <th>3</th>\n",
       "      <td>tt1043726</td>\n",
       "      <td>4.2</td>\n",
       "      <td>50352</td>\n",
       "    </tr>\n",
       "    <tr>\n",
       "      <th>4</th>\n",
       "      <td>tt1060240</td>\n",
       "      <td>6.5</td>\n",
       "      <td>21</td>\n",
       "    </tr>\n",
       "  </tbody>\n",
       "</table>\n",
       "</div>"
      ],
      "text/plain": [
       "     movie_id  averagerating  numvotes\n",
       "0  tt10356526            8.3        31\n",
       "1  tt10384606            8.9       559\n",
       "2   tt1042974            6.4        20\n",
       "3   tt1043726            4.2     50352\n",
       "4   tt1060240            6.5        21"
      ]
     },
     "execution_count": 55,
     "metadata": {},
     "output_type": "execute_result"
    }
   ],
   "source": [
    "q = \"\"\"\n",
    "SELECT\n",
    "    movie_id,\n",
    "    averagerating,\n",
    "    numvotes\n",
    "FROM movie_ratings\n",
    "\"\"\"\n",
    "pd.read_sql(q, conn).head(5)"
   ]
  },
  {
   "cell_type": "code",
   "execution_count": 56,
   "id": "909a84b9",
   "metadata": {},
   "outputs": [],
   "source": [
    "# "
   ]
  },
  {
   "cell_type": "code",
   "execution_count": 57,
   "id": "6ff96e98",
   "metadata": {},
   "outputs": [
    {
     "data": {
      "text/plain": [
       "(73856, 5)"
      ]
     },
     "execution_count": 57,
     "metadata": {},
     "output_type": "execute_result"
    }
   ],
   "source": [
    "q = \"\"\"\n",
    "SELECT\n",
    "    movie_id, \n",
    "    primary_title,\n",
    "    genres,\n",
    "    averagerating,\n",
    "    numvotes\n",
    "FROM movie_basics\n",
    "JOIN movie_ratings\n",
    "    USING (movie_id)\n",
    "\"\"\"\n",
    "df = pd.read_sql(q, conn)\n",
    "df.shape"
   ]
  },
  {
   "cell_type": "code",
   "execution_count": 58,
   "id": "d336acda",
   "metadata": {},
   "outputs": [
    {
     "name": "stdout",
     "output_type": "stream",
     "text": [
      "<class 'pandas.core.frame.DataFrame'>\n",
      "RangeIndex: 73856 entries, 0 to 73855\n",
      "Data columns (total 5 columns):\n",
      " #   Column         Non-Null Count  Dtype  \n",
      "---  ------         --------------  -----  \n",
      " 0   movie_id       73856 non-null  object \n",
      " 1   primary_title  73856 non-null  object \n",
      " 2   genres         73052 non-null  object \n",
      " 3   averagerating  73856 non-null  float64\n",
      " 4   numvotes       73856 non-null  int64  \n",
      "dtypes: float64(1), int64(1), object(3)\n",
      "memory usage: 2.8+ MB\n"
     ]
    }
   ],
   "source": [
    "# \n",
    "df.info()"
   ]
  },
  {
   "cell_type": "code",
   "execution_count": 59,
   "id": "ee0c9b2d",
   "metadata": {},
   "outputs": [
    {
     "data": {
      "text/plain": [
       "movie_id           0\n",
       "primary_title      0\n",
       "genres           804\n",
       "averagerating      0\n",
       "numvotes           0\n",
       "dtype: int64"
      ]
     },
     "execution_count": 59,
     "metadata": {},
     "output_type": "execute_result"
    }
   ],
   "source": [
    "# Count null values\n",
    "df.isna().sum()"
   ]
  },
  {
   "cell_type": "code",
   "execution_count": 60,
   "id": "70ed073f",
   "metadata": {},
   "outputs": [],
   "source": [
    "# Since the genre is a categorical data and the missing values accounts for \n",
    "# only 1 % (800/73856) of our total data we decided to drop rows that \n",
    "# contained null values\n",
    "df_nonull_genres = df.dropna(axis = 0)"
   ]
  },
  {
   "cell_type": "code",
   "execution_count": 61,
   "id": "8196549a",
   "metadata": {},
   "outputs": [
    {
     "data": {
      "text/plain": [
       "movie_id         0\n",
       "primary_title    0\n",
       "genres           0\n",
       "averagerating    0\n",
       "numvotes         0\n",
       "dtype: int64"
      ]
     },
     "execution_count": 61,
     "metadata": {},
     "output_type": "execute_result"
    }
   ],
   "source": [
    "# Count null values\n",
    "df_nonull_genres.isna().sum()"
   ]
  },
  {
   "cell_type": "markdown",
   "id": "4d3f3127",
   "metadata": {},
   "source": [
    "# tn.movie_budgets.csv"
   ]
  },
  {
   "cell_type": "code",
   "execution_count": 62,
   "id": "b8831dde",
   "metadata": {},
   "outputs": [
    {
     "name": "stdout",
     "output_type": "stream",
     "text": [
      "<class 'pandas.core.frame.DataFrame'>\n",
      "RangeIndex: 5782 entries, 0 to 5781\n",
      "Data columns (total 6 columns):\n",
      " #   Column             Non-Null Count  Dtype \n",
      "---  ------             --------------  ----- \n",
      " 0   id                 5782 non-null   int64 \n",
      " 1   release_date       5782 non-null   object\n",
      " 2   movie              5782 non-null   object\n",
      " 3   production_budget  5782 non-null   object\n",
      " 4   domestic_gross     5782 non-null   object\n",
      " 5   worldwide_gross    5782 non-null   object\n",
      "dtypes: int64(1), object(5)\n",
      "memory usage: 271.2+ KB\n"
     ]
    }
   ],
   "source": [
    "movie_budget = pd.read_csv('Data/tn.movie_budgets.csv')\n",
    "movie_budget.info()"
   ]
  },
  {
   "cell_type": "code",
   "execution_count": 63,
   "id": "aff4f192",
   "metadata": {},
   "outputs": [
    {
     "data": {
      "text/html": [
       "<div>\n",
       "<style scoped>\n",
       "    .dataframe tbody tr th:only-of-type {\n",
       "        vertical-align: middle;\n",
       "    }\n",
       "\n",
       "    .dataframe tbody tr th {\n",
       "        vertical-align: top;\n",
       "    }\n",
       "\n",
       "    .dataframe thead th {\n",
       "        text-align: right;\n",
       "    }\n",
       "</style>\n",
       "<table border=\"1\" class=\"dataframe\">\n",
       "  <thead>\n",
       "    <tr style=\"text-align: right;\">\n",
       "      <th></th>\n",
       "      <th>id</th>\n",
       "      <th>release_date</th>\n",
       "      <th>movie</th>\n",
       "      <th>production_budget</th>\n",
       "      <th>domestic_gross</th>\n",
       "      <th>worldwide_gross</th>\n",
       "    </tr>\n",
       "  </thead>\n",
       "  <tbody>\n",
       "    <tr>\n",
       "      <th>0</th>\n",
       "      <td>1</td>\n",
       "      <td>Dec 18, 2009</td>\n",
       "      <td>Avatar</td>\n",
       "      <td>$425,000,000</td>\n",
       "      <td>$760,507,625</td>\n",
       "      <td>$2,776,345,279</td>\n",
       "    </tr>\n",
       "    <tr>\n",
       "      <th>1</th>\n",
       "      <td>2</td>\n",
       "      <td>May 20, 2011</td>\n",
       "      <td>Pirates of the Caribbean: On Stranger Tides</td>\n",
       "      <td>$410,600,000</td>\n",
       "      <td>$241,063,875</td>\n",
       "      <td>$1,045,663,875</td>\n",
       "    </tr>\n",
       "    <tr>\n",
       "      <th>2</th>\n",
       "      <td>3</td>\n",
       "      <td>Jun 7, 2019</td>\n",
       "      <td>Dark Phoenix</td>\n",
       "      <td>$350,000,000</td>\n",
       "      <td>$42,762,350</td>\n",
       "      <td>$149,762,350</td>\n",
       "    </tr>\n",
       "    <tr>\n",
       "      <th>3</th>\n",
       "      <td>4</td>\n",
       "      <td>May 1, 2015</td>\n",
       "      <td>Avengers: Age of Ultron</td>\n",
       "      <td>$330,600,000</td>\n",
       "      <td>$459,005,868</td>\n",
       "      <td>$1,403,013,963</td>\n",
       "    </tr>\n",
       "    <tr>\n",
       "      <th>4</th>\n",
       "      <td>5</td>\n",
       "      <td>Dec 15, 2017</td>\n",
       "      <td>Star Wars Ep. VIII: The Last Jedi</td>\n",
       "      <td>$317,000,000</td>\n",
       "      <td>$620,181,382</td>\n",
       "      <td>$1,316,721,747</td>\n",
       "    </tr>\n",
       "  </tbody>\n",
       "</table>\n",
       "</div>"
      ],
      "text/plain": [
       "   id  release_date                                        movie  \\\n",
       "0   1  Dec 18, 2009                                       Avatar   \n",
       "1   2  May 20, 2011  Pirates of the Caribbean: On Stranger Tides   \n",
       "2   3   Jun 7, 2019                                 Dark Phoenix   \n",
       "3   4   May 1, 2015                      Avengers: Age of Ultron   \n",
       "4   5  Dec 15, 2017            Star Wars Ep. VIII: The Last Jedi   \n",
       "\n",
       "  production_budget domestic_gross worldwide_gross  \n",
       "0      $425,000,000   $760,507,625  $2,776,345,279  \n",
       "1      $410,600,000   $241,063,875  $1,045,663,875  \n",
       "2      $350,000,000    $42,762,350    $149,762,350  \n",
       "3      $330,600,000   $459,005,868  $1,403,013,963  \n",
       "4      $317,000,000   $620,181,382  $1,316,721,747  "
      ]
     },
     "execution_count": 63,
     "metadata": {},
     "output_type": "execute_result"
    }
   ],
   "source": [
    "movie_budget.head()"
   ]
  },
  {
   "cell_type": "code",
   "execution_count": 64,
   "id": "11d2537f",
   "metadata": {},
   "outputs": [
    {
     "name": "stderr",
     "output_type": "stream",
     "text": [
      "C:\\Users\\mervela\\AppData\\Local\\Temp\\ipykernel_25032\\174632230.py:2: SettingWithCopyWarning: \n",
      "A value is trying to be set on a copy of a slice from a DataFrame\n",
      "\n",
      "See the caveats in the documentation: https://pandas.pydata.org/pandas-docs/stable/user_guide/indexing.html#returning-a-view-versus-a-copy\n",
      "  df_nonull_genres.rename(columns={'primary_title' : 'movie'}, inplace = True)\n"
     ]
    }
   ],
   "source": [
    "# \n",
    "df_nonull_genres.rename(columns={'primary_title' : 'movie'}, inplace = True)"
   ]
  },
  {
   "cell_type": "code",
   "execution_count": 65,
   "id": "41df19fa",
   "metadata": {},
   "outputs": [
    {
     "data": {
      "text/plain": [
       "Index(['movie_id', 'movie', 'genres', 'averagerating', 'numvotes'], dtype='object')"
      ]
     },
     "execution_count": 65,
     "metadata": {},
     "output_type": "execute_result"
    }
   ],
   "source": [
    "#\n",
    "df_nonull_genres.columns"
   ]
  },
  {
   "cell_type": "code",
   "execution_count": 66,
   "id": "1c133e5b",
   "metadata": {},
   "outputs": [],
   "source": [
    "im_movie_budget = pd.merge(df_nonull_genres ,movie_budget, on='movie', how='left', indicator = 'im_and_movie_budget')"
   ]
  },
  {
   "cell_type": "code",
   "execution_count": 67,
   "id": "a7bdedc3",
   "metadata": {},
   "outputs": [
    {
     "data": {
      "text/plain": [
       "left_only     70307\n",
       "both           2867\n",
       "right_only        0\n",
       "Name: im_and_movie_budget, dtype: int64"
      ]
     },
     "execution_count": 67,
     "metadata": {},
     "output_type": "execute_result"
    }
   ],
   "source": [
    "im_movie_budget['im_and_movie_budget'].value_counts()"
   ]
  },
  {
   "cell_type": "code",
   "execution_count": 68,
   "id": "5874fb9d",
   "metadata": {},
   "outputs": [
    {
     "data": {
      "text/html": [
       "<div>\n",
       "<style scoped>\n",
       "    .dataframe tbody tr th:only-of-type {\n",
       "        vertical-align: middle;\n",
       "    }\n",
       "\n",
       "    .dataframe tbody tr th {\n",
       "        vertical-align: top;\n",
       "    }\n",
       "\n",
       "    .dataframe thead th {\n",
       "        text-align: right;\n",
       "    }\n",
       "</style>\n",
       "<table border=\"1\" class=\"dataframe\">\n",
       "  <thead>\n",
       "    <tr style=\"text-align: right;\">\n",
       "      <th></th>\n",
       "      <th>movie_id</th>\n",
       "      <th>movie</th>\n",
       "      <th>genres</th>\n",
       "      <th>averagerating</th>\n",
       "      <th>numvotes</th>\n",
       "      <th>id</th>\n",
       "      <th>release_date</th>\n",
       "      <th>production_budget</th>\n",
       "      <th>domestic_gross</th>\n",
       "      <th>worldwide_gross</th>\n",
       "      <th>im_and_movie_budget</th>\n",
       "    </tr>\n",
       "  </thead>\n",
       "  <tbody>\n",
       "    <tr>\n",
       "      <th>16</th>\n",
       "      <td>tt0249516</td>\n",
       "      <td>Foodfight!</td>\n",
       "      <td>Action,Animation,Comedy</td>\n",
       "      <td>1.9</td>\n",
       "      <td>8248</td>\n",
       "      <td>26.0</td>\n",
       "      <td>Dec 31, 2012</td>\n",
       "      <td>$45,000,000</td>\n",
       "      <td>$0</td>\n",
       "      <td>$73,706</td>\n",
       "      <td>both</td>\n",
       "    </tr>\n",
       "    <tr>\n",
       "      <th>36</th>\n",
       "      <td>tt0337692</td>\n",
       "      <td>On the Road</td>\n",
       "      <td>Adventure,Drama,Romance</td>\n",
       "      <td>6.1</td>\n",
       "      <td>37886</td>\n",
       "      <td>17.0</td>\n",
       "      <td>Mar 22, 2013</td>\n",
       "      <td>$25,000,000</td>\n",
       "      <td>$720,828</td>\n",
       "      <td>$9,313,302</td>\n",
       "      <td>both</td>\n",
       "    </tr>\n",
       "    <tr>\n",
       "      <th>42</th>\n",
       "      <td>tt0359950</td>\n",
       "      <td>The Secret Life of Walter Mitty</td>\n",
       "      <td>Adventure,Comedy,Drama</td>\n",
       "      <td>7.3</td>\n",
       "      <td>275300</td>\n",
       "      <td>37.0</td>\n",
       "      <td>Dec 25, 2013</td>\n",
       "      <td>$91,000,000</td>\n",
       "      <td>$58,236,838</td>\n",
       "      <td>$187,861,183</td>\n",
       "      <td>both</td>\n",
       "    </tr>\n",
       "    <tr>\n",
       "      <th>46</th>\n",
       "      <td>tt0365907</td>\n",
       "      <td>A Walk Among the Tombstones</td>\n",
       "      <td>Action,Crime,Drama</td>\n",
       "      <td>6.5</td>\n",
       "      <td>105116</td>\n",
       "      <td>67.0</td>\n",
       "      <td>Sep 19, 2014</td>\n",
       "      <td>$28,000,000</td>\n",
       "      <td>$26,017,685</td>\n",
       "      <td>$62,108,587</td>\n",
       "      <td>both</td>\n",
       "    </tr>\n",
       "    <tr>\n",
       "      <th>47</th>\n",
       "      <td>tt0369610</td>\n",
       "      <td>Jurassic World</td>\n",
       "      <td>Action,Adventure,Sci-Fi</td>\n",
       "      <td>7.0</td>\n",
       "      <td>539338</td>\n",
       "      <td>34.0</td>\n",
       "      <td>Jun 12, 2015</td>\n",
       "      <td>$215,000,000</td>\n",
       "      <td>$652,270,625</td>\n",
       "      <td>$1,648,854,864</td>\n",
       "      <td>both</td>\n",
       "    </tr>\n",
       "    <tr>\n",
       "      <th>...</th>\n",
       "      <td>...</td>\n",
       "      <td>...</td>\n",
       "      <td>...</td>\n",
       "      <td>...</td>\n",
       "      <td>...</td>\n",
       "      <td>...</td>\n",
       "      <td>...</td>\n",
       "      <td>...</td>\n",
       "      <td>...</td>\n",
       "      <td>...</td>\n",
       "      <td>...</td>\n",
       "    </tr>\n",
       "    <tr>\n",
       "      <th>72971</th>\n",
       "      <td>tt9746500</td>\n",
       "      <td>Earth</td>\n",
       "      <td>Documentary</td>\n",
       "      <td>7.3</td>\n",
       "      <td>49</td>\n",
       "      <td>36.0</td>\n",
       "      <td>Apr 22, 2009</td>\n",
       "      <td>$47,000,000</td>\n",
       "      <td>$32,011,576</td>\n",
       "      <td>$116,773,317</td>\n",
       "      <td>both</td>\n",
       "    </tr>\n",
       "    <tr>\n",
       "      <th>73096</th>\n",
       "      <td>tt9851050</td>\n",
       "      <td>Sisters</td>\n",
       "      <td>Action,Drama</td>\n",
       "      <td>4.7</td>\n",
       "      <td>14</td>\n",
       "      <td>57.0</td>\n",
       "      <td>Dec 18, 2015</td>\n",
       "      <td>$30,000,000</td>\n",
       "      <td>$87,044,645</td>\n",
       "      <td>$106,030,660</td>\n",
       "      <td>both</td>\n",
       "    </tr>\n",
       "    <tr>\n",
       "      <th>73111</th>\n",
       "      <td>tt9861522</td>\n",
       "      <td>Ali</td>\n",
       "      <td>Drama</td>\n",
       "      <td>7.7</td>\n",
       "      <td>79</td>\n",
       "      <td>45.0</td>\n",
       "      <td>Dec 25, 2001</td>\n",
       "      <td>$109,000,000</td>\n",
       "      <td>$58,183,966</td>\n",
       "      <td>$87,683,966</td>\n",
       "      <td>both</td>\n",
       "    </tr>\n",
       "    <tr>\n",
       "      <th>73151</th>\n",
       "      <td>tt9899880</td>\n",
       "      <td>Columbus</td>\n",
       "      <td>Comedy</td>\n",
       "      <td>5.8</td>\n",
       "      <td>5</td>\n",
       "      <td>93.0</td>\n",
       "      <td>Aug 4, 2017</td>\n",
       "      <td>$700,000</td>\n",
       "      <td>$1,017,107</td>\n",
       "      <td>$1,110,511</td>\n",
       "      <td>both</td>\n",
       "    </tr>\n",
       "    <tr>\n",
       "      <th>73164</th>\n",
       "      <td>tt9906218</td>\n",
       "      <td>Unstoppable</td>\n",
       "      <td>Documentary</td>\n",
       "      <td>8.1</td>\n",
       "      <td>8</td>\n",
       "      <td>19.0</td>\n",
       "      <td>Nov 12, 2010</td>\n",
       "      <td>$95,000,000</td>\n",
       "      <td>$81,562,942</td>\n",
       "      <td>$165,720,921</td>\n",
       "      <td>both</td>\n",
       "    </tr>\n",
       "  </tbody>\n",
       "</table>\n",
       "<p>2867 rows × 11 columns</p>\n",
       "</div>"
      ],
      "text/plain": [
       "        movie_id                            movie                   genres  \\\n",
       "16     tt0249516                       Foodfight!  Action,Animation,Comedy   \n",
       "36     tt0337692                      On the Road  Adventure,Drama,Romance   \n",
       "42     tt0359950  The Secret Life of Walter Mitty   Adventure,Comedy,Drama   \n",
       "46     tt0365907      A Walk Among the Tombstones       Action,Crime,Drama   \n",
       "47     tt0369610                   Jurassic World  Action,Adventure,Sci-Fi   \n",
       "...          ...                              ...                      ...   \n",
       "72971  tt9746500                            Earth              Documentary   \n",
       "73096  tt9851050                          Sisters             Action,Drama   \n",
       "73111  tt9861522                              Ali                    Drama   \n",
       "73151  tt9899880                         Columbus                   Comedy   \n",
       "73164  tt9906218                      Unstoppable              Documentary   \n",
       "\n",
       "       averagerating  numvotes    id  release_date production_budget  \\\n",
       "16               1.9      8248  26.0  Dec 31, 2012       $45,000,000   \n",
       "36               6.1     37886  17.0  Mar 22, 2013       $25,000,000   \n",
       "42               7.3    275300  37.0  Dec 25, 2013       $91,000,000   \n",
       "46               6.5    105116  67.0  Sep 19, 2014       $28,000,000   \n",
       "47               7.0    539338  34.0  Jun 12, 2015      $215,000,000   \n",
       "...              ...       ...   ...           ...               ...   \n",
       "72971            7.3        49  36.0  Apr 22, 2009       $47,000,000   \n",
       "73096            4.7        14  57.0  Dec 18, 2015       $30,000,000   \n",
       "73111            7.7        79  45.0  Dec 25, 2001      $109,000,000   \n",
       "73151            5.8         5  93.0   Aug 4, 2017          $700,000   \n",
       "73164            8.1         8  19.0  Nov 12, 2010       $95,000,000   \n",
       "\n",
       "      domestic_gross worldwide_gross im_and_movie_budget  \n",
       "16                $0         $73,706                both  \n",
       "36          $720,828      $9,313,302                both  \n",
       "42       $58,236,838    $187,861,183                both  \n",
       "46       $26,017,685     $62,108,587                both  \n",
       "47      $652,270,625  $1,648,854,864                both  \n",
       "...              ...             ...                 ...  \n",
       "72971    $32,011,576    $116,773,317                both  \n",
       "73096    $87,044,645    $106,030,660                both  \n",
       "73111    $58,183,966     $87,683,966                both  \n",
       "73151     $1,017,107      $1,110,511                both  \n",
       "73164    $81,562,942    $165,720,921                both  \n",
       "\n",
       "[2867 rows x 11 columns]"
      ]
     },
     "execution_count": 68,
     "metadata": {},
     "output_type": "execute_result"
    }
   ],
   "source": [
    "cleaned_df = im_movie_budget[im_movie_budget['im_and_movie_budget'] == 'both'] \n",
    "cleaned_df"
   ]
  },
  {
   "cell_type": "code",
   "execution_count": 69,
   "id": "52f3bbad",
   "metadata": {},
   "outputs": [
    {
     "data": {
      "text/plain": [
       "movie_id               0\n",
       "movie                  0\n",
       "genres                 0\n",
       "averagerating          0\n",
       "numvotes               0\n",
       "id                     0\n",
       "release_date           0\n",
       "production_budget      0\n",
       "domestic_gross         0\n",
       "worldwide_gross        0\n",
       "im_and_movie_budget    0\n",
       "dtype: int64"
      ]
     },
     "execution_count": 69,
     "metadata": {},
     "output_type": "execute_result"
    }
   ],
   "source": [
    "# \n",
    "cleaned_df.isna().sum()"
   ]
  },
  {
   "cell_type": "code",
   "execution_count": 70,
   "id": "2285aa4a",
   "metadata": {},
   "outputs": [
    {
     "name": "stdout",
     "output_type": "stream",
     "text": [
      "<class 'pandas.core.frame.DataFrame'>\n",
      "Int64Index: 2867 entries, 16 to 73164\n",
      "Data columns (total 11 columns):\n",
      " #   Column               Non-Null Count  Dtype   \n",
      "---  ------               --------------  -----   \n",
      " 0   movie_id             2867 non-null   object  \n",
      " 1   movie                2867 non-null   object  \n",
      " 2   genres               2867 non-null   object  \n",
      " 3   averagerating        2867 non-null   float64 \n",
      " 4   numvotes             2867 non-null   int64   \n",
      " 5   id                   2867 non-null   float64 \n",
      " 6   release_date         2867 non-null   object  \n",
      " 7   production_budget    2867 non-null   object  \n",
      " 8   domestic_gross       2867 non-null   object  \n",
      " 9   worldwide_gross      2867 non-null   object  \n",
      " 10  im_and_movie_budget  2867 non-null   category\n",
      "dtypes: category(1), float64(2), int64(1), object(7)\n",
      "memory usage: 249.3+ KB\n"
     ]
    }
   ],
   "source": [
    "cleaned_df.info()"
   ]
  },
  {
   "cell_type": "code",
   "execution_count": 71,
   "id": "fa55d9ac",
   "metadata": {},
   "outputs": [],
   "source": [
    "#For business case #1: (Juan & Mercedez)\n",
    "    #1. First we will need to identify genre types() \n",
    "    #2. Then we can create a table with Movie title and genre and profits \n",
    "        #2.5 create another table comparing genre and domestic vs worldwide profits \n",
    "            #3. Create bar graph for the table above^\n",
    "    #4. Then find the statistical correlation between genre and worldwide gross profits\n",
    "    #5. Recommend type of genre based off of statistical findings \n",
    "\n",
    "#For business case #2: (Mercedez & Jordan) \n",
    "    #1: Organize release_date by seasons () / month() /holiday***\n",
    "    #2: Count() of movies produced at each season\n",
    "    #3: Graph Release data using histogram/bar\n",
    "    #4: Count() profit of each seasons\n",
    "    #5 Graph\n",
    "    #6 Analyze correlation between season vs profit\n",
    "    #7: Count() ppopulartiy of each seasons\n",
    "    #8 Graph\n",
    "    #9 Analyze correlation between season vs popularity\n",
    "    #10 Find correlation between seasons vs popularity vs profit \n",
    "    #11 Recommendations"
   ]
  },
  {
   "cell_type": "code",
   "execution_count": 72,
   "id": "32b6d339",
   "metadata": {},
   "outputs": [
    {
     "name": "stdout",
     "output_type": "stream",
     "text": [
      "                                 movie                   genres  \\\n",
      "16                          Foodfight!  Action,Animation,Comedy   \n",
      "36                         On the Road  Adventure,Drama,Romance   \n",
      "42     The Secret Life of Walter Mitty   Adventure,Comedy,Drama   \n",
      "46         A Walk Among the Tombstones       Action,Crime,Drama   \n",
      "47                      Jurassic World  Action,Adventure,Sci-Fi   \n",
      "...                                ...                      ...   \n",
      "72971                            Earth              Documentary   \n",
      "73096                          Sisters             Action,Drama   \n",
      "73111                              Ali                    Drama   \n",
      "73151                         Columbus                   Comedy   \n",
      "73164                      Unstoppable              Documentary   \n",
      "\n",
      "      worldwide_gross  \n",
      "16            $73,706  \n",
      "36         $9,313,302  \n",
      "42       $187,861,183  \n",
      "46        $62,108,587  \n",
      "47     $1,648,854,864  \n",
      "...               ...  \n",
      "72971    $116,773,317  \n",
      "73096    $106,030,660  \n",
      "73111     $87,683,966  \n",
      "73151      $1,110,511  \n",
      "73164    $165,720,921  \n",
      "\n",
      "[2867 rows x 3 columns]\n"
     ]
    }
   ],
   "source": [
    "#Business Case #1 \n",
    "#Juan & Mercedez \n",
    "#Creating a table with Movie Title, genres and profits\n",
    "case1_df = cleaned_df.loc[:,['movie','genres','worldwide_gross']]\n",
    "print(case1_df)"
   ]
  },
  {
   "cell_type": "code",
   "execution_count": 73,
   "id": "3b44938e",
   "metadata": {},
   "outputs": [
    {
     "data": {
      "text/plain": [
       "Action          630.0\n",
       "Adventure       448.0\n",
       "Animation       130.0\n",
       "Biography       195.0\n",
       "Comedy          758.0\n",
       "Crime           362.0\n",
       "Documentary     204.0\n",
       "Drama          1491.0\n",
       "Family          144.0\n",
       "Fantasy         175.0\n",
       "History          71.0\n",
       "Horror          360.0\n",
       "Music            72.0\n",
       "Musical          22.0\n",
       "Mystery         223.0\n",
       "News              3.0\n",
       "Romance         326.0\n",
       "Sci-Fi          204.0\n",
       "Sport            62.0\n",
       "Thriller        509.0\n",
       "War              39.0\n",
       "Western          16.0\n",
       "dtype: float64"
      ]
     },
     "execution_count": 73,
     "metadata": {},
     "output_type": "execute_result"
    }
   ],
   "source": [
    "#Business Case #1 \n",
    "#Juan, Jordan, Mercedez\n",
    "#Dividing all of the genres\n",
    "genres_cols = cleaned_df['genres'].str.split(',', expand=True)\n",
    "genres_cols.columns = ['genre1','genre2','genre3']\n",
    "counts1 = genres_cols['genre1'].value_counts()\n",
    "counts2 = genres_cols['genre2'].value_counts()\n",
    "counts3 = genres_cols['genre3'].value_counts()\n",
    "total_counts = counts1.add(counts2, fill_value=0).add(counts3, fill_value=0)\n",
    "total_counts"
   ]
  },
  {
   "cell_type": "code",
   "execution_count": 74,
   "id": "e7a47dfb",
   "metadata": {},
   "outputs": [
    {
     "data": {
      "text/html": [
       "<div>\n",
       "<style scoped>\n",
       "    .dataframe tbody tr th:only-of-type {\n",
       "        vertical-align: middle;\n",
       "    }\n",
       "\n",
       "    .dataframe tbody tr th {\n",
       "        vertical-align: top;\n",
       "    }\n",
       "\n",
       "    .dataframe thead th {\n",
       "        text-align: right;\n",
       "    }\n",
       "</style>\n",
       "<table border=\"1\" class=\"dataframe\">\n",
       "  <thead>\n",
       "    <tr style=\"text-align: right;\">\n",
       "      <th></th>\n",
       "      <th>movie</th>\n",
       "      <th>domestic_gross</th>\n",
       "      <th>worldwide_gross</th>\n",
       "      <th>genre1</th>\n",
       "      <th>genre2</th>\n",
       "      <th>genre3</th>\n",
       "    </tr>\n",
       "  </thead>\n",
       "  <tbody>\n",
       "    <tr>\n",
       "      <th>16</th>\n",
       "      <td>Foodfight!</td>\n",
       "      <td>$0</td>\n",
       "      <td>$73,706</td>\n",
       "      <td>Action</td>\n",
       "      <td>Animation</td>\n",
       "      <td>Comedy</td>\n",
       "    </tr>\n",
       "    <tr>\n",
       "      <th>36</th>\n",
       "      <td>On the Road</td>\n",
       "      <td>$720,828</td>\n",
       "      <td>$9,313,302</td>\n",
       "      <td>Adventure</td>\n",
       "      <td>Drama</td>\n",
       "      <td>Romance</td>\n",
       "    </tr>\n",
       "    <tr>\n",
       "      <th>42</th>\n",
       "      <td>The Secret Life of Walter Mitty</td>\n",
       "      <td>$58,236,838</td>\n",
       "      <td>$187,861,183</td>\n",
       "      <td>Adventure</td>\n",
       "      <td>Comedy</td>\n",
       "      <td>Drama</td>\n",
       "    </tr>\n",
       "    <tr>\n",
       "      <th>46</th>\n",
       "      <td>A Walk Among the Tombstones</td>\n",
       "      <td>$26,017,685</td>\n",
       "      <td>$62,108,587</td>\n",
       "      <td>Action</td>\n",
       "      <td>Crime</td>\n",
       "      <td>Drama</td>\n",
       "    </tr>\n",
       "    <tr>\n",
       "      <th>47</th>\n",
       "      <td>Jurassic World</td>\n",
       "      <td>$652,270,625</td>\n",
       "      <td>$1,648,854,864</td>\n",
       "      <td>Action</td>\n",
       "      <td>Adventure</td>\n",
       "      <td>Sci-Fi</td>\n",
       "    </tr>\n",
       "    <tr>\n",
       "      <th>...</th>\n",
       "      <td>...</td>\n",
       "      <td>...</td>\n",
       "      <td>...</td>\n",
       "      <td>...</td>\n",
       "      <td>...</td>\n",
       "      <td>...</td>\n",
       "    </tr>\n",
       "    <tr>\n",
       "      <th>72971</th>\n",
       "      <td>Earth</td>\n",
       "      <td>$32,011,576</td>\n",
       "      <td>$116,773,317</td>\n",
       "      <td>Documentary</td>\n",
       "      <td>None</td>\n",
       "      <td>None</td>\n",
       "    </tr>\n",
       "    <tr>\n",
       "      <th>73096</th>\n",
       "      <td>Sisters</td>\n",
       "      <td>$87,044,645</td>\n",
       "      <td>$106,030,660</td>\n",
       "      <td>Action</td>\n",
       "      <td>Drama</td>\n",
       "      <td>None</td>\n",
       "    </tr>\n",
       "    <tr>\n",
       "      <th>73111</th>\n",
       "      <td>Ali</td>\n",
       "      <td>$58,183,966</td>\n",
       "      <td>$87,683,966</td>\n",
       "      <td>Drama</td>\n",
       "      <td>None</td>\n",
       "      <td>None</td>\n",
       "    </tr>\n",
       "    <tr>\n",
       "      <th>73151</th>\n",
       "      <td>Columbus</td>\n",
       "      <td>$1,017,107</td>\n",
       "      <td>$1,110,511</td>\n",
       "      <td>Comedy</td>\n",
       "      <td>None</td>\n",
       "      <td>None</td>\n",
       "    </tr>\n",
       "    <tr>\n",
       "      <th>73164</th>\n",
       "      <td>Unstoppable</td>\n",
       "      <td>$81,562,942</td>\n",
       "      <td>$165,720,921</td>\n",
       "      <td>Documentary</td>\n",
       "      <td>None</td>\n",
       "      <td>None</td>\n",
       "    </tr>\n",
       "  </tbody>\n",
       "</table>\n",
       "<p>2867 rows × 6 columns</p>\n",
       "</div>"
      ],
      "text/plain": [
       "                                 movie domestic_gross worldwide_gross  \\\n",
       "16                          Foodfight!             $0         $73,706   \n",
       "36                         On the Road       $720,828      $9,313,302   \n",
       "42     The Secret Life of Walter Mitty    $58,236,838    $187,861,183   \n",
       "46         A Walk Among the Tombstones    $26,017,685     $62,108,587   \n",
       "47                      Jurassic World   $652,270,625  $1,648,854,864   \n",
       "...                                ...            ...             ...   \n",
       "72971                            Earth    $32,011,576    $116,773,317   \n",
       "73096                          Sisters    $87,044,645    $106,030,660   \n",
       "73111                              Ali    $58,183,966     $87,683,966   \n",
       "73151                         Columbus     $1,017,107      $1,110,511   \n",
       "73164                      Unstoppable    $81,562,942    $165,720,921   \n",
       "\n",
       "            genre1     genre2   genre3  \n",
       "16          Action  Animation   Comedy  \n",
       "36       Adventure      Drama  Romance  \n",
       "42       Adventure     Comedy    Drama  \n",
       "46          Action      Crime    Drama  \n",
       "47          Action  Adventure   Sci-Fi  \n",
       "...            ...        ...      ...  \n",
       "72971  Documentary       None     None  \n",
       "73096       Action      Drama     None  \n",
       "73111        Drama       None     None  \n",
       "73151       Comedy       None     None  \n",
       "73164  Documentary       None     None  \n",
       "\n",
       "[2867 rows x 6 columns]"
      ]
     },
     "execution_count": 74,
     "metadata": {},
     "output_type": "execute_result"
    }
   ],
   "source": [
    "#Business Case #1 \n",
    "#Juan \n",
    "#Creating a new table with number of gender, \n",
    "case1_vs_df = pd.merge(cleaned_df[['movie','domestic_gross','worldwide_gross']], genres_cols[['genre1','genre2','genre3']], left_index = True, right_index=True)\n",
    "case1_vs_df"
   ]
  },
  {
   "cell_type": "markdown",
   "id": "7f9abeb2",
   "metadata": {},
   "source": [
    "#Business Case #1 \n",
    "#Juan & Jordan\n",
    "#Delete the $ and ,\n",
    "#case1_vs_df['domestic_gross'] = case1_vs_df['domestic_gross'].replace({'\\$':'',',':''},regex=True)\n",
    "#case1_vs_df['worldwide_gross'] = case1_vs_df['worldwide_gross'].replace({'\\$':'',',':''},regex=True)\n",
    "#case1_vs_df\n",
    "\n",
    "#case1_vs_df['domestic_gross'] = case1_vs_df['domestic_gross'].astype(float)\n",
    "#case1_vs_df['worldwide_gross'] = case1_vs_df['worldwide_gross'].astype(float) totals = {} for index, row in case1_vs_df.iterrows():\n",
    "    #genres = [row['genre1'], row['genre2'], row['genre3']]\n",
    "    #for genre in genres:\n",
    "        #if genre not in totals:\n",
    "            #totals[genre] = {'domestic_gross': 0, 'worldwide_gross': 0}\n",
    "       # totals[genre]['domestic_gross'] += row['domestic_gross']\n",
    "       # totals[genre]['worldwide_gross'] += row['worldwide_gross'] new_df = pd.DataFrame(totals).T.reset_index().rename(columns={'index': 'genre'}) new_df\n",
    "\n"
   ]
  },
  {
   "cell_type": "markdown",
   "id": "f717c1c0",
   "metadata": {},
   "source": [
    "#Business Case #1 \n",
    "#Juan \n",
    "#Creating a bar graph for the case1_vs_df table #Defining the columns of the x and y axis\n",
    "x = new_df['genre']\n",
    "y1 = new_df['domestic_gross']\n",
    "y2 = new_df['worldwide_gross']\n",
    "plt.figure(figsize=(50,40))\n",
    "plt.xticks(fontsize=20)\n",
    "plt.yticks(fontsize=25)\n",
    "plt.bar(x,y1,label='Domestic Gross')\n",
    "#Defining name of the labels and title of the bar graph\n",
    "plt.bar(x,y2,bottom=y1,label='Worldwide Gross')\n",
    "plt.title('Gross by genre', fontsize=35)\n",
    "plt.xlabel('Genre', fontsize=35)\n",
    "plt.ylabel('Gross in billion', fontsize=35)\n",
    "plt.legend(fontsize=35)\n",
    "plt.show()"
   ]
  },
  {
   "cell_type": "code",
   "execution_count": 89,
   "id": "39945de1",
   "metadata": {},
   "outputs": [
    {
     "data": {
      "text/plain": [
       "{'Spring': 673, 'Summer': 682, 'Fall': 751, 'Winter': 761}"
      ]
     },
     "execution_count": 89,
     "metadata": {},
     "output_type": "execute_result"
    }
   ],
   "source": [
    "#Business case #2\n",
    "#Count total movies in each season\n",
    "#Jordan\n",
    "seasons_dict = {'Spring': ['Mar','Apr','May'], 'Summer': ['Jun','Jul','Aug',], 'Fall': ['Sep','Oct','Nov'], 'Winter': ['Dec','Jan','Feb']}\n",
    "\n",
    "cleaned_df['release_date']\n",
    "\n",
    "season_dict = {'Spring':0,'Summer':0,'Fall':0,'Winter':0,}\n",
    "\n",
    "for i in cleaned_df['release_date']:\n",
    "    x = i.split(' ')\n",
    "    for key,val in seasons_dict.items():\n",
    "        if x[0] in val:\n",
    "            season_dict[key]+=1\n",
    "    \n",
    "season_dict"
   ]
  },
  {
   "cell_type": "code",
   "execution_count": 90,
   "id": "2fb8a7d6",
   "metadata": {
    "scrolled": true
   },
   "outputs": [
    {
     "data": {
      "text/plain": [
       "Text(0.5, 1.0, 'Distribution of Movies by Season')"
      ]
     },
     "execution_count": 90,
     "metadata": {},
     "output_type": "execute_result"
    },
    {
     "data": {
      "image/png": "[encoded data removed]",
      "text/plain": [
       "<Figure size 640x480 with 1 Axes>"
      ]
     },
     "metadata": {},
     "output_type": "display_data"
    }
   ],
   "source": [
    "#Business case #2\n",
    "#Bar Chart\n",
    "#Jordan\n",
    "fig, ax = plt.subplots()\n",
    "\n",
    "ax.bar(season_dict.keys(),season_dict.values())\n",
    "ax.set_xlabel('Seasons')\n",
    "ax.set_ylabel('Number of Movies Produced')\n",
    "ax.set_title('Distribution of Movies by Season')"
   ]
  },
  {
   "cell_type": "code",
   "execution_count": 91,
   "id": "3523e5b1",
   "metadata": {},
   "outputs": [
    {
     "name": "stdout",
     "output_type": "stream",
     "text": [
      "gross domestic {'Spring': 32267117335, 'Summer': 35185851273, 'Fall': 26847802292, 'Winter': 29023623325}\n",
      "gross worldwide {'Spring': 79989060868, 'Summer': 83425075374, 'Fall': 65576756077, 'Winter': 65967303186}\n"
     ]
    }
   ],
   "source": [
    "#Business case #2 \n",
    "#I'm trying to count the total profit, both domestic and worldwide, for each season(s) \n",
    "#Mercedez & Jordan\n",
    "seasons = {'Spring': ['Mar','Apr','May'], 'Summer': ['Jun','Jul','Aug',], 'Fall': ['Sep','Oct','Nov'], 'Winter': ['Dec','Jan','Feb']}\n",
    "\n",
    "test = {'Spring':0,'Summer':0,'Fall':0,'Winter':0,}\n",
    "def get_season(x):\n",
    "    for key,val in seasons.items():\n",
    "        if x[0] in val:\n",
    "            return key\n",
    "#This is for gross domestic        \n",
    "for i in cleaned_df.itertuples():\n",
    "    date = i[7]\n",
    "    x=i[7].split(' ')\n",
    "    y=get_season(x)\n",
    "    num = i[9].replace('$','').replace(',','')\n",
    "    test[y]+=int(num)\n",
    "print('gross domestic', test)   \n",
    "\n",
    "gross_worldwide = {'Spring':0,'Summer':0,'Fall':0,'Winter':0,}\n",
    "#This is for gross worldwide    \n",
    "for i in cleaned_df.itertuples():\n",
    "    date = i[7]\n",
    "    x=i[7].split(' ')\n",
    "    y=get_season(x)\n",
    "    num = i[10].replace('$','').replace(',','')\n",
    "    gross_worldwide[y]+=int(num)\n",
    "print('gross worldwide', gross_worldwide)"
   ]
  },
  {
   "cell_type": "code",
   "execution_count": 101,
   "id": "07e816c9",
   "metadata": {},
   "outputs": [
    {
     "data": {
      "text/plain": [
       "<matplotlib.legend.Legend at 0x16d24b01520>"
      ]
     },
     "execution_count": 101,
     "metadata": {},
     "output_type": "execute_result"
    },
    {
     "data": {
      "image/png": "[encoded data removed]",
      "text/plain": [
       "<Figure size 640x480 with 1 Axes>"
      ]
     },
     "metadata": {},
     "output_type": "display_data"
    }
   ],
   "source": [
    "#Business Case #2\n",
    "#Bar Chart for the categorical data of seasons and profits\n",
    "#Mercedez & Jordan\n",
    "import matplotlib as mpl\n",
    "fig, ax = plt.subplots()\n",
    "X = ['Spring','Summer','Fall','Winter'] #x values manually entered\n",
    "\n",
    "ind = np.arange(len(season_dict.keys()))\n",
    "N = 2 #num of bars\n",
    "width = 0.45 # the width of the bars\n",
    "\n",
    "rects1 = ax.bar(ind,test.values(), width, color='b')\n",
    "rects2 = ax.bar(ind+width,gross_worldwide.values(), width, color='g')\n",
    "\n",
    "ax.set_xlabel('Seasons')\n",
    "ax.set_ylabel('Total Seasonal Profits')\n",
    "ax.set_title('Distribution of Gross Domestic and Worldwide Profits per Season')\n",
    "ax.yaxis.set_major_formatter(mpl.ticker.StrMethodFormatter('{x:,.0f}'))\n",
    "ax.set_xticks(ind+width, ('Spring', 'Summer', 'Fall', 'Winter') )\n",
    "ax.legend( (rects1[0], rects2[0]), ('Domestic Profits', 'Worldwide Profits') )\n",
    "\n",
    "# def autolabel(rects):\n",
    "#     for rect in rects:\n",
    "#         h = rect.get_height()\n",
    "#         ax.text(rect.get_x()+rect.get_width()/1.10, 1.00*h, '%d'%int(h),\n",
    "#                 ha='center', va='bottom')\n",
    "\n",
    "#autolabel(rects1)\n",
    "#autolabel(rects2)"
   ]
  },
  {
   "cell_type": "code",
   "execution_count": null,
   "id": "71c9e68a",
   "metadata": {},
   "outputs": [],
   "source": [
    "#Business case #2\n",
    "#Full Statistical Analysis \n",
    "#Mercedez"
   ]
  },
  {
   "cell_type": "markdown",
   "id": "4219bcd6",
   "metadata": {},
   "source": [
    "Statistical Analysis \n",
    "    - Null hypothesis: There is no difference between the seasonal release date and gross worldwide profits. \n",
    "    - Alternative hypothesis: There is a difference between the seasonal release date and gross worldwide profits, the sample mean for gross worldwide profits is higher in the Summer season than other seasons.\n",
    "    - The why: We are choosing to predict that the Summer season release date for a movie will yeild higher gross worldwide profits, being that people have more free time and therefore plan for more entertainment, as well as seek indoor venues to escape high Summer temperatures. \n",
    "    - We are then choosing to conduct a one-tailed Z-Test to calculate the statistical significance for this one direction (greater than value). \n",
    "    - Our significance level (alpha) is 0.05, indicating a 5% risk of concluding that a difference exists when there is no actual difference."
   ]
  },
  {
   "cell_type": "code",
   "execution_count": 98,
   "id": "d8dd91e8",
   "metadata": {},
   "outputs": [
    {
     "name": "stdout",
     "output_type": "stream",
     "text": [
      "Total profits: 83425075374\n",
      "Sample Mean: 51592157.29178885\n",
      "Sample Number: 682\n",
      "Population Mean: 43356388.302691706\n",
      "Z-Score: 0.19592174593606743\n"
     ]
    }
   ],
   "source": [
    "#Code for z-test statistical analysis \n",
    "#Mercedez, Queen of Stats\n",
    "import scipy.stats as stats\n",
    "from math import sqrt\n",
    "\n",
    "print('Total profits:',gross_worldwide['Summer'])\n",
    "\n",
    "summer_list = []\n",
    "winter_list=[]\n",
    "fall_list=[]\n",
    "spring_list=[]\n",
    "\n",
    "for i in cleaned_df.itertuples():\n",
    "    x= i[7].split(' ')\n",
    "    key = get_season(x)\n",
    "    num = i[9].replace('$','').replace(',','')\n",
    "    if key == 'Summer':\n",
    "        summer_list.append(int(num))\n",
    "    if key == 'Winter':\n",
    "        winter_list.append(int(num))\n",
    "    if key == 'Fall':\n",
    "        fall_list.append(int(num))\n",
    "    if key == 'Spring':\n",
    "        spring_list.append(int(num))\n",
    "        \n",
    "print('Sample Mean:', np.mean(summer_list)) \n",
    "print('Sample Number:', len(summer_list)) \n",
    "\n",
    "x_bar = np.mean(summer_list) #sample mean \n",
    "n = 4 # number of seasons in a year\n",
    "sigma = np.std(summer_list) #sd of population\n",
    "mu = (np.mean(summer_list) + np.mean(winter_list) + np.mean(fall_list) + np.mean(spring_list))/4 # Population mean \n",
    "print('Population Mean:',mu)\n",
    "z = (x_bar - mu)/(sigma/sqrt(n))\n",
    "print('Z-Score:',z)"
   ]
  },
  {
   "cell_type": "code",
   "execution_count": 96,
   "id": "87fd8319",
   "metadata": {},
   "outputs": [
    {
     "data": {
      "text/plain": [
       "0.4223357081585144"
      ]
     },
     "execution_count": 96,
     "metadata": {},
     "output_type": "execute_result"
    }
   ],
   "source": [
    "pval = 1 - stats.norm.cdf(z)\n",
    "pval"
   ]
  },
  {
   "cell_type": "code",
   "execution_count": 102,
   "id": "35a4edc5",
   "metadata": {},
   "outputs": [
    {
     "data": {
      "image/png": "[encoded data removed]",
      "text/plain": [
       "<Figure size 800x550 with 1 Axes>"
      ]
     },
     "metadata": {},
     "output_type": "display_data"
    }
   ],
   "source": [
    "#plot of value on a standard normal distribution\n",
    "import numpy as np\n",
    "import matplotlib.pyplot as plt\n",
    "%matplotlib inline\n",
    "\n",
    "plt.style.use('seaborn')\n",
    "plt.fill_between(x=np.arange(-4,1.19,0.01),\n",
    "                 y1= stats.norm.pdf(np.arange(-4,1.19,0.01)) ,\n",
    "                 facecolor='blue',\n",
    "                 alpha=0.35,\n",
    "                 label= 'Area below z-statistic'\n",
    "                 )\n",
    "\n",
    "plt.fill_between(x=np.arange(1.19,4,0.01), \n",
    "                 y1= stats.norm.pdf(np.arange(1.19,4,0.01)) ,\n",
    "                 facecolor='blue',\n",
    "                 alpha=0.35, \n",
    "                 label= 'Area above z-statistic')\n",
    "plt.legend()\n",
    "plt.title ('z-statistic = 1.19');"
   ]
  }
 ],
 "metadata": {
  "kernelspec": {
   "display_name": "Python 3 (ipykernel)",
   "language": "python",
   "name": "python3"
  },
  "language_info": {
   "codemirror_mode": {
    "name": "ipython",
    "version": 3
   },
   "file_extension": ".py",
   "mimetype": "text/x-python",
   "name": "python",
   "nbconvert_exporter": "python",
   "pygments_lexer": "ipython3",
   "version": "3.9.13"
  }
 },
 "nbformat": 4,
 "nbformat_minor": 5
}
